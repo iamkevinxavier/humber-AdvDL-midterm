{
  "nbformat": 4,
  "nbformat_minor": 0,
  "metadata": {
    "colab": {
      "provenance": [],
      "collapsed_sections": [
        "bNs2RtF-0cpy"
      ],
      "gpuType": "T4"
    },
    "kernelspec": {
      "name": "python3",
      "display_name": "Python 3"
    },
    "language_info": {
      "name": "python"
    },
    "accelerator": "GPU"
  },
  "cells": [
    {
      "cell_type": "markdown",
      "source": [
        "## Optimizers"
      ],
      "metadata": {
        "id": "W2XoRIn4nlKX"
      }
    },
    {
      "cell_type": "markdown",
      "source": [
        "1. **Objective**: Research and investigate to compare the performance of `Adam\n",
        "(Adaptive Moment Estimation)`, `RMSprop (Root Mean Square Prop)`, and\n",
        "`AdamW (Adam with Weight Decay)` optimizers on a feedforward fully\n",
        "connected neural network using the KMNIST dataset.\n",
        "1. **Importance**: Understanding the strengths and weaknesses of different\n",
        "optimization algorithms helps in selecting the right one for specific tasks in\n",
        "deep learning"
      ],
      "metadata": {
        "id": "AX4EYwcwqpe0"
      }
    },
    {
      "cell_type": "code",
      "execution_count": 1,
      "metadata": {
        "colab": {
          "base_uri": "https://localhost:8080/"
        },
        "id": "iH69Kg7pqPIx",
        "outputId": "e441103d-9a53-4776-ae7d-5b1555cb995c"
      },
      "outputs": [
        {
          "output_type": "stream",
          "name": "stdout",
          "text": [
            "Collecting skorch\n",
            "  Downloading skorch-1.0.0-py3-none-any.whl.metadata (11 kB)\n",
            "Requirement already satisfied: numpy>=1.13.3 in /usr/local/lib/python3.10/dist-packages (from skorch) (1.26.4)\n",
            "Requirement already satisfied: scikit-learn>=0.22.0 in /usr/local/lib/python3.10/dist-packages (from skorch) (1.5.2)\n",
            "Requirement already satisfied: scipy>=1.1.0 in /usr/local/lib/python3.10/dist-packages (from skorch) (1.13.1)\n",
            "Requirement already satisfied: tabulate>=0.7.7 in /usr/local/lib/python3.10/dist-packages (from skorch) (0.9.0)\n",
            "Requirement already satisfied: tqdm>=4.14.0 in /usr/local/lib/python3.10/dist-packages (from skorch) (4.66.5)\n",
            "Requirement already satisfied: joblib>=1.2.0 in /usr/local/lib/python3.10/dist-packages (from scikit-learn>=0.22.0->skorch) (1.4.2)\n",
            "Requirement already satisfied: threadpoolctl>=3.1.0 in /usr/local/lib/python3.10/dist-packages (from scikit-learn>=0.22.0->skorch) (3.5.0)\n",
            "Downloading skorch-1.0.0-py3-none-any.whl (239 kB)\n",
            "\u001b[?25l   \u001b[90m━━━━━━━━━━━━━━━━━━━━━━━━━━━━━━━━━━━━━━━━\u001b[0m \u001b[32m0.0/239.4 kB\u001b[0m \u001b[31m?\u001b[0m eta \u001b[36m-:--:--\u001b[0m\r\u001b[2K   \u001b[90m━━━━━━━━━━━━━━━━━━━━━━━━━━━━━━━━━━━━━━━━\u001b[0m \u001b[32m239.4/239.4 kB\u001b[0m \u001b[31m21.7 MB/s\u001b[0m eta \u001b[36m0:00:00\u001b[0m\n",
            "\u001b[?25hInstalling collected packages: skorch\n",
            "Successfully installed skorch-1.0.0\n"
          ]
        }
      ],
      "source": [
        "import torch\n",
        "import torch.nn as nn\n",
        "import torch.optim as optim\n",
        "import torch.nn.functional as F\n",
        "from torch.utils.data import DataLoader\n",
        "from torchvision import datasets, transforms\n",
        "\n",
        "import numpy as np\n",
        "import pandas as pd\n",
        "import matplotlib.pyplot as plt\n",
        "import zipfile\n",
        "import os\n",
        "import time\n",
        "plt.style.use('dark_background')\n",
        "dash_lines = \"-\"*80\n",
        "\n",
        "!pip install skorch"
      ]
    },
    {
      "cell_type": "markdown",
      "source": [
        "## Notebook Guide\n",
        "1. Github load latest files - `git clone`\n",
        "1. Initialize `constants`\n",
        "1. Grid/Randomized Search on Optimizer's params\n",
        "1. Train - `NN` on Best `Optimizer params*`\n",
        "1. Test - `NN` on Hold-out Testset\n",
        "1. Save `model` & `results`"
      ],
      "metadata": {
        "id": "2yG3aESNlAmT"
      }
    },
    {
      "cell_type": "markdown",
      "source": [
        "## Step 1. Github sync"
      ],
      "metadata": {
        "id": "bwStY_lAzFQg"
      }
    },
    {
      "cell_type": "code",
      "source": [
        "#Github clone\n",
        "!git clone https://github.com/iamkevinxavier/humber-AdvDL-midterm.git"
      ],
      "metadata": {
        "colab": {
          "base_uri": "https://localhost:8080/"
        },
        "id": "aHZFJmWBsrNS",
        "outputId": "10c45aa7-2e93-4035-8ce6-fc06da5a106e"
      },
      "execution_count": 2,
      "outputs": [
        {
          "output_type": "stream",
          "name": "stdout",
          "text": [
            "Cloning into 'humber-AdvDL-midterm'...\n",
            "remote: Enumerating objects: 29, done.\u001b[K\n",
            "remote: Counting objects: 100% (29/29), done.\u001b[K\n",
            "remote: Compressing objects: 100% (26/26), done.\u001b[K\n",
            "remote: Total 29 (delta 7), reused 7 (delta 1), pack-reused 0 (from 0)\u001b[K\n",
            "Receiving objects: 100% (29/29), 1.24 MiB | 16.11 MiB/s, done.\n",
            "Resolving deltas: 100% (7/7), done.\n",
            "Downloading Dataset/kmnist_preprocessed.zip (149 MB)\n",
            "Error downloading object: Dataset/kmnist_preprocessed.zip (a42a9ef): Smudge error: Error downloading Dataset/kmnist_preprocessed.zip (a42a9ef04ed3b62ee223d1b7c61eee61d6bbbfb47a2cd38e178aeaf147dbafcc): batch response: This repository is over its data quota. Account responsible for LFS bandwidth should purchase more data packs to restore access.\n",
            "\n",
            "Errors logged to /content/humber-AdvDL-midterm/.git/lfs/logs/20241019T030331.379514563.log\n",
            "Use `git lfs logs last` to view the log.\n",
            "error: external filter 'git-lfs filter-process' failed\n",
            "fatal: Dataset/kmnist_preprocessed.zip: smudge filter lfs failed\n",
            "warning: Clone succeeded, but checkout failed.\n",
            "You can inspect what was checked out with 'git status'\n",
            "and retry with 'git restore --source=HEAD :/'\n",
            "\n"
          ]
        }
      ]
    },
    {
      "cell_type": "code",
      "source": [
        "import kagglehub\n",
        "\n",
        "# Download latest version\n",
        "path = kagglehub.dataset_download(\"iamkevinxavier/kmnist-standardized\")\n",
        "\n",
        "print(\"Path to dataset files:\", path)"
      ],
      "metadata": {
        "colab": {
          "base_uri": "https://localhost:8080/"
        },
        "id": "_41eCVQZbwNF",
        "outputId": "cccc0a73-59bf-40ed-88cf-7dd32ffe41a1"
      },
      "execution_count": 3,
      "outputs": [
        {
          "output_type": "stream",
          "name": "stdout",
          "text": [
            "Warning: Looks like you're using an outdated `kagglehub` version, please consider updating (latest version: 0.3.3)\n",
            "Downloading from https://www.kaggle.com/api/v1/datasets/download/iamkevinxavier/kmnist-standardized?dataset_version_number=1...\n"
          ]
        },
        {
          "output_type": "stream",
          "name": "stderr",
          "text": [
            "100%|██████████| 142M/142M [00:08<00:00, 17.0MB/s]"
          ]
        },
        {
          "output_type": "stream",
          "name": "stdout",
          "text": [
            "Extracting files...\n"
          ]
        },
        {
          "output_type": "stream",
          "name": "stderr",
          "text": [
            "\n"
          ]
        },
        {
          "output_type": "stream",
          "name": "stdout",
          "text": [
            "Path to dataset files: /root/.cache/kagglehub/datasets/iamkevinxavier/kmnist-standardized/versions/1\n"
          ]
        }
      ]
    },
    {
      "cell_type": "markdown",
      "source": [
        "## Load Preprocessed Data\n",
        "1. Standarized\n",
        "1. train/val/test : 60/10/10"
      ],
      "metadata": {
        "id": "fOwrQF9wwTG6"
      }
    },
    {
      "cell_type": "code",
      "source": [
        "#Load KMNIST preprocessed data from folder\n",
        "file_path = 'humber-AdvDL-midterm/Dataset/kmnist_preprocessed.zip'\n",
        "extract_to = './KMNIST_Dataset'\n",
        "with zipfile.ZipFile(file_path, 'r') as zip_ref:\n",
        "  zip_ref.extractall(extract_to)"
      ],
      "metadata": {
        "id": "5PwDPVlUsCSy"
      },
      "execution_count": null,
      "outputs": []
    },
    {
      "cell_type": "code",
      "source": [
        "extract_to = path\n",
        "train_file_path = os.path.join(extract_to, 'kmnist_train_preprocessed.npz')\n",
        "val_file_path = os.path.join(extract_to, 'kmnist_val_preprocessed.npz')\n",
        "test_file_path = os.path.join(extract_to, 'kmnist_test_preprocessed.npz')"
      ],
      "metadata": {
        "id": "pvII5Xu8tm6I"
      },
      "execution_count": 4,
      "outputs": []
    },
    {
      "cell_type": "code",
      "source": [
        "#datasets paths\n",
        "train_file_path"
      ],
      "metadata": {
        "colab": {
          "base_uri": "https://localhost:8080/",
          "height": 36
        },
        "id": "KtRYlOD9cdKD",
        "outputId": "d73c6561-9c8e-496e-cf23-46af20973c6f"
      },
      "execution_count": 5,
      "outputs": [
        {
          "output_type": "execute_result",
          "data": {
            "text/plain": [
              "'/root/.cache/kagglehub/datasets/iamkevinxavier/kmnist-standardized/versions/1/kmnist_train_preprocessed.npz'"
            ],
            "application/vnd.google.colaboratory.intrinsic+json": {
              "type": "string"
            }
          },
          "metadata": {},
          "execution_count": 5
        }
      ]
    },
    {
      "cell_type": "markdown",
      "source": [
        "## Step 2. Model Architecture"
      ],
      "metadata": {
        "id": "4B3HVIY1ymRh"
      }
    },
    {
      "cell_type": "code",
      "source": [
        "class NeuralNet(nn.Module):\n",
        "  def __init__(self):\n",
        "    super(NeuralNet, self).__init__()\n",
        "    self.fc1 = nn.Flatten()\n",
        "    self.fc2 = nn.Linear(784, 128, dtype=torch.float64)\n",
        "    self.fc3 = nn.ReLU()\n",
        "    self.fc4 = nn.Linear(128, 64, dtype=torch.float64)\n",
        "    self.fc5 = nn.ReLU()\n",
        "    self.fc6 = nn.Linear(64, 10, dtype=torch.float64)\n",
        "    self.fc7 = nn.Softmax(dim=1)\n",
        "\n",
        "  def forward(self, x):\n",
        "    x = self.fc1(x)\n",
        "    x = self.fc2(x)\n",
        "    x = self.fc3(x)\n",
        "    x = self.fc4(x)\n",
        "    x = self.fc5(x)\n",
        "    x = self.fc6(x)\n",
        "    x = self.fc7(x)\n",
        "    return x\n",
        "\n",
        "model_nn = NeuralNet()"
      ],
      "metadata": {
        "id": "yKrlUP3MJg9D"
      },
      "execution_count": 35,
      "outputs": []
    },
    {
      "cell_type": "code",
      "source": [
        "#constant params*\n",
        "learning_rate = 1e-3\n",
        "batch_size = 64\n",
        "num_epochs = 21\n",
        "lossfunc = nn.CrossEntropyLoss()\n",
        "\n",
        "#grid search params*\n",
        "n_iter = 10\n",
        "cv = 5"
      ],
      "metadata": {
        "id": "mIuW6cc02k-H"
      },
      "execution_count": 9,
      "outputs": []
    },
    {
      "cell_type": "markdown",
      "source": [
        "## Step 3. Grid Search for Optimizers Parameters"
      ],
      "metadata": {
        "id": "b-cAnIydtwz4"
      }
    },
    {
      "cell_type": "code",
      "source": [
        "from sklearn.model_selection import RandomizedSearchCV, GridSearchCV\n",
        "from skorch import NeuralNetClassifier"
      ],
      "metadata": {
        "id": "7Vptjdnwq0K4"
      },
      "execution_count": 10,
      "outputs": []
    },
    {
      "cell_type": "markdown",
      "source": [
        "### define params*"
      ],
      "metadata": {
        "id": "7ibwJZu4lv_J"
      }
    },
    {
      "cell_type": "code",
      "source": [
        "#search params* Optimizer\n",
        "param_grid = {\n",
        "    'optimizer__lr': [1e-5, 1e-4, 1e-3],  # Learning rate\n",
        "    'optimizer__weight_decay': [1e-5, 1e-4, 1e-3],  # Weight decay\n",
        "    'optimizer__betas': [(0.9, 0.999), (0.95, 0.999), (0.99, 0.999)],  # Tuple of β1 and β2\n",
        "    'optimizer__eps': [1e-8, 1e-7, 1e-6]  # Small constant to prevent division by zero\n",
        "}"
      ],
      "metadata": {
        "id": "KB-1Z10s3Vke"
      },
      "execution_count": 11,
      "outputs": []
    },
    {
      "cell_type": "code",
      "source": [
        "def load_data():\n",
        "  train_data = np.load(train_file_path)\n",
        "  val_data = np.load(val_file_path)\n",
        "  X = np.concatenate([train_data['images'], val_data['images']], axis=0)\n",
        "  y = np.concatenate([train_data['labels'], val_data['labels']], axis=0)\n",
        "  X = torch.tensor(X, dtype=torch.float64)\n",
        "  y = torch.tensor(y, dtype=torch.long)\n",
        "  print(\"Train images: \", X.shape)\n",
        "  print(\"Train label: \", y.shape)\n",
        "  return X, y"
      ],
      "metadata": {
        "id": "5OxI190JOZjY"
      },
      "execution_count": 12,
      "outputs": []
    },
    {
      "cell_type": "code",
      "source": [
        "#check device\n",
        "device = torch.device(\"cuda\" if torch.cuda.is_available() else \"cpu\")\n",
        "print(f'Device: {device}')\n",
        "\n",
        "#wrapper to skorch nn for compatibility with scikit API\n",
        "model = NeuralNetClassifier(\n",
        "    module = NeuralNet,\n",
        "    criterion = nn.CrossEntropyLoss,\n",
        "    optimizer = optim.AdamW, #change optimizer\n",
        "    max_epochs = num_epochs,\n",
        "    batch_size = batch_size,\n",
        "    device = device,\n",
        "    verbose = False\n",
        ")\n",
        "\n",
        "#initializing search\n",
        "grid = RandomizedSearchCV(\n",
        "    estimator = model,\n",
        "    param_distributions = param_grid,\n",
        "    n_jobs = -1,\n",
        "    n_iter = n_iter,\n",
        "    cv = cv #KFold\n",
        ")\n",
        "\n",
        "#load data\n",
        "X, y = load_data()\n",
        "\n",
        "#fit\n",
        "start_time = time.time()\n",
        "grid_result = grid.fit(X, y)\n",
        "end_time = time.time()\n",
        "print(f'Training Time: {end_time - start_time:.2f} seconds')\n",
        "\n",
        "#summarize\n",
        "print(f\"Grid Search -> cv: {3}, epochs: {num_epochs}, batch_size: {batch_size}\")\n",
        "print(dash_lines)\n",
        "print(\"Best: %f using %s\" % (grid_result.best_score_, grid_result.best_params_))\n",
        "print(dash_lines)\n",
        "means = grid_result.cv_results_['mean_test_score']\n",
        "stds = grid_result.cv_results_['std_test_score']\n",
        "params = grid_result.cv_results_['params']\n",
        "for mean, stdev, param in zip(means, stds, params):\n",
        "    print(\"%f (%f) with: %r\" % (mean, stdev, param))"
      ],
      "metadata": {
        "colab": {
          "base_uri": "https://localhost:8080/"
        },
        "id": "f-9ynEOEMP26",
        "outputId": "6095c20b-1d82-4f93-a2e2-b47554ed8053"
      },
      "execution_count": 13,
      "outputs": [
        {
          "output_type": "stream",
          "name": "stdout",
          "text": [
            "Device: cuda\n",
            "Train images:  torch.Size([60000, 28, 28])\n",
            "Train label:  torch.Size([60000])\n",
            "Training Time: 1036.75 seconds\n",
            "Grid Search -> cv: 3, epochs: 21, batch_size: 64\n",
            "--------------------------------------------------------------------------------\n",
            "Best: 0.932817 using {'optimizer__weight_decay': 1e-05, 'optimizer__lr': 0.001, 'optimizer__eps': 1e-08, 'optimizer__betas': (0.9, 0.999)}\n",
            "--------------------------------------------------------------------------------\n",
            "0.932817 (0.001214) with: {'optimizer__weight_decay': 1e-05, 'optimizer__lr': 0.001, 'optimizer__eps': 1e-08, 'optimizer__betas': (0.9, 0.999)}\n",
            "0.926983 (0.003998) with: {'optimizer__weight_decay': 0.001, 'optimizer__lr': 0.001, 'optimizer__eps': 1e-08, 'optimizer__betas': (0.99, 0.999)}\n",
            "0.926550 (0.013616) with: {'optimizer__weight_decay': 0.0001, 'optimizer__lr': 0.001, 'optimizer__eps': 1e-07, 'optimizer__betas': (0.95, 0.999)}\n",
            "0.925050 (0.014930) with: {'optimizer__weight_decay': 0.001, 'optimizer__lr': 0.001, 'optimizer__eps': 1e-08, 'optimizer__betas': (0.95, 0.999)}\n",
            "0.815450 (0.002265) with: {'optimizer__weight_decay': 0.001, 'optimizer__lr': 1e-05, 'optimizer__eps': 1e-07, 'optimizer__betas': (0.99, 0.999)}\n",
            "0.926333 (0.002533) with: {'optimizer__weight_decay': 0.001, 'optimizer__lr': 0.001, 'optimizer__eps': 1e-07, 'optimizer__betas': (0.95, 0.999)}\n",
            "0.811083 (0.008589) with: {'optimizer__weight_decay': 1e-05, 'optimizer__lr': 1e-05, 'optimizer__eps': 1e-06, 'optimizer__betas': (0.99, 0.999)}\n",
            "0.810683 (0.006527) with: {'optimizer__weight_decay': 0.0001, 'optimizer__lr': 1e-05, 'optimizer__eps': 1e-06, 'optimizer__betas': (0.9, 0.999)}\n",
            "0.814833 (0.002534) with: {'optimizer__weight_decay': 0.001, 'optimizer__lr': 1e-05, 'optimizer__eps': 1e-06, 'optimizer__betas': (0.99, 0.999)}\n",
            "0.891433 (0.009866) with: {'optimizer__weight_decay': 1e-05, 'optimizer__lr': 0.0001, 'optimizer__eps': 1e-07, 'optimizer__betas': (0.95, 0.999)}\n"
          ]
        }
      ]
    },
    {
      "cell_type": "code",
      "source": [
        "#store grid search results in DataFrame\n",
        "results_df = pd.DataFrame(grid_result.cv_results_)\n",
        "results_df = pd.concat([pd.DataFrame(results_df['params'].tolist()),\n",
        "                        results_df[['mean_test_score', 'std_test_score']]], axis=1)\n",
        "display(results_df)\n",
        "results_df.to_csv(f'AdamW_grid_search_results.csv', index=True, header=True)"
      ],
      "metadata": {
        "colab": {
          "base_uri": "https://localhost:8080/",
          "height": 363
        },
        "id": "isl7qKZHPRXG",
        "outputId": "d32d4acd-fc5b-4d08-8606-4e3a18c59548"
      },
      "execution_count": 15,
      "outputs": [
        {
          "output_type": "display_data",
          "data": {
            "text/plain": [
              "   optimizer__weight_decay  optimizer__lr  optimizer__eps optimizer__betas  \\\n",
              "0                  0.00001        0.00100    1.000000e-08     (0.9, 0.999)   \n",
              "1                  0.00100        0.00100    1.000000e-08    (0.99, 0.999)   \n",
              "2                  0.00010        0.00100    1.000000e-07    (0.95, 0.999)   \n",
              "3                  0.00100        0.00100    1.000000e-08    (0.95, 0.999)   \n",
              "4                  0.00100        0.00001    1.000000e-07    (0.99, 0.999)   \n",
              "5                  0.00100        0.00100    1.000000e-07    (0.95, 0.999)   \n",
              "6                  0.00001        0.00001    1.000000e-06    (0.99, 0.999)   \n",
              "7                  0.00010        0.00001    1.000000e-06     (0.9, 0.999)   \n",
              "8                  0.00100        0.00001    1.000000e-06    (0.99, 0.999)   \n",
              "9                  0.00001        0.00010    1.000000e-07    (0.95, 0.999)   \n",
              "\n",
              "   mean_test_score  std_test_score  \n",
              "0         0.932817        0.001214  \n",
              "1         0.926983        0.003998  \n",
              "2         0.926550        0.013616  \n",
              "3         0.925050        0.014930  \n",
              "4         0.815450        0.002265  \n",
              "5         0.926333        0.002533  \n",
              "6         0.811083        0.008589  \n",
              "7         0.810683        0.006527  \n",
              "8         0.814833        0.002534  \n",
              "9         0.891433        0.009866  "
            ],
            "text/html": [
              "\n",
              "  <div id=\"df-ec666da0-7f0d-4d15-8231-1c9b393d2a13\" class=\"colab-df-container\">\n",
              "    <div>\n",
              "<style scoped>\n",
              "    .dataframe tbody tr th:only-of-type {\n",
              "        vertical-align: middle;\n",
              "    }\n",
              "\n",
              "    .dataframe tbody tr th {\n",
              "        vertical-align: top;\n",
              "    }\n",
              "\n",
              "    .dataframe thead th {\n",
              "        text-align: right;\n",
              "    }\n",
              "</style>\n",
              "<table border=\"1\" class=\"dataframe\">\n",
              "  <thead>\n",
              "    <tr style=\"text-align: right;\">\n",
              "      <th></th>\n",
              "      <th>optimizer__weight_decay</th>\n",
              "      <th>optimizer__lr</th>\n",
              "      <th>optimizer__eps</th>\n",
              "      <th>optimizer__betas</th>\n",
              "      <th>mean_test_score</th>\n",
              "      <th>std_test_score</th>\n",
              "    </tr>\n",
              "  </thead>\n",
              "  <tbody>\n",
              "    <tr>\n",
              "      <th>0</th>\n",
              "      <td>0.00001</td>\n",
              "      <td>0.00100</td>\n",
              "      <td>1.000000e-08</td>\n",
              "      <td>(0.9, 0.999)</td>\n",
              "      <td>0.932817</td>\n",
              "      <td>0.001214</td>\n",
              "    </tr>\n",
              "    <tr>\n",
              "      <th>1</th>\n",
              "      <td>0.00100</td>\n",
              "      <td>0.00100</td>\n",
              "      <td>1.000000e-08</td>\n",
              "      <td>(0.99, 0.999)</td>\n",
              "      <td>0.926983</td>\n",
              "      <td>0.003998</td>\n",
              "    </tr>\n",
              "    <tr>\n",
              "      <th>2</th>\n",
              "      <td>0.00010</td>\n",
              "      <td>0.00100</td>\n",
              "      <td>1.000000e-07</td>\n",
              "      <td>(0.95, 0.999)</td>\n",
              "      <td>0.926550</td>\n",
              "      <td>0.013616</td>\n",
              "    </tr>\n",
              "    <tr>\n",
              "      <th>3</th>\n",
              "      <td>0.00100</td>\n",
              "      <td>0.00100</td>\n",
              "      <td>1.000000e-08</td>\n",
              "      <td>(0.95, 0.999)</td>\n",
              "      <td>0.925050</td>\n",
              "      <td>0.014930</td>\n",
              "    </tr>\n",
              "    <tr>\n",
              "      <th>4</th>\n",
              "      <td>0.00100</td>\n",
              "      <td>0.00001</td>\n",
              "      <td>1.000000e-07</td>\n",
              "      <td>(0.99, 0.999)</td>\n",
              "      <td>0.815450</td>\n",
              "      <td>0.002265</td>\n",
              "    </tr>\n",
              "    <tr>\n",
              "      <th>5</th>\n",
              "      <td>0.00100</td>\n",
              "      <td>0.00100</td>\n",
              "      <td>1.000000e-07</td>\n",
              "      <td>(0.95, 0.999)</td>\n",
              "      <td>0.926333</td>\n",
              "      <td>0.002533</td>\n",
              "    </tr>\n",
              "    <tr>\n",
              "      <th>6</th>\n",
              "      <td>0.00001</td>\n",
              "      <td>0.00001</td>\n",
              "      <td>1.000000e-06</td>\n",
              "      <td>(0.99, 0.999)</td>\n",
              "      <td>0.811083</td>\n",
              "      <td>0.008589</td>\n",
              "    </tr>\n",
              "    <tr>\n",
              "      <th>7</th>\n",
              "      <td>0.00010</td>\n",
              "      <td>0.00001</td>\n",
              "      <td>1.000000e-06</td>\n",
              "      <td>(0.9, 0.999)</td>\n",
              "      <td>0.810683</td>\n",
              "      <td>0.006527</td>\n",
              "    </tr>\n",
              "    <tr>\n",
              "      <th>8</th>\n",
              "      <td>0.00100</td>\n",
              "      <td>0.00001</td>\n",
              "      <td>1.000000e-06</td>\n",
              "      <td>(0.99, 0.999)</td>\n",
              "      <td>0.814833</td>\n",
              "      <td>0.002534</td>\n",
              "    </tr>\n",
              "    <tr>\n",
              "      <th>9</th>\n",
              "      <td>0.00001</td>\n",
              "      <td>0.00010</td>\n",
              "      <td>1.000000e-07</td>\n",
              "      <td>(0.95, 0.999)</td>\n",
              "      <td>0.891433</td>\n",
              "      <td>0.009866</td>\n",
              "    </tr>\n",
              "  </tbody>\n",
              "</table>\n",
              "</div>\n",
              "    <div class=\"colab-df-buttons\">\n",
              "\n",
              "  <div class=\"colab-df-container\">\n",
              "    <button class=\"colab-df-convert\" onclick=\"convertToInteractive('df-ec666da0-7f0d-4d15-8231-1c9b393d2a13')\"\n",
              "            title=\"Convert this dataframe to an interactive table.\"\n",
              "            style=\"display:none;\">\n",
              "\n",
              "  <svg xmlns=\"http://www.w3.org/2000/svg\" height=\"24px\" viewBox=\"0 -960 960 960\">\n",
              "    <path d=\"M120-120v-720h720v720H120Zm60-500h600v-160H180v160Zm220 220h160v-160H400v160Zm0 220h160v-160H400v160ZM180-400h160v-160H180v160Zm440 0h160v-160H620v160ZM180-180h160v-160H180v160Zm440 0h160v-160H620v160Z\"/>\n",
              "  </svg>\n",
              "    </button>\n",
              "\n",
              "  <style>\n",
              "    .colab-df-container {\n",
              "      display:flex;\n",
              "      gap: 12px;\n",
              "    }\n",
              "\n",
              "    .colab-df-convert {\n",
              "      background-color: #E8F0FE;\n",
              "      border: none;\n",
              "      border-radius: 50%;\n",
              "      cursor: pointer;\n",
              "      display: none;\n",
              "      fill: #1967D2;\n",
              "      height: 32px;\n",
              "      padding: 0 0 0 0;\n",
              "      width: 32px;\n",
              "    }\n",
              "\n",
              "    .colab-df-convert:hover {\n",
              "      background-color: #E2EBFA;\n",
              "      box-shadow: 0px 1px 2px rgba(60, 64, 67, 0.3), 0px 1px 3px 1px rgba(60, 64, 67, 0.15);\n",
              "      fill: #174EA6;\n",
              "    }\n",
              "\n",
              "    .colab-df-buttons div {\n",
              "      margin-bottom: 4px;\n",
              "    }\n",
              "\n",
              "    [theme=dark] .colab-df-convert {\n",
              "      background-color: #3B4455;\n",
              "      fill: #D2E3FC;\n",
              "    }\n",
              "\n",
              "    [theme=dark] .colab-df-convert:hover {\n",
              "      background-color: #434B5C;\n",
              "      box-shadow: 0px 1px 3px 1px rgba(0, 0, 0, 0.15);\n",
              "      filter: drop-shadow(0px 1px 2px rgba(0, 0, 0, 0.3));\n",
              "      fill: #FFFFFF;\n",
              "    }\n",
              "  </style>\n",
              "\n",
              "    <script>\n",
              "      const buttonEl =\n",
              "        document.querySelector('#df-ec666da0-7f0d-4d15-8231-1c9b393d2a13 button.colab-df-convert');\n",
              "      buttonEl.style.display =\n",
              "        google.colab.kernel.accessAllowed ? 'block' : 'none';\n",
              "\n",
              "      async function convertToInteractive(key) {\n",
              "        const element = document.querySelector('#df-ec666da0-7f0d-4d15-8231-1c9b393d2a13');\n",
              "        const dataTable =\n",
              "          await google.colab.kernel.invokeFunction('convertToInteractive',\n",
              "                                                    [key], {});\n",
              "        if (!dataTable) return;\n",
              "\n",
              "        const docLinkHtml = 'Like what you see? Visit the ' +\n",
              "          '<a target=\"_blank\" href=https://colab.research.google.com/notebooks/data_table.ipynb>data table notebook</a>'\n",
              "          + ' to learn more about interactive tables.';\n",
              "        element.innerHTML = '';\n",
              "        dataTable['output_type'] = 'display_data';\n",
              "        await google.colab.output.renderOutput(dataTable, element);\n",
              "        const docLink = document.createElement('div');\n",
              "        docLink.innerHTML = docLinkHtml;\n",
              "        element.appendChild(docLink);\n",
              "      }\n",
              "    </script>\n",
              "  </div>\n",
              "\n",
              "\n",
              "<div id=\"df-b280bfd3-40a2-449c-8762-352e999c7af3\">\n",
              "  <button class=\"colab-df-quickchart\" onclick=\"quickchart('df-b280bfd3-40a2-449c-8762-352e999c7af3')\"\n",
              "            title=\"Suggest charts\"\n",
              "            style=\"display:none;\">\n",
              "\n",
              "<svg xmlns=\"http://www.w3.org/2000/svg\" height=\"24px\"viewBox=\"0 0 24 24\"\n",
              "     width=\"24px\">\n",
              "    <g>\n",
              "        <path d=\"M19 3H5c-1.1 0-2 .9-2 2v14c0 1.1.9 2 2 2h14c1.1 0 2-.9 2-2V5c0-1.1-.9-2-2-2zM9 17H7v-7h2v7zm4 0h-2V7h2v10zm4 0h-2v-4h2v4z\"/>\n",
              "    </g>\n",
              "</svg>\n",
              "  </button>\n",
              "\n",
              "<style>\n",
              "  .colab-df-quickchart {\n",
              "      --bg-color: #E8F0FE;\n",
              "      --fill-color: #1967D2;\n",
              "      --hover-bg-color: #E2EBFA;\n",
              "      --hover-fill-color: #174EA6;\n",
              "      --disabled-fill-color: #AAA;\n",
              "      --disabled-bg-color: #DDD;\n",
              "  }\n",
              "\n",
              "  [theme=dark] .colab-df-quickchart {\n",
              "      --bg-color: #3B4455;\n",
              "      --fill-color: #D2E3FC;\n",
              "      --hover-bg-color: #434B5C;\n",
              "      --hover-fill-color: #FFFFFF;\n",
              "      --disabled-bg-color: #3B4455;\n",
              "      --disabled-fill-color: #666;\n",
              "  }\n",
              "\n",
              "  .colab-df-quickchart {\n",
              "    background-color: var(--bg-color);\n",
              "    border: none;\n",
              "    border-radius: 50%;\n",
              "    cursor: pointer;\n",
              "    display: none;\n",
              "    fill: var(--fill-color);\n",
              "    height: 32px;\n",
              "    padding: 0;\n",
              "    width: 32px;\n",
              "  }\n",
              "\n",
              "  .colab-df-quickchart:hover {\n",
              "    background-color: var(--hover-bg-color);\n",
              "    box-shadow: 0 1px 2px rgba(60, 64, 67, 0.3), 0 1px 3px 1px rgba(60, 64, 67, 0.15);\n",
              "    fill: var(--button-hover-fill-color);\n",
              "  }\n",
              "\n",
              "  .colab-df-quickchart-complete:disabled,\n",
              "  .colab-df-quickchart-complete:disabled:hover {\n",
              "    background-color: var(--disabled-bg-color);\n",
              "    fill: var(--disabled-fill-color);\n",
              "    box-shadow: none;\n",
              "  }\n",
              "\n",
              "  .colab-df-spinner {\n",
              "    border: 2px solid var(--fill-color);\n",
              "    border-color: transparent;\n",
              "    border-bottom-color: var(--fill-color);\n",
              "    animation:\n",
              "      spin 1s steps(1) infinite;\n",
              "  }\n",
              "\n",
              "  @keyframes spin {\n",
              "    0% {\n",
              "      border-color: transparent;\n",
              "      border-bottom-color: var(--fill-color);\n",
              "      border-left-color: var(--fill-color);\n",
              "    }\n",
              "    20% {\n",
              "      border-color: transparent;\n",
              "      border-left-color: var(--fill-color);\n",
              "      border-top-color: var(--fill-color);\n",
              "    }\n",
              "    30% {\n",
              "      border-color: transparent;\n",
              "      border-left-color: var(--fill-color);\n",
              "      border-top-color: var(--fill-color);\n",
              "      border-right-color: var(--fill-color);\n",
              "    }\n",
              "    40% {\n",
              "      border-color: transparent;\n",
              "      border-right-color: var(--fill-color);\n",
              "      border-top-color: var(--fill-color);\n",
              "    }\n",
              "    60% {\n",
              "      border-color: transparent;\n",
              "      border-right-color: var(--fill-color);\n",
              "    }\n",
              "    80% {\n",
              "      border-color: transparent;\n",
              "      border-right-color: var(--fill-color);\n",
              "      border-bottom-color: var(--fill-color);\n",
              "    }\n",
              "    90% {\n",
              "      border-color: transparent;\n",
              "      border-bottom-color: var(--fill-color);\n",
              "    }\n",
              "  }\n",
              "</style>\n",
              "\n",
              "  <script>\n",
              "    async function quickchart(key) {\n",
              "      const quickchartButtonEl =\n",
              "        document.querySelector('#' + key + ' button');\n",
              "      quickchartButtonEl.disabled = true;  // To prevent multiple clicks.\n",
              "      quickchartButtonEl.classList.add('colab-df-spinner');\n",
              "      try {\n",
              "        const charts = await google.colab.kernel.invokeFunction(\n",
              "            'suggestCharts', [key], {});\n",
              "      } catch (error) {\n",
              "        console.error('Error during call to suggestCharts:', error);\n",
              "      }\n",
              "      quickchartButtonEl.classList.remove('colab-df-spinner');\n",
              "      quickchartButtonEl.classList.add('colab-df-quickchart-complete');\n",
              "    }\n",
              "    (() => {\n",
              "      let quickchartButtonEl =\n",
              "        document.querySelector('#df-b280bfd3-40a2-449c-8762-352e999c7af3 button');\n",
              "      quickchartButtonEl.style.display =\n",
              "        google.colab.kernel.accessAllowed ? 'block' : 'none';\n",
              "    })();\n",
              "  </script>\n",
              "</div>\n",
              "\n",
              "  <div id=\"id_0e17c702-ad5f-4db2-86e0-b94f9ab66671\">\n",
              "    <style>\n",
              "      .colab-df-generate {\n",
              "        background-color: #E8F0FE;\n",
              "        border: none;\n",
              "        border-radius: 50%;\n",
              "        cursor: pointer;\n",
              "        display: none;\n",
              "        fill: #1967D2;\n",
              "        height: 32px;\n",
              "        padding: 0 0 0 0;\n",
              "        width: 32px;\n",
              "      }\n",
              "\n",
              "      .colab-df-generate:hover {\n",
              "        background-color: #E2EBFA;\n",
              "        box-shadow: 0px 1px 2px rgba(60, 64, 67, 0.3), 0px 1px 3px 1px rgba(60, 64, 67, 0.15);\n",
              "        fill: #174EA6;\n",
              "      }\n",
              "\n",
              "      [theme=dark] .colab-df-generate {\n",
              "        background-color: #3B4455;\n",
              "        fill: #D2E3FC;\n",
              "      }\n",
              "\n",
              "      [theme=dark] .colab-df-generate:hover {\n",
              "        background-color: #434B5C;\n",
              "        box-shadow: 0px 1px 3px 1px rgba(0, 0, 0, 0.15);\n",
              "        filter: drop-shadow(0px 1px 2px rgba(0, 0, 0, 0.3));\n",
              "        fill: #FFFFFF;\n",
              "      }\n",
              "    </style>\n",
              "    <button class=\"colab-df-generate\" onclick=\"generateWithVariable('results_df')\"\n",
              "            title=\"Generate code using this dataframe.\"\n",
              "            style=\"display:none;\">\n",
              "\n",
              "  <svg xmlns=\"http://www.w3.org/2000/svg\" height=\"24px\"viewBox=\"0 0 24 24\"\n",
              "       width=\"24px\">\n",
              "    <path d=\"M7,19H8.4L18.45,9,17,7.55,7,17.6ZM5,21V16.75L18.45,3.32a2,2,0,0,1,2.83,0l1.4,1.43a1.91,1.91,0,0,1,.58,1.4,1.91,1.91,0,0,1-.58,1.4L9.25,21ZM18.45,9,17,7.55Zm-12,3A5.31,5.31,0,0,0,4.9,8.1,5.31,5.31,0,0,0,1,6.5,5.31,5.31,0,0,0,4.9,4.9,5.31,5.31,0,0,0,6.5,1,5.31,5.31,0,0,0,8.1,4.9,5.31,5.31,0,0,0,12,6.5,5.46,5.46,0,0,0,6.5,12Z\"/>\n",
              "  </svg>\n",
              "    </button>\n",
              "    <script>\n",
              "      (() => {\n",
              "      const buttonEl =\n",
              "        document.querySelector('#id_0e17c702-ad5f-4db2-86e0-b94f9ab66671 button.colab-df-generate');\n",
              "      buttonEl.style.display =\n",
              "        google.colab.kernel.accessAllowed ? 'block' : 'none';\n",
              "\n",
              "      buttonEl.onclick = () => {\n",
              "        google.colab.notebook.generateWithVariable('results_df');\n",
              "      }\n",
              "      })();\n",
              "    </script>\n",
              "  </div>\n",
              "\n",
              "    </div>\n",
              "  </div>\n"
            ],
            "application/vnd.google.colaboratory.intrinsic+json": {
              "type": "dataframe",
              "variable_name": "results_df",
              "summary": "{\n  \"name\": \"results_df\",\n  \"rows\": 10,\n  \"fields\": [\n    {\n      \"column\": \"optimizer__weight_decay\",\n      \"properties\": {\n        \"dtype\": \"number\",\n        \"std\": 0.0005038749844951623,\n        \"min\": 1e-05,\n        \"max\": 0.001,\n        \"num_unique_values\": 3,\n        \"samples\": [\n          1e-05,\n          0.001,\n          0.0001\n        ],\n        \"semantic_type\": \"\",\n        \"description\": \"\"\n      }\n    },\n    {\n      \"column\": \"optimizer__lr\",\n      \"properties\": {\n        \"dtype\": \"number\",\n        \"std\": 0.0005129912279951774,\n        \"min\": 1e-05,\n        \"max\": 0.001,\n        \"num_unique_values\": 3,\n        \"samples\": [\n          0.001,\n          1e-05,\n          0.0001\n        ],\n        \"semantic_type\": \"\",\n        \"description\": \"\"\n      }\n    },\n    {\n      \"column\": \"optimizer__eps\",\n      \"properties\": {\n        \"dtype\": \"number\",\n        \"std\": 4.5507142296567027e-07,\n        \"min\": 1e-08,\n        \"max\": 1e-06,\n        \"num_unique_values\": 3,\n        \"samples\": [\n          1e-08,\n          1e-07,\n          1e-06\n        ],\n        \"semantic_type\": \"\",\n        \"description\": \"\"\n      }\n    },\n    {\n      \"column\": \"optimizer__betas\",\n      \"properties\": {\n        \"dtype\": \"category\",\n        \"num_unique_values\": 3,\n        \"samples\": [\n          [\n            0.9,\n            0.999\n          ],\n          [\n            0.99,\n            0.999\n          ],\n          [\n            0.95,\n            0.999\n          ]\n        ],\n        \"semantic_type\": \"\",\n        \"description\": \"\"\n      }\n    },\n    {\n      \"column\": \"mean_test_score\",\n      \"properties\": {\n        \"dtype\": \"number\",\n        \"std\": 0.05715802712493506,\n        \"min\": 0.8106833333333333,\n        \"max\": 0.9328166666666666,\n        \"num_unique_values\": 10,\n        \"samples\": [\n          0.8148333333333334,\n          0.9269833333333333,\n          0.9263333333333333\n        ],\n        \"semantic_type\": \"\",\n        \"description\": \"\"\n      }\n    },\n    {\n      \"column\": \"std_test_score\",\n      \"properties\": {\n        \"dtype\": \"number\",\n        \"std\": 0.00495405221065951,\n        \"min\": 0.0012140382567649587,\n        \"max\": 0.014930003348961458,\n        \"num_unique_values\": 10,\n        \"samples\": [\n          0.002533881519636532,\n          0.003998402458760532,\n          0.002533223681837488\n        ],\n        \"semantic_type\": \"\",\n        \"description\": \"\"\n      }\n    }\n  ]\n}"
            }
          },
          "metadata": {}
        }
      ]
    },
    {
      "cell_type": "markdown",
      "source": [
        "# Step 4. Train `NN` on `Best Parameters`"
      ],
      "metadata": {
        "id": "dr6-imef3iN6"
      }
    },
    {
      "cell_type": "markdown",
      "source": [
        "## K-Fold"
      ],
      "metadata": {
        "id": "t5LsXMj9OFqQ"
      }
    },
    {
      "cell_type": "code",
      "source": [
        "from sklearn.model_selection import KFold\n",
        "from torch.utils.data import Subset\n",
        "from torch.utils.data import Dataset"
      ],
      "metadata": {
        "id": "l3OxD8FkHReO"
      },
      "execution_count": 16,
      "outputs": []
    },
    {
      "cell_type": "markdown",
      "source": [
        "### set best params*"
      ],
      "metadata": {
        "id": "0cqozbZBnSXL"
      }
    },
    {
      "cell_type": "code",
      "source": [
        "#best parameters obtained from grid search\n",
        "optimizer = optim.AdamW(params=model_nn.parameters(),\n",
        "                       lr=grid_result.best_params_['optimizer__lr'],\n",
        "                       eps=grid_result.best_params_['optimizer__eps'],\n",
        "                       betas=grid_result.best_params_['optimizer__betas'],\n",
        "                       weight_decay=grid_result.best_params_['optimizer__weight_decay'])"
      ],
      "metadata": {
        "id": "scvOY-kIpvKe"
      },
      "execution_count": 36,
      "outputs": []
    },
    {
      "cell_type": "code",
      "source": [
        "#Load npz files - alter way\n",
        "class NPZDataset(Dataset):\n",
        "    def __init__(self, npz_file):\n",
        "        data = np.load(npz_file)\n",
        "        self.images = data['images']\n",
        "        self.labels = data['labels']\n",
        "\n",
        "    def __len__(self):\n",
        "        return len(self.images)\n",
        "\n",
        "    def __getitem__(self, idx):\n",
        "        image = self.images[idx]\n",
        "        label = self.labels[idx]\n",
        "        return image, label\n",
        "\n",
        "#load data\n",
        "train_data = NPZDataset(train_file_path)\n",
        "val_data = NPZDataset(val_file_path)\n",
        "test_data = NPZDataset(test_file_path)\n",
        "\n",
        "#batch loader\n",
        "train_loader = DataLoader(train_data, batch_size=batch_size, shuffle=True)\n",
        "val_loader = DataLoader(val_data, shuffle=False)\n",
        "test_loader = DataLoader(test_data, shuffle=False)\n",
        "\n",
        "#Train + Validation sets\n",
        "dataset = train_data + val_data\n",
        "print(len(dataset))"
      ],
      "metadata": {
        "id": "Lbz3bApo1_5n",
        "colab": {
          "base_uri": "https://localhost:8080/"
        },
        "outputId": "099863af-9990-4837-a01b-9cc06eb9c2e8"
      },
      "execution_count": 37,
      "outputs": [
        {
          "output_type": "stream",
          "name": "stdout",
          "text": [
            "60000\n"
          ]
        }
      ]
    },
    {
      "cell_type": "code",
      "source": [
        "def model_training_loop(kfold:int, model, train_loader:DataLoader, val_loader:DataLoader):\n",
        "  #Training loop\n",
        "  losses = torch.zeros(num_epochs)\n",
        "  trainAcc = []\n",
        "  valAcc = []\n",
        "  trainTime = []\n",
        "\n",
        "  print(f\"K-Fold: {kfold}\")\n",
        "  print(f\"Train Batches: {len(train_loader):>6}\", f\"Validation Batches: {len(val_loader):>6}\")\n",
        "  print(dash_lines)\n",
        "\n",
        "  #epochs\n",
        "  for epoch in range(num_epochs):\n",
        "    batchLoss=[]\n",
        "    batchtrainAcc=[]\n",
        "    batchvalAcc=[]\n",
        "\n",
        "    #training\n",
        "    start_time = time.time()\n",
        "    model.to(device)\n",
        "    model.train()\n",
        "    for batch_idx, (images, labels) in enumerate(train_loader):\n",
        "      images = images.to(device)\n",
        "      labels = labels.to(device)\n",
        "\n",
        "      #forwardpass\n",
        "      ypred = model(images)\n",
        "      #loss\n",
        "      loss = lossfunc(ypred, labels)\n",
        "\n",
        "      #backpass\n",
        "      optimizer.zero_grad()\n",
        "      loss.backward()\n",
        "      optimizer.step()\n",
        "\n",
        "      #storing results\n",
        "      batchLoss.append(loss.item())\n",
        "      ypred = ypred.cpu()\n",
        "      labels = labels.cpu()\n",
        "\n",
        "      # Compute batch accuracy\n",
        "      acc = 100 * torch.mean((torch.argmax(ypred, dim=1) == labels).float())\n",
        "      batchtrainAcc.append(acc)\n",
        "\n",
        "    end_time = time.time()\n",
        "    trainTime.append(end_time - start_time)\n",
        "    # End of batch loop\n",
        "    # Compute average training accuracy and loss for this epoch\n",
        "    trainAcc.append(np.mean(batchtrainAcc))\n",
        "    losses[epoch] = np.mean(batchLoss)\n",
        "\n",
        "    #evaluate on validation set\n",
        "    model.eval()\n",
        "    for batch_idx, (X, y) in enumerate(val_loader):\n",
        "      X = X.to(device)\n",
        "      y = y.to(device)\n",
        "\n",
        "      with torch.no_grad():\n",
        "        ypred = model(X)\n",
        "        ypred = ypred.cpu()\n",
        "        y = y.cpu()\n",
        "\n",
        "        # Compute test accuracy\n",
        "        batchvalAcc.append(100 * torch.mean((torch.argmax(ypred, dim=1) == y).float()))\n",
        "\n",
        "    valAcc.append(np.mean(batchvalAcc))\n",
        "\n",
        "    # Print epoch statistics\n",
        "    print(f'Epoch: {epoch+1:>3}/{num_epochs}, Loss: {loss.item():>6.2f}, Train Accuracy: {trainAcc[-1]:>6.2f}, Validation Accuracy: {valAcc[-1]:>6.2f}')\n",
        "  print(f'Training Time: {np.sum(trainTime):.2f} seconds')\n",
        "  print(dash_lines)\n",
        "\n",
        "  return np.mean(losses.cpu().numpy()), np.mean(trainAcc), np.mean(valAcc), np.sum(trainTime)"
      ],
      "metadata": {
        "id": "CBeM87MqQyoy"
      },
      "execution_count": 38,
      "outputs": []
    },
    {
      "cell_type": "code",
      "source": [
        "## Testing\n",
        "def model_testing(model, test_loader:DataLoader):\n",
        "  model.eval()\n",
        "  with torch.no_grad():\n",
        "    testAcc = []\n",
        "    for X, y in test_loader:\n",
        "      X = X.to(device)\n",
        "      y = y.to(device)\n",
        "      ypred = model(X)\n",
        "      ypred = ypred.cpu()\n",
        "      y = y.cpu()\n",
        "      acc = 100 * torch.mean((torch.argmax(ypred, dim=1) == y).float())\n",
        "      testAcc.append(acc)\n",
        "  return np.mean(testAcc)"
      ],
      "metadata": {
        "id": "jGXcml_hdpgV"
      },
      "execution_count": 39,
      "outputs": []
    },
    {
      "cell_type": "code",
      "source": [
        "device = torch.device(\"cuda\" if torch.cuda.is_available() else \"cpu\")\n",
        "model_nn.to(device)"
      ],
      "metadata": {
        "colab": {
          "base_uri": "https://localhost:8080/"
        },
        "id": "YJ0LxODm_oJc",
        "outputId": "d9dd8bf9-ee82-4c9d-cd39-5cdd99624c5f"
      },
      "execution_count": 40,
      "outputs": [
        {
          "output_type": "execute_result",
          "data": {
            "text/plain": [
              "NeuralNet(\n",
              "  (fc1): Flatten(start_dim=1, end_dim=-1)\n",
              "  (fc2): Linear(in_features=784, out_features=128, bias=True)\n",
              "  (fc3): ReLU()\n",
              "  (fc4): Linear(in_features=128, out_features=64, bias=True)\n",
              "  (fc5): ReLU()\n",
              "  (fc6): Linear(in_features=64, out_features=10, bias=True)\n",
              "  (fc7): Softmax(dim=1)\n",
              ")"
            ]
          },
          "metadata": {},
          "execution_count": 40
        }
      ]
    },
    {
      "cell_type": "markdown",
      "source": [
        "### KFold iter"
      ],
      "metadata": {
        "id": "WHzmhNhGpA2m"
      }
    },
    {
      "cell_type": "code",
      "source": [
        "#KFold\n",
        "kf = KFold(n_splits=cv, shuffle=True, random_state=42)\n",
        "results = pd.DataFrame(columns=['loss', 'trainAcc', 'valAcc', 'trainTime'])\n",
        "\n",
        "#K iter\n",
        "for fold, (train_index, val_index) in enumerate(kf.split(dataset)):\n",
        "    print(\"Train:\", len(train_index), \"Validation:\", len(val_index))\n",
        "\n",
        "    #Subset\n",
        "    train_dataset = Subset(dataset, train_index)\n",
        "    val_dataset = Subset(dataset, val_index)\n",
        "\n",
        "    #Dataloader\n",
        "    train_loader = DataLoader(train_dataset, batch_size=batch_size, shuffle=True)\n",
        "    val_loader = DataLoader(val_dataset, batch_size=batch_size, shuffle=False)\n",
        "\n",
        "    #pass to training loop\n",
        "    loss, trainAcc, valAcc, Traintime = model_training_loop(fold, model_nn, train_loader, val_loader)\n",
        "\n",
        "    #results\n",
        "    results.loc[fold] = [loss, trainAcc, valAcc, Traintime]"
      ],
      "metadata": {
        "colab": {
          "base_uri": "https://localhost:8080/"
        },
        "id": "HMgTjWxSOiPB",
        "outputId": "00638f24-f5ce-4fbb-98d0-18752df1f7d7"
      },
      "execution_count": 41,
      "outputs": [
        {
          "output_type": "stream",
          "name": "stdout",
          "text": [
            "Train: 40000 Validation: 20000\n",
            "K-Fold: 0\n",
            "Train Batches:    625 Validation Batches:    313\n",
            "--------------------------------------------------------------------------------\n",
            "Epoch:   1/21, Loss:   1.64, Train Accuracy:  81.38, Validation Accuracy:  85.79\n",
            "Epoch:   2/21, Loss:   1.52, Train Accuracy:  88.42, Validation Accuracy:  88.17\n",
            "Epoch:   3/21, Loss:   1.55, Train Accuracy:  90.37, Validation Accuracy:  89.24\n",
            "Epoch:   4/21, Loss:   1.53, Train Accuracy:  91.18, Validation Accuracy:  89.97\n",
            "Epoch:   5/21, Loss:   1.55, Train Accuracy:  92.15, Validation Accuracy:  89.89\n",
            "Epoch:   6/21, Loss:   1.54, Train Accuracy:  92.60, Validation Accuracy:  90.29\n",
            "Epoch:   7/21, Loss:   1.52, Train Accuracy:  93.03, Validation Accuracy:  90.03\n",
            "Epoch:   8/21, Loss:   1.53, Train Accuracy:  93.18, Validation Accuracy:  90.50\n",
            "Epoch:   9/21, Loss:   1.54, Train Accuracy:  93.43, Validation Accuracy:  90.80\n",
            "Epoch:  10/21, Loss:   1.56, Train Accuracy:  93.55, Validation Accuracy:  90.65\n",
            "Epoch:  11/21, Loss:   1.53, Train Accuracy:  93.76, Validation Accuracy:  91.21\n",
            "Epoch:  12/21, Loss:   1.55, Train Accuracy:  93.83, Validation Accuracy:  90.78\n",
            "Epoch:  13/21, Loss:   1.54, Train Accuracy:  93.95, Validation Accuracy:  90.97\n",
            "Epoch:  14/21, Loss:   1.49, Train Accuracy:  93.94, Validation Accuracy:  90.71\n",
            "Epoch:  15/21, Loss:   1.50, Train Accuracy:  94.11, Validation Accuracy:  91.37\n",
            "Epoch:  16/21, Loss:   1.51, Train Accuracy:  94.29, Validation Accuracy:  90.86\n",
            "Epoch:  17/21, Loss:   1.54, Train Accuracy:  94.31, Validation Accuracy:  90.98\n",
            "Epoch:  18/21, Loss:   1.51, Train Accuracy:  94.32, Validation Accuracy:  91.17\n",
            "Epoch:  19/21, Loss:   1.52, Train Accuracy:  94.35, Validation Accuracy:  91.48\n",
            "Epoch:  20/21, Loss:   1.48, Train Accuracy:  94.52, Validation Accuracy:  91.19\n",
            "Epoch:  21/21, Loss:   1.54, Train Accuracy:  94.66, Validation Accuracy:  90.82\n",
            "Training Time: 39.11 seconds\n",
            "--------------------------------------------------------------------------------\n",
            "Train: 40000 Validation: 20000\n",
            "K-Fold: 1\n",
            "Train Batches:    625 Validation Batches:    313\n",
            "--------------------------------------------------------------------------------\n",
            "Epoch:   1/21, Loss:   1.51, Train Accuracy:  92.35, Validation Accuracy:  93.95\n",
            "Epoch:   2/21, Loss:   1.53, Train Accuracy:  92.95, Validation Accuracy:  93.89\n",
            "Epoch:   3/21, Loss:   1.51, Train Accuracy:  93.12, Validation Accuracy:  93.95\n",
            "Epoch:   4/21, Loss:   1.56, Train Accuracy:  93.57, Validation Accuracy:  93.80\n",
            "Epoch:   5/21, Loss:   1.46, Train Accuracy:  93.64, Validation Accuracy:  93.70\n",
            "Epoch:   6/21, Loss:   1.55, Train Accuracy:  93.75, Validation Accuracy:  93.74\n",
            "Epoch:   7/21, Loss:   1.55, Train Accuracy:  93.85, Validation Accuracy:  93.65\n",
            "Epoch:   8/21, Loss:   1.51, Train Accuracy:  93.98, Validation Accuracy:  93.68\n",
            "Epoch:   9/21, Loss:   1.54, Train Accuracy:  94.26, Validation Accuracy:  93.57\n",
            "Epoch:  10/21, Loss:   1.54, Train Accuracy:  94.06, Validation Accuracy:  93.70\n",
            "Epoch:  11/21, Loss:   1.52, Train Accuracy:  94.22, Validation Accuracy:  93.46\n",
            "Epoch:  12/21, Loss:   1.49, Train Accuracy:  94.17, Validation Accuracy:  93.45\n",
            "Epoch:  13/21, Loss:   1.52, Train Accuracy:  94.32, Validation Accuracy:  93.52\n",
            "Epoch:  14/21, Loss:   1.52, Train Accuracy:  94.49, Validation Accuracy:  93.48\n",
            "Epoch:  15/21, Loss:   1.52, Train Accuracy:  94.49, Validation Accuracy:  93.79\n",
            "Epoch:  16/21, Loss:   1.49, Train Accuracy:  94.48, Validation Accuracy:  93.54\n",
            "Epoch:  17/21, Loss:   1.54, Train Accuracy:  94.60, Validation Accuracy:  93.48\n",
            "Epoch:  18/21, Loss:   1.54, Train Accuracy:  94.61, Validation Accuracy:  93.64\n",
            "Epoch:  19/21, Loss:   1.51, Train Accuracy:  94.58, Validation Accuracy:  93.37\n",
            "Epoch:  20/21, Loss:   1.57, Train Accuracy:  94.50, Validation Accuracy:  93.37\n",
            "Epoch:  21/21, Loss:   1.54, Train Accuracy:  94.53, Validation Accuracy:  93.23\n",
            "Training Time: 40.27 seconds\n",
            "--------------------------------------------------------------------------------\n",
            "Train: 40000 Validation: 20000\n",
            "K-Fold: 2\n",
            "Train Batches:    625 Validation Batches:    313\n",
            "--------------------------------------------------------------------------------\n",
            "Epoch:   1/21, Loss:   1.51, Train Accuracy:  93.50, Validation Accuracy:  94.63\n",
            "Epoch:   2/21, Loss:   1.46, Train Accuracy:  93.96, Validation Accuracy:  94.90\n",
            "Epoch:   3/21, Loss:   1.54, Train Accuracy:  93.83, Validation Accuracy:  94.47\n",
            "Epoch:   4/21, Loss:   1.49, Train Accuracy:  94.04, Validation Accuracy:  94.50\n",
            "Epoch:   5/21, Loss:   1.51, Train Accuracy:  94.11, Validation Accuracy:  94.54\n",
            "Epoch:   6/21, Loss:   1.46, Train Accuracy:  94.12, Validation Accuracy:  94.09\n",
            "Epoch:   7/21, Loss:   1.57, Train Accuracy:  94.30, Validation Accuracy:  94.48\n",
            "Epoch:   8/21, Loss:   1.57, Train Accuracy:  94.36, Validation Accuracy:  94.45\n",
            "Epoch:   9/21, Loss:   1.56, Train Accuracy:  94.12, Validation Accuracy:  94.10\n",
            "Epoch:  10/21, Loss:   1.51, Train Accuracy:  94.43, Validation Accuracy:  94.48\n",
            "Epoch:  11/21, Loss:   1.49, Train Accuracy:  94.33, Validation Accuracy:  94.16\n",
            "Epoch:  12/21, Loss:   1.46, Train Accuracy:  94.56, Validation Accuracy:  94.23\n",
            "Epoch:  13/21, Loss:   1.52, Train Accuracy:  94.54, Validation Accuracy:  94.15\n",
            "Epoch:  14/21, Loss:   1.52, Train Accuracy:  94.50, Validation Accuracy:  94.08\n",
            "Epoch:  15/21, Loss:   1.53, Train Accuracy:  94.42, Validation Accuracy:  93.91\n",
            "Epoch:  16/21, Loss:   1.51, Train Accuracy:  94.49, Validation Accuracy:  94.00\n",
            "Epoch:  17/21, Loss:   1.52, Train Accuracy:  94.59, Validation Accuracy:  94.23\n",
            "Epoch:  18/21, Loss:   1.54, Train Accuracy:  94.71, Validation Accuracy:  93.32\n",
            "Epoch:  19/21, Loss:   1.53, Train Accuracy:  94.52, Validation Accuracy:  94.06\n",
            "Epoch:  20/21, Loss:   1.52, Train Accuracy:  94.86, Validation Accuracy:  94.18\n",
            "Epoch:  21/21, Loss:   1.48, Train Accuracy:  94.78, Validation Accuracy:  94.17\n",
            "Training Time: 39.28 seconds\n",
            "--------------------------------------------------------------------------------\n"
          ]
        }
      ]
    },
    {
      "cell_type": "code",
      "source": [
        "#KFold Results\n",
        "display(results)\n",
        "results.to_csv(f'AdamW_KFold_results.csv', index=True, header=True)"
      ],
      "metadata": {
        "colab": {
          "base_uri": "https://localhost:8080/",
          "height": 144
        },
        "id": "_yLdilL5ojDf",
        "outputId": "403a2422-f0e8-4725-e82b-aae4995a95fd"
      },
      "execution_count": 42,
      "outputs": [
        {
          "output_type": "display_data",
          "data": {
            "text/plain": [
              "       loss   trainAcc     valAcc  trainTime\n",
              "0  1.536180  92.633926  90.328331  39.113169\n",
              "1  1.520827  94.025475  93.616882  40.268824\n",
              "2  1.517681  94.336784  94.245636  39.282120"
            ],
            "text/html": [
              "\n",
              "  <div id=\"df-fca68d4b-1f6d-4505-ac50-fdc28b35807d\" class=\"colab-df-container\">\n",
              "    <div>\n",
              "<style scoped>\n",
              "    .dataframe tbody tr th:only-of-type {\n",
              "        vertical-align: middle;\n",
              "    }\n",
              "\n",
              "    .dataframe tbody tr th {\n",
              "        vertical-align: top;\n",
              "    }\n",
              "\n",
              "    .dataframe thead th {\n",
              "        text-align: right;\n",
              "    }\n",
              "</style>\n",
              "<table border=\"1\" class=\"dataframe\">\n",
              "  <thead>\n",
              "    <tr style=\"text-align: right;\">\n",
              "      <th></th>\n",
              "      <th>loss</th>\n",
              "      <th>trainAcc</th>\n",
              "      <th>valAcc</th>\n",
              "      <th>trainTime</th>\n",
              "    </tr>\n",
              "  </thead>\n",
              "  <tbody>\n",
              "    <tr>\n",
              "      <th>0</th>\n",
              "      <td>1.536180</td>\n",
              "      <td>92.633926</td>\n",
              "      <td>90.328331</td>\n",
              "      <td>39.113169</td>\n",
              "    </tr>\n",
              "    <tr>\n",
              "      <th>1</th>\n",
              "      <td>1.520827</td>\n",
              "      <td>94.025475</td>\n",
              "      <td>93.616882</td>\n",
              "      <td>40.268824</td>\n",
              "    </tr>\n",
              "    <tr>\n",
              "      <th>2</th>\n",
              "      <td>1.517681</td>\n",
              "      <td>94.336784</td>\n",
              "      <td>94.245636</td>\n",
              "      <td>39.282120</td>\n",
              "    </tr>\n",
              "  </tbody>\n",
              "</table>\n",
              "</div>\n",
              "    <div class=\"colab-df-buttons\">\n",
              "\n",
              "  <div class=\"colab-df-container\">\n",
              "    <button class=\"colab-df-convert\" onclick=\"convertToInteractive('df-fca68d4b-1f6d-4505-ac50-fdc28b35807d')\"\n",
              "            title=\"Convert this dataframe to an interactive table.\"\n",
              "            style=\"display:none;\">\n",
              "\n",
              "  <svg xmlns=\"http://www.w3.org/2000/svg\" height=\"24px\" viewBox=\"0 -960 960 960\">\n",
              "    <path d=\"M120-120v-720h720v720H120Zm60-500h600v-160H180v160Zm220 220h160v-160H400v160Zm0 220h160v-160H400v160ZM180-400h160v-160H180v160Zm440 0h160v-160H620v160ZM180-180h160v-160H180v160Zm440 0h160v-160H620v160Z\"/>\n",
              "  </svg>\n",
              "    </button>\n",
              "\n",
              "  <style>\n",
              "    .colab-df-container {\n",
              "      display:flex;\n",
              "      gap: 12px;\n",
              "    }\n",
              "\n",
              "    .colab-df-convert {\n",
              "      background-color: #E8F0FE;\n",
              "      border: none;\n",
              "      border-radius: 50%;\n",
              "      cursor: pointer;\n",
              "      display: none;\n",
              "      fill: #1967D2;\n",
              "      height: 32px;\n",
              "      padding: 0 0 0 0;\n",
              "      width: 32px;\n",
              "    }\n",
              "\n",
              "    .colab-df-convert:hover {\n",
              "      background-color: #E2EBFA;\n",
              "      box-shadow: 0px 1px 2px rgba(60, 64, 67, 0.3), 0px 1px 3px 1px rgba(60, 64, 67, 0.15);\n",
              "      fill: #174EA6;\n",
              "    }\n",
              "\n",
              "    .colab-df-buttons div {\n",
              "      margin-bottom: 4px;\n",
              "    }\n",
              "\n",
              "    [theme=dark] .colab-df-convert {\n",
              "      background-color: #3B4455;\n",
              "      fill: #D2E3FC;\n",
              "    }\n",
              "\n",
              "    [theme=dark] .colab-df-convert:hover {\n",
              "      background-color: #434B5C;\n",
              "      box-shadow: 0px 1px 3px 1px rgba(0, 0, 0, 0.15);\n",
              "      filter: drop-shadow(0px 1px 2px rgba(0, 0, 0, 0.3));\n",
              "      fill: #FFFFFF;\n",
              "    }\n",
              "  </style>\n",
              "\n",
              "    <script>\n",
              "      const buttonEl =\n",
              "        document.querySelector('#df-fca68d4b-1f6d-4505-ac50-fdc28b35807d button.colab-df-convert');\n",
              "      buttonEl.style.display =\n",
              "        google.colab.kernel.accessAllowed ? 'block' : 'none';\n",
              "\n",
              "      async function convertToInteractive(key) {\n",
              "        const element = document.querySelector('#df-fca68d4b-1f6d-4505-ac50-fdc28b35807d');\n",
              "        const dataTable =\n",
              "          await google.colab.kernel.invokeFunction('convertToInteractive',\n",
              "                                                    [key], {});\n",
              "        if (!dataTable) return;\n",
              "\n",
              "        const docLinkHtml = 'Like what you see? Visit the ' +\n",
              "          '<a target=\"_blank\" href=https://colab.research.google.com/notebooks/data_table.ipynb>data table notebook</a>'\n",
              "          + ' to learn more about interactive tables.';\n",
              "        element.innerHTML = '';\n",
              "        dataTable['output_type'] = 'display_data';\n",
              "        await google.colab.output.renderOutput(dataTable, element);\n",
              "        const docLink = document.createElement('div');\n",
              "        docLink.innerHTML = docLinkHtml;\n",
              "        element.appendChild(docLink);\n",
              "      }\n",
              "    </script>\n",
              "  </div>\n",
              "\n",
              "\n",
              "<div id=\"df-340aa32b-6d83-4f1f-87a2-e2ae196fd735\">\n",
              "  <button class=\"colab-df-quickchart\" onclick=\"quickchart('df-340aa32b-6d83-4f1f-87a2-e2ae196fd735')\"\n",
              "            title=\"Suggest charts\"\n",
              "            style=\"display:none;\">\n",
              "\n",
              "<svg xmlns=\"http://www.w3.org/2000/svg\" height=\"24px\"viewBox=\"0 0 24 24\"\n",
              "     width=\"24px\">\n",
              "    <g>\n",
              "        <path d=\"M19 3H5c-1.1 0-2 .9-2 2v14c0 1.1.9 2 2 2h14c1.1 0 2-.9 2-2V5c0-1.1-.9-2-2-2zM9 17H7v-7h2v7zm4 0h-2V7h2v10zm4 0h-2v-4h2v4z\"/>\n",
              "    </g>\n",
              "</svg>\n",
              "  </button>\n",
              "\n",
              "<style>\n",
              "  .colab-df-quickchart {\n",
              "      --bg-color: #E8F0FE;\n",
              "      --fill-color: #1967D2;\n",
              "      --hover-bg-color: #E2EBFA;\n",
              "      --hover-fill-color: #174EA6;\n",
              "      --disabled-fill-color: #AAA;\n",
              "      --disabled-bg-color: #DDD;\n",
              "  }\n",
              "\n",
              "  [theme=dark] .colab-df-quickchart {\n",
              "      --bg-color: #3B4455;\n",
              "      --fill-color: #D2E3FC;\n",
              "      --hover-bg-color: #434B5C;\n",
              "      --hover-fill-color: #FFFFFF;\n",
              "      --disabled-bg-color: #3B4455;\n",
              "      --disabled-fill-color: #666;\n",
              "  }\n",
              "\n",
              "  .colab-df-quickchart {\n",
              "    background-color: var(--bg-color);\n",
              "    border: none;\n",
              "    border-radius: 50%;\n",
              "    cursor: pointer;\n",
              "    display: none;\n",
              "    fill: var(--fill-color);\n",
              "    height: 32px;\n",
              "    padding: 0;\n",
              "    width: 32px;\n",
              "  }\n",
              "\n",
              "  .colab-df-quickchart:hover {\n",
              "    background-color: var(--hover-bg-color);\n",
              "    box-shadow: 0 1px 2px rgba(60, 64, 67, 0.3), 0 1px 3px 1px rgba(60, 64, 67, 0.15);\n",
              "    fill: var(--button-hover-fill-color);\n",
              "  }\n",
              "\n",
              "  .colab-df-quickchart-complete:disabled,\n",
              "  .colab-df-quickchart-complete:disabled:hover {\n",
              "    background-color: var(--disabled-bg-color);\n",
              "    fill: var(--disabled-fill-color);\n",
              "    box-shadow: none;\n",
              "  }\n",
              "\n",
              "  .colab-df-spinner {\n",
              "    border: 2px solid var(--fill-color);\n",
              "    border-color: transparent;\n",
              "    border-bottom-color: var(--fill-color);\n",
              "    animation:\n",
              "      spin 1s steps(1) infinite;\n",
              "  }\n",
              "\n",
              "  @keyframes spin {\n",
              "    0% {\n",
              "      border-color: transparent;\n",
              "      border-bottom-color: var(--fill-color);\n",
              "      border-left-color: var(--fill-color);\n",
              "    }\n",
              "    20% {\n",
              "      border-color: transparent;\n",
              "      border-left-color: var(--fill-color);\n",
              "      border-top-color: var(--fill-color);\n",
              "    }\n",
              "    30% {\n",
              "      border-color: transparent;\n",
              "      border-left-color: var(--fill-color);\n",
              "      border-top-color: var(--fill-color);\n",
              "      border-right-color: var(--fill-color);\n",
              "    }\n",
              "    40% {\n",
              "      border-color: transparent;\n",
              "      border-right-color: var(--fill-color);\n",
              "      border-top-color: var(--fill-color);\n",
              "    }\n",
              "    60% {\n",
              "      border-color: transparent;\n",
              "      border-right-color: var(--fill-color);\n",
              "    }\n",
              "    80% {\n",
              "      border-color: transparent;\n",
              "      border-right-color: var(--fill-color);\n",
              "      border-bottom-color: var(--fill-color);\n",
              "    }\n",
              "    90% {\n",
              "      border-color: transparent;\n",
              "      border-bottom-color: var(--fill-color);\n",
              "    }\n",
              "  }\n",
              "</style>\n",
              "\n",
              "  <script>\n",
              "    async function quickchart(key) {\n",
              "      const quickchartButtonEl =\n",
              "        document.querySelector('#' + key + ' button');\n",
              "      quickchartButtonEl.disabled = true;  // To prevent multiple clicks.\n",
              "      quickchartButtonEl.classList.add('colab-df-spinner');\n",
              "      try {\n",
              "        const charts = await google.colab.kernel.invokeFunction(\n",
              "            'suggestCharts', [key], {});\n",
              "      } catch (error) {\n",
              "        console.error('Error during call to suggestCharts:', error);\n",
              "      }\n",
              "      quickchartButtonEl.classList.remove('colab-df-spinner');\n",
              "      quickchartButtonEl.classList.add('colab-df-quickchart-complete');\n",
              "    }\n",
              "    (() => {\n",
              "      let quickchartButtonEl =\n",
              "        document.querySelector('#df-340aa32b-6d83-4f1f-87a2-e2ae196fd735 button');\n",
              "      quickchartButtonEl.style.display =\n",
              "        google.colab.kernel.accessAllowed ? 'block' : 'none';\n",
              "    })();\n",
              "  </script>\n",
              "</div>\n",
              "\n",
              "  <div id=\"id_a2024842-f592-4fdd-b1ba-0ab607f73880\">\n",
              "    <style>\n",
              "      .colab-df-generate {\n",
              "        background-color: #E8F0FE;\n",
              "        border: none;\n",
              "        border-radius: 50%;\n",
              "        cursor: pointer;\n",
              "        display: none;\n",
              "        fill: #1967D2;\n",
              "        height: 32px;\n",
              "        padding: 0 0 0 0;\n",
              "        width: 32px;\n",
              "      }\n",
              "\n",
              "      .colab-df-generate:hover {\n",
              "        background-color: #E2EBFA;\n",
              "        box-shadow: 0px 1px 2px rgba(60, 64, 67, 0.3), 0px 1px 3px 1px rgba(60, 64, 67, 0.15);\n",
              "        fill: #174EA6;\n",
              "      }\n",
              "\n",
              "      [theme=dark] .colab-df-generate {\n",
              "        background-color: #3B4455;\n",
              "        fill: #D2E3FC;\n",
              "      }\n",
              "\n",
              "      [theme=dark] .colab-df-generate:hover {\n",
              "        background-color: #434B5C;\n",
              "        box-shadow: 0px 1px 3px 1px rgba(0, 0, 0, 0.15);\n",
              "        filter: drop-shadow(0px 1px 2px rgba(0, 0, 0, 0.3));\n",
              "        fill: #FFFFFF;\n",
              "      }\n",
              "    </style>\n",
              "    <button class=\"colab-df-generate\" onclick=\"generateWithVariable('results')\"\n",
              "            title=\"Generate code using this dataframe.\"\n",
              "            style=\"display:none;\">\n",
              "\n",
              "  <svg xmlns=\"http://www.w3.org/2000/svg\" height=\"24px\"viewBox=\"0 0 24 24\"\n",
              "       width=\"24px\">\n",
              "    <path d=\"M7,19H8.4L18.45,9,17,7.55,7,17.6ZM5,21V16.75L18.45,3.32a2,2,0,0,1,2.83,0l1.4,1.43a1.91,1.91,0,0,1,.58,1.4,1.91,1.91,0,0,1-.58,1.4L9.25,21ZM18.45,9,17,7.55Zm-12,3A5.31,5.31,0,0,0,4.9,8.1,5.31,5.31,0,0,0,1,6.5,5.31,5.31,0,0,0,4.9,4.9,5.31,5.31,0,0,0,6.5,1,5.31,5.31,0,0,0,8.1,4.9,5.31,5.31,0,0,0,12,6.5,5.46,5.46,0,0,0,6.5,12Z\"/>\n",
              "  </svg>\n",
              "    </button>\n",
              "    <script>\n",
              "      (() => {\n",
              "      const buttonEl =\n",
              "        document.querySelector('#id_a2024842-f592-4fdd-b1ba-0ab607f73880 button.colab-df-generate');\n",
              "      buttonEl.style.display =\n",
              "        google.colab.kernel.accessAllowed ? 'block' : 'none';\n",
              "\n",
              "      buttonEl.onclick = () => {\n",
              "        google.colab.notebook.generateWithVariable('results');\n",
              "      }\n",
              "      })();\n",
              "    </script>\n",
              "  </div>\n",
              "\n",
              "    </div>\n",
              "  </div>\n"
            ],
            "application/vnd.google.colaboratory.intrinsic+json": {
              "type": "dataframe",
              "variable_name": "results",
              "summary": "{\n  \"name\": \"results\",\n  \"rows\": 3,\n  \"fields\": [\n    {\n      \"column\": \"loss\",\n      \"properties\": {\n        \"dtype\": \"number\",\n        \"std\": 0.00989778594778103,\n        \"min\": 1.5176807641983032,\n        \"max\": 1.536179542541504,\n        \"num_unique_values\": 3,\n        \"samples\": [\n          1.536179542541504,\n          1.520827293395996,\n          1.5176807641983032\n        ],\n        \"semantic_type\": \"\",\n        \"description\": \"\"\n      }\n    },\n    {\n      \"column\": \"trainAcc\",\n      \"properties\": {\n        \"dtype\": \"number\",\n        \"std\": 0.9067382333715593,\n        \"min\": 92.63392639160156,\n        \"max\": 94.33678436279297,\n        \"num_unique_values\": 3,\n        \"samples\": [\n          92.63392639160156,\n          94.02547454833984,\n          94.33678436279297\n        ],\n        \"semantic_type\": \"\",\n        \"description\": \"\"\n      }\n    },\n    {\n      \"column\": \"valAcc\",\n      \"properties\": {\n        \"dtype\": \"number\",\n        \"std\": 2.1037735709524696,\n        \"min\": 90.32833099365234,\n        \"max\": 94.24563598632812,\n        \"num_unique_values\": 3,\n        \"samples\": [\n          90.32833099365234,\n          93.61688232421875,\n          94.24563598632812\n        ],\n        \"semantic_type\": \"\",\n        \"description\": \"\"\n      }\n    },\n    {\n      \"column\": \"trainTime\",\n      \"properties\": {\n        \"dtype\": \"number\",\n        \"std\": 0.624188407366976,\n        \"min\": 39.11316895484924,\n        \"max\": 40.26882362365723,\n        \"num_unique_values\": 3,\n        \"samples\": [\n          39.11316895484924,\n          40.26882362365723,\n          39.28211951255798\n        ],\n        \"semantic_type\": \"\",\n        \"description\": \"\"\n      }\n    }\n  ]\n}"
            }
          },
          "metadata": {}
        }
      ]
    },
    {
      "cell_type": "code",
      "source": [
        "#Visualize\n",
        "fig,ax = plt.subplots(1, 2,figsize=(18,6))\n",
        "\n",
        "ax[0].plot(results['loss'], 'g', lw = 3, label = 'Train')\n",
        "ax[0].set_xlabel('KFolds', fontsize = 15)\n",
        "ax[0].set_ylabel('Loss', fontsize = 15)\n",
        "ax[0].legend(fontsize = 15)\n",
        "ax[0].set_title(f'Training Time: {results[\"trainTime\"].sum():.2f} seconds', fontsize = 15)\n",
        "ax[0].grid(True)\n",
        "\n",
        "ax[1].plot(results['trainAcc'], label ='Train', lw = 3)\n",
        "ax[1].plot(results['valAcc'], label ='Validation', lw = 3)\n",
        "ax[1].set_xlabel('KFolds', fontsize = 15)\n",
        "ax[1].set_ylabel('Accuracy (%)', fontsize = 15)\n",
        "ax[1].set_ylim([10,110])\n",
        "ax[1].set_title(f'Train Accuracy: {results[\"trainAcc\"].mean():.2f}% \\n Validation Accuracy: {results[\"valAcc\"].mean():.2f}%', fontsize = 15)\n",
        "ax[1].legend(fontsize = 15)\n",
        "\n",
        "plt.show()\n",
        "plt.savefig('KFold_AdamW_results.png')"
      ],
      "metadata": {
        "colab": {
          "base_uri": "https://localhost:8080/",
          "height": 503
        },
        "id": "URMvNqxqpu3H",
        "outputId": "2e314aac-4b90-4985-87dc-d401f94affb0"
      },
      "execution_count": 44,
      "outputs": [
        {
          "output_type": "display_data",
          "data": {
            "text/plain": [
              "<Figure size 1800x600 with 2 Axes>"
            ],
            "image/png": "[encoded data removed]"
          },
          "metadata": {}
        },
        {
          "output_type": "display_data",
          "data": {
            "text/plain": [
              "<Figure size 640x480 with 0 Axes>"
            ]
          },
          "metadata": {}
        }
      ]
    },
    {
      "cell_type": "markdown",
      "source": [
        "## Final Test"
      ],
      "metadata": {
        "id": "uXfkX-C6GcOt"
      }
    },
    {
      "cell_type": "code",
      "source": [
        "print(f\"Test Samples: {len(test_loader)}\")"
      ],
      "metadata": {
        "colab": {
          "base_uri": "https://localhost:8080/"
        },
        "id": "JfhSKCOKG7Zo",
        "outputId": "1987fd4e-bb3e-423e-de0e-33b8bc388b53"
      },
      "execution_count": 31,
      "outputs": [
        {
          "output_type": "stream",
          "name": "stdout",
          "text": [
            "Test Samples: 10000\n"
          ]
        }
      ]
    },
    {
      "cell_type": "code",
      "source": [
        "testAcc = model_testing(model_nn, test_loader)\n",
        "print(f'Testset Accuracy: {testAcc:.2f}%')\n",
        "print(dash_lines)"
      ],
      "metadata": {
        "colab": {
          "base_uri": "https://localhost:8080/"
        },
        "id": "-qMUQsfuDd5Q",
        "outputId": "6e2b6f1a-a853-429c-9bb5-6788f4267b8e"
      },
      "execution_count": 32,
      "outputs": [
        {
          "output_type": "stream",
          "name": "stdout",
          "text": [
            "Testset Accuracy: 87.95%\n",
            "--------------------------------------------------------------------------------\n"
          ]
        }
      ]
    },
    {
      "cell_type": "markdown",
      "source": [
        "## Save `NN`"
      ],
      "metadata": {
        "id": "RXr6KjLHgdrs"
      }
    },
    {
      "cell_type": "code",
      "source": [
        "# Save the model\n",
        "torch.save(model_nn.state_dict(), 'Kmnist_model_adamW.pth')"
      ],
      "metadata": {
        "id": "irxNSVQ4ggFW"
      },
      "execution_count": 43,
      "outputs": []
    },
    {
      "cell_type": "markdown",
      "source": [
        "## git push"
      ],
      "metadata": {
        "id": "152w66MYuSSm"
      }
    },
    {
      "cell_type": "markdown",
      "source": [
        "# Extra --"
      ],
      "metadata": {
        "id": "bNs2RtF-0cpy"
      }
    },
    {
      "cell_type": "code",
      "source": [
        "#NN Model Architecture - Japanise Symbols classification task\n",
        "model_seq_nn = nn.Sequential(\n",
        "    nn.Flatten(),\n",
        "    nn.Linear(784, 128, dtype=torch.float64),\n",
        "    nn.ReLU(),\n",
        "    nn.Linear(128, 64,  dtype=torch.float64),\n",
        "    nn.ReLU(),\n",
        "    nn.Linear(64, 10,  dtype=torch.float64),\n",
        "    nn.Softmax(dim=1)\n",
        ")\n",
        "\n",
        "#display\n",
        "model_seq_nn"
      ],
      "metadata": {
        "colab": {
          "base_uri": "https://localhost:8080/"
        },
        "id": "CufhujsIwEvD",
        "outputId": "746812f5-4ca1-4bf7-9ac9-983d52726a44"
      },
      "execution_count": null,
      "outputs": [
        {
          "output_type": "execute_result",
          "data": {
            "text/plain": [
              "Sequential(\n",
              "  (0): Flatten(start_dim=1, end_dim=-1)\n",
              "  (1): Linear(in_features=784, out_features=128, bias=True)\n",
              "  (2): ReLU()\n",
              "  (3): Linear(in_features=128, out_features=64, bias=True)\n",
              "  (4): ReLU()\n",
              "  (5): Linear(in_features=64, out_features=10, bias=True)\n",
              "  (6): Softmax(dim=1)\n",
              ")"
            ]
          },
          "metadata": {},
          "execution_count": 8
        }
      ]
    },
    {
      "cell_type": "code",
      "source": [
        "#Optimizer tunable*\n",
        "optimizer = optim.Adam(model_seq_nn.parameters(), lr=learning_rate)"
      ],
      "metadata": {
        "id": "fl889JKu0hrS"
      },
      "execution_count": null,
      "outputs": []
    },
    {
      "cell_type": "code",
      "source": [
        "#Training loop\n",
        "losses = torch.zeros(num_epochs)\n",
        "trainAcc = []\n",
        "valAcc = []\n",
        "trainTime = []\n",
        "\n",
        "for epoch in range(num_epochs):\n",
        "  batchLoss=[]\n",
        "  batchtrainAcc=[]\n",
        "  batchvalAcc=[]\n",
        "\n",
        "  #training\n",
        "  start_time = time.time()\n",
        "  model.train()\n",
        "  for batch_idx, (images, labels) in enumerate(train_loader):\n",
        "    images = images.to(device)\n",
        "    labels = labels.to(device)\n",
        "\n",
        "    #forwardpass\n",
        "    ypred = model(images)\n",
        "    #loss\n",
        "    loss = lossfunc(ypred, labels)\n",
        "\n",
        "    #backpass\n",
        "    optimizer.zero_grad()\n",
        "    loss.backward()\n",
        "    optimizer.step()\n",
        "\n",
        "    #storing results\n",
        "    batchLoss.append(loss.item())\n",
        "    ypred = ypred.cpu()\n",
        "    labels = labels.cpu()\n",
        "\n",
        "    # Compute batch accuracy\n",
        "    acc = 100 * torch.mean((torch.argmax(ypred, dim=1) == labels).float())\n",
        "    batchtrainAcc.append(acc)\n",
        "\n",
        "  end_time = time.time()\n",
        "  trainTime.append(end_time - start_time)\n",
        "  # End of batch loop\n",
        "  # Compute average training accuracy and loss for this epoch\n",
        "  trainAcc.append(np.mean(batchtrainAcc))\n",
        "  losses[epoch] = np.mean(batchLoss)\n",
        "\n",
        "  #evaluate on validation set\n",
        "  model.eval()\n",
        "  for batch_idx, (X, y) in enumerate(val_loader):\n",
        "    X = X.to(device)\n",
        "    y = y.to(device)\n",
        "\n",
        "    with torch.no_grad():\n",
        "      ypred = model(X)\n",
        "      ypred = ypred.cpu()\n",
        "      y = y.cpu()\n",
        "\n",
        "      # Compute test accuracy\n",
        "      batchvalAcc.append(100 * torch.mean((torch.argmax(ypred, dim=1) == y).float()))\n",
        "\n",
        "  valAcc.append(np.mean(batchvalAcc))\n",
        "\n",
        "  # Print epoch statistics\n",
        "  print(f'Epoch: {epoch+1:>3}/{num_epochs}, Loss: {loss.item():>6.2f}, Train Accuracy: {trainAcc[-1]:>6.2f}, Validation Accuracy: {valAcc[-1]:>6.2f}')\n",
        "\n",
        "print(f'Training Time: {np.sum(trainTime):.2f} seconds')"
      ],
      "metadata": {
        "colab": {
          "base_uri": "https://localhost:8080/"
        },
        "id": "toht2_kCzM4W",
        "outputId": "b6019eea-fc82-4378-b826-1e729ad1d00c"
      },
      "execution_count": null,
      "outputs": [
        {
          "output_type": "stream",
          "name": "stdout",
          "text": [
            "Epoch:   1/21, Loss:   1.49, Train Accuracy:  94.64, Validation Accuracy:  94.80\n",
            "Epoch:   2/21, Loss:   1.49, Train Accuracy:  94.78, Validation Accuracy:  94.85\n",
            "Epoch:   3/21, Loss:   1.52, Train Accuracy:  94.65, Validation Accuracy:  95.08\n",
            "Epoch:   4/21, Loss:   1.52, Train Accuracy:  94.67, Validation Accuracy:  94.84\n",
            "Epoch:   5/21, Loss:   1.49, Train Accuracy:  94.76, Validation Accuracy:  94.61\n",
            "Epoch:   6/21, Loss:   1.46, Train Accuracy:  94.82, Validation Accuracy:  94.93\n",
            "Epoch:   7/21, Loss:   1.46, Train Accuracy:  94.86, Validation Accuracy:  95.07\n",
            "Epoch:   8/21, Loss:   1.46, Train Accuracy:  94.90, Validation Accuracy:  94.99\n",
            "Epoch:   9/21, Loss:   1.49, Train Accuracy:  94.94, Validation Accuracy:  95.15\n",
            "Epoch:  10/21, Loss:   1.55, Train Accuracy:  94.96, Validation Accuracy:  94.94\n",
            "Epoch:  11/21, Loss:   1.49, Train Accuracy:  95.03, Validation Accuracy:  95.35\n",
            "Epoch:  12/21, Loss:   1.52, Train Accuracy:  95.04, Validation Accuracy:  95.23\n",
            "Epoch:  13/21, Loss:   1.49, Train Accuracy:  94.99, Validation Accuracy:  95.10\n",
            "Epoch:  14/21, Loss:   1.55, Train Accuracy:  95.03, Validation Accuracy:  95.05\n",
            "Epoch:  15/21, Loss:   1.49, Train Accuracy:  95.00, Validation Accuracy:  95.18\n",
            "Epoch:  16/21, Loss:   1.55, Train Accuracy:  94.98, Validation Accuracy:  95.03\n",
            "Epoch:  17/21, Loss:   1.52, Train Accuracy:  95.04, Validation Accuracy:  95.22\n",
            "Epoch:  18/21, Loss:   1.46, Train Accuracy:  95.06, Validation Accuracy:  95.29\n",
            "Epoch:  19/21, Loss:   1.49, Train Accuracy:  95.15, Validation Accuracy:  95.40\n",
            "Epoch:  20/21, Loss:   1.49, Train Accuracy:  95.21, Validation Accuracy:  95.29\n",
            "Epoch:  21/21, Loss:   1.52, Train Accuracy:  95.17, Validation Accuracy:  95.32\n",
            "Training Time: 51.21 seconds\n"
          ]
        }
      ]
    },
    {
      "cell_type": "code",
      "source": [
        "fig,ax = plt.subplots(1,2,figsize=(18,6))\n",
        "\n",
        "ax[0].plot(losses, 'g', lw = 3, label = 'Train')\n",
        "ax[0].set_xlabel('Epochs', fontsize = 15)\n",
        "ax[0].set_ylabel('Loss', fontsize = 15)\n",
        "ax[0].legend(fontsize = 15)\n",
        "ax[0].set_title('Training Loss', fontsize = 15)\n",
        "\n",
        "ax[1].plot(trainAcc, label ='Train', lw = 3)\n",
        "ax[1].plot(valAcc, label ='Test', lw = 3)\n",
        "ax[1].set_xlabel('Epochs', fontsize = 15)\n",
        "ax[1].set_ylabel('Accuracy (%)', fontsize = 15)\n",
        "ax[1].set_ylim([10,110])\n",
        "ax[1].set_title(f'Train Accuracy: {trainAcc[-1]:.2f}% \\n Validation Accuracy: {valAcc[-1]:.2f}%', fontsize = 15)\n",
        "ax[1].legend(fontsize = 15)\n",
        "\n",
        "plt.show()"
      ],
      "metadata": {
        "colab": {
          "base_uri": "https://localhost:8080/",
          "height": 362
        },
        "id": "wPZ59e5zAZiQ",
        "outputId": "0e314ad9-692b-4ffc-d250-735e541830c6"
      },
      "execution_count": null,
      "outputs": [
        {
          "output_type": "display_data",
          "data": {
            "text/plain": [
              "<Figure size 1800x600 with 2 Axes>"
            ],
            "image/png": "[encoded data removed]"
          },
          "metadata": {}
        }
      ]
    }
  ]
}