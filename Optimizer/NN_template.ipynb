{
  "nbformat": 4,
  "nbformat_minor": 0,
  "metadata": {
    "colab": {
      "provenance": [],
      "collapsed_sections": [
        "bNs2RtF-0cpy"
      ],
      "gpuType": "T4"
    },
    "kernelspec": {
      "name": "python3",
      "display_name": "Python 3"
    },
    "language_info": {
      "name": "python"
    },
    "accelerator": "GPU"
  },
  "cells": [
    {
      "cell_type": "markdown",
      "source": [
        "## Optimizers"
      ],
      "metadata": {
        "id": "W2XoRIn4nlKX"
      }
    },
    {
      "cell_type": "markdown",
      "source": [
        "1. **Objective**: Research and investigate to compare the performance of `Adam\n",
        "(Adaptive Moment Estimation)`, `RMSprop (Root Mean Square Prop)`, and\n",
        "`AdamW (Adam with Weight Decay)` optimizers on a feedforward fully\n",
        "connected neural network using the KMNIST dataset.\n",
        "1. **Importance**: Understanding the strengths and weaknesses of different\n",
        "optimization algorithms helps in selecting the right one for specific tasks in\n",
        "deep learning"
      ],
      "metadata": {
        "id": "AX4EYwcwqpe0"
      }
    },
    {
      "cell_type": "code",
      "execution_count": null,
      "metadata": {
        "colab": {
          "base_uri": "https://localhost:8080/"
        },
        "id": "iH69Kg7pqPIx",
        "outputId": "36aaa4d2-a609-4e5b-af9f-7f246b7e7ba7"
      },
      "outputs": [
        {
          "output_type": "stream",
          "name": "stdout",
          "text": [
            "Collecting skorch\n",
            "  Downloading skorch-1.0.0-py3-none-any.whl.metadata (11 kB)\n",
            "Requirement already satisfied: numpy>=1.13.3 in /usr/local/lib/python3.10/dist-packages (from skorch) (1.26.4)\n",
            "Requirement already satisfied: scikit-learn>=0.22.0 in /usr/local/lib/python3.10/dist-packages (from skorch) (1.5.2)\n",
            "Requirement already satisfied: scipy>=1.1.0 in /usr/local/lib/python3.10/dist-packages (from skorch) (1.13.1)\n",
            "Requirement already satisfied: tabulate>=0.7.7 in /usr/local/lib/python3.10/dist-packages (from skorch) (0.9.0)\n",
            "Requirement already satisfied: tqdm>=4.14.0 in /usr/local/lib/python3.10/dist-packages (from skorch) (4.66.5)\n",
            "Requirement already satisfied: joblib>=1.2.0 in /usr/local/lib/python3.10/dist-packages (from scikit-learn>=0.22.0->skorch) (1.4.2)\n",
            "Requirement already satisfied: threadpoolctl>=3.1.0 in /usr/local/lib/python3.10/dist-packages (from scikit-learn>=0.22.0->skorch) (3.5.0)\n",
            "Downloading skorch-1.0.0-py3-none-any.whl (239 kB)\n",
            "\u001b[2K   \u001b[90m━━━━━━━━━━━━━━━━━━━━━━━━━━━━━━━━━━━━━━━━\u001b[0m \u001b[32m239.4/239.4 kB\u001b[0m \u001b[31m3.7 MB/s\u001b[0m eta \u001b[36m0:00:00\u001b[0m\n",
            "\u001b[?25hInstalling collected packages: skorch\n",
            "Successfully installed skorch-1.0.0\n"
          ]
        }
      ],
      "source": [
        "import torch\n",
        "import torch.nn as nn\n",
        "import torch.optim as optim\n",
        "import torch.nn.functional as F\n",
        "from torch.utils.data import DataLoader\n",
        "from torchvision import datasets, transforms\n",
        "\n",
        "import numpy as np\n",
        "import pandas as pd\n",
        "import matplotlib.pyplot as plt\n",
        "import zipfile\n",
        "import os\n",
        "import time\n",
        "plt.style.use('dark_background')\n",
        "dash_lines = \"-\"*80\n",
        "\n",
        "!pip install skorch"
      ]
    },
    {
      "cell_type": "markdown",
      "source": [
        "## Notebook Guide\n",
        "1. Github load latest files - `git clone`\n",
        "1. Initialize `constants`\n",
        "1. Grid/Randomized Search on Optimizer's params\n",
        "1. Train - `NN` on Best `Optimizer params*`\n",
        "1. Test - `NN` on Hold-out Testset\n",
        "1. Save `model` & `results`"
      ],
      "metadata": {
        "id": "2yG3aESNlAmT"
      }
    },
    {
      "cell_type": "markdown",
      "source": [
        "## Step 1. Github sync"
      ],
      "metadata": {
        "id": "bwStY_lAzFQg"
      }
    },
    {
      "cell_type": "code",
      "source": [
        "#Github clone\n",
        "!git clone https://github.com/iamkevinxavier/humber-AdvDL-midterm.git"
      ],
      "metadata": {
        "colab": {
          "base_uri": "https://localhost:8080/"
        },
        "id": "aHZFJmWBsrNS",
        "outputId": "ff24654a-8b95-49af-ae78-cb3ed21cbe22"
      },
      "execution_count": null,
      "outputs": [
        {
          "output_type": "stream",
          "name": "stdout",
          "text": [
            "Cloning into 'humber-AdvDL-midterm'...\n",
            "remote: Enumerating objects: 20, done.\u001b[K\n",
            "remote: Counting objects: 100% (20/20), done.\u001b[K\n",
            "remote: Compressing objects: 100% (17/17), done.\u001b[K\n",
            "remote: Total 20 (delta 4), reused 7 (delta 1), pack-reused 0 (from 0)\u001b[K\n",
            "Receiving objects: 100% (20/20), 284.79 KiB | 1.19 MiB/s, done.\n",
            "Resolving deltas: 100% (4/4), done.\n"
          ]
        }
      ]
    },
    {
      "cell_type": "markdown",
      "source": [
        "## Load Preprocessed Data\n",
        "1. Standarized\n",
        "1. train/val/test : 60/10/10"
      ],
      "metadata": {
        "id": "fOwrQF9wwTG6"
      }
    },
    {
      "cell_type": "code",
      "source": [
        "#Load KMNIST preprocessed data from folder\n",
        "file_path = 'humber-AdvDL-midterm/Dataset/kmnist_preprocessed.zip'\n",
        "extract_to = './KMNIST_Dataset'\n",
        "with zipfile.ZipFile(file_path, 'r') as zip_ref:\n",
        "  zip_ref.extractall(extract_to)"
      ],
      "metadata": {
        "id": "5PwDPVlUsCSy"
      },
      "execution_count": null,
      "outputs": []
    },
    {
      "cell_type": "code",
      "source": [
        "train_file_path = os.path.join(extract_to, 'kmnist_train_preprocessed.npz')\n",
        "val_file_path = os.path.join(extract_to, 'kmnist_val_preprocessed.npz')\n",
        "test_file_path = os.path.join(extract_to, 'kmnist_test_preprocessed.npz')"
      ],
      "metadata": {
        "id": "pvII5Xu8tm6I"
      },
      "execution_count": null,
      "outputs": []
    },
    {
      "cell_type": "markdown",
      "source": [
        "## Step 2. Model Architecture"
      ],
      "metadata": {
        "id": "4B3HVIY1ymRh"
      }
    },
    {
      "cell_type": "code",
      "source": [
        "class NeuralNet(nn.Module):\n",
        "  def __init__(self):\n",
        "    super(NeuralNet, self).__init__()\n",
        "    self.fc1 = nn.Flatten()\n",
        "    self.fc2 = nn.Linear(784, 128, dtype=torch.float64)\n",
        "    self.fc3 = nn.ReLU()\n",
        "    self.fc4 = nn.Linear(128, 64, dtype=torch.float64)\n",
        "    self.fc5 = nn.ReLU()\n",
        "    self.fc6 = nn.Linear(64, 10, dtype=torch.float64)\n",
        "    self.fc7 = nn.Softmax(dim=1)\n",
        "\n",
        "  def forward(self, x):\n",
        "    x = self.fc1(x)\n",
        "    x = self.fc2(x)\n",
        "    x = self.fc3(x)\n",
        "    x = self.fc4(x)\n",
        "    x = self.fc5(x)\n",
        "    x = self.fc6(x)\n",
        "    x = self.fc7(x)\n",
        "    return x\n",
        "\n",
        "model_nn = NeuralNet()"
      ],
      "metadata": {
        "id": "yKrlUP3MJg9D"
      },
      "execution_count": null,
      "outputs": []
    },
    {
      "cell_type": "code",
      "source": [
        "#constant params*\n",
        "learning_rate = 1e-3\n",
        "batch_size = 64\n",
        "num_epochs = 21\n",
        "lossfunc = nn.CrossEntropyLoss()\n",
        "\n",
        "#grid search params*\n",
        "n_iter = 10\n",
        "cv = 5"
      ],
      "metadata": {
        "id": "mIuW6cc02k-H"
      },
      "execution_count": null,
      "outputs": []
    },
    {
      "cell_type": "markdown",
      "source": [
        "## Step 3. Grid Search for Optimizers Parameters"
      ],
      "metadata": {
        "id": "b-cAnIydtwz4"
      }
    },
    {
      "cell_type": "code",
      "source": [
        "from sklearn.model_selection import RandomizedSearchCV, GridSearchCV\n",
        "from skorch import NeuralNetClassifier"
      ],
      "metadata": {
        "id": "7Vptjdnwq0K4"
      },
      "execution_count": null,
      "outputs": []
    },
    {
      "cell_type": "markdown",
      "source": [
        "### define params*"
      ],
      "metadata": {
        "id": "7ibwJZu4lv_J"
      }
    },
    {
      "cell_type": "code",
      "source": [
        "#search params* Optimizer\n",
        "param_grid = {\n",
        "    'optimizer__lr': [1e-2, 1e-3, 1e-4],  # Learning rate\n",
        "    # 'optimizer__betas': [(0.9, 0.999), (0.8, 0.999)],  # Exponential decay rates for moment estimates\n",
        "    # 'optimizer__eps': [1e-8, 1e-7],  # Small value to prevent division by zero\n",
        "    'optimizer__weight_decay': [0, 1e-4, 1e-2]  # L2 regularization strength\n",
        "}"
      ],
      "metadata": {
        "id": "KB-1Z10s3Vke"
      },
      "execution_count": null,
      "outputs": []
    },
    {
      "cell_type": "code",
      "source": [
        "def load_data():\n",
        "  train_data = np.load(train_file_path)\n",
        "  val_data = np.load(val_file_path)\n",
        "  X = np.concatenate([train_data['images'], val_data['images']], axis=0)\n",
        "  y = np.concatenate([train_data['labels'], val_data['labels']], axis=0)\n",
        "  X = torch.tensor(X, dtype=torch.float64)\n",
        "  y = torch.tensor(y, dtype=torch.long)\n",
        "  print(\"Train images: \", X.shape)\n",
        "  print(\"Train label: \", y.shape)\n",
        "  return X, y"
      ],
      "metadata": {
        "id": "5OxI190JOZjY"
      },
      "execution_count": null,
      "outputs": []
    },
    {
      "cell_type": "code",
      "source": [
        "#check device\n",
        "device = torch.device(\"cuda\" if torch.cuda.is_available() else \"cpu\")\n",
        "print(f'Device: {device}')\n",
        "\n",
        "#wrapper to skorch nn for compatibility with scikit API\n",
        "model = NeuralNetClassifier(\n",
        "    module = NeuralNet,\n",
        "    criterion = nn.CrossEntropyLoss,\n",
        "    optimizer = optim.Adam,\n",
        "    max_epochs = num_epochs,\n",
        "    batch_size = batch_size,\n",
        "    device = device,\n",
        "    verbose = False\n",
        ")\n",
        "\n",
        "#initializing search\n",
        "grid = RandomizedSearchCV(\n",
        "    estimator = model,\n",
        "    param_distributions = param_grid,\n",
        "    n_jobs = 2,\n",
        "    n_iter = n_iter,\n",
        "    cv = cv #KFold\n",
        ")\n",
        "\n",
        "#load data\n",
        "X, y = load_data()\n",
        "\n",
        "#fit\n",
        "start_time = time.time()\n",
        "grid_result = grid.fit(X, y)\n",
        "end_time = time.time()\n",
        "print(f'Training Time: {end_time - start_time:.2f} seconds')\n",
        "\n",
        "#summarize\n",
        "print(f\"Grid Search -> cv: {3}, epochs: {num_epochs}, batch_size: {batch_size}\")\n",
        "print(dash_lines)\n",
        "print(\"Best: %f using %s\" % (grid_result.best_score_, grid_result.best_params_))\n",
        "print(dash_lines)\n",
        "means = grid_result.cv_results_['mean_test_score']\n",
        "stds = grid_result.cv_results_['std_test_score']\n",
        "params = grid_result.cv_results_['params']\n",
        "for mean, stdev, param in zip(means, stds, params):\n",
        "    print(\"%f (%f) with: %r\" % (mean, stdev, param))"
      ],
      "metadata": {
        "colab": {
          "base_uri": "https://localhost:8080/"
        },
        "id": "f-9ynEOEMP26",
        "outputId": "119f5b1d-a90a-4c17-dba3-c1dafc7345a1"
      },
      "execution_count": null,
      "outputs": [
        {
          "output_type": "stream",
          "name": "stdout",
          "text": [
            "Device: cuda\n",
            "Train images:  torch.Size([60000, 28, 28])\n",
            "Train label:  torch.Size([60000])\n"
          ]
        },
        {
          "output_type": "stream",
          "name": "stderr",
          "text": [
            "/usr/local/lib/python3.10/dist-packages/sklearn/model_selection/_search.py:320: UserWarning: The total space of parameters 9 is smaller than n_iter=10. Running 9 iterations. For exhaustive searches, use GridSearchCV.\n",
            "  warnings.warn(\n"
          ]
        },
        {
          "output_type": "stream",
          "name": "stdout",
          "text": [
            "Training Time: 1871.52 seconds\n",
            "Grid Search -> cv: 3, epochs: 21, batch_size: 64\n",
            "--------------------------------------------------------------------------------\n",
            "Best: 0.932317 using {'optimizer__weight_decay': 0.0001, 'optimizer__lr': 0.001}\n",
            "--------------------------------------------------------------------------------\n",
            "0.323083 (0.127638) with: {'optimizer__weight_decay': 0, 'optimizer__lr': 0.01}\n",
            "0.305250 (0.032274) with: {'optimizer__weight_decay': 0.0001, 'optimizer__lr': 0.01}\n",
            "0.753067 (0.023483) with: {'optimizer__weight_decay': 0.01, 'optimizer__lr': 0.01}\n",
            "0.932133 (0.009462) with: {'optimizer__weight_decay': 0, 'optimizer__lr': 0.001}\n",
            "0.932317 (0.008371) with: {'optimizer__weight_decay': 0.0001, 'optimizer__lr': 0.001}\n",
            "0.835883 (0.011827) with: {'optimizer__weight_decay': 0.01, 'optimizer__lr': 0.001}\n",
            "0.909417 (0.011332) with: {'optimizer__weight_decay': 0, 'optimizer__lr': 0.0001}\n",
            "0.901683 (0.008791) with: {'optimizer__weight_decay': 0.0001, 'optimizer__lr': 0.0001}\n",
            "0.854283 (0.018504) with: {'optimizer__weight_decay': 0.01, 'optimizer__lr': 0.0001}\n"
          ]
        }
      ]
    },
    {
      "cell_type": "code",
      "source": [
        "#store grid search results in DataFrame\n",
        "results_df = pd.DataFrame(grid_result.cv_results_)\n",
        "results_df = pd.concat([pd.DataFrame(results_df['params'].tolist()),\n",
        "                        results_df[['mean_test_score', 'std_test_score']]], axis=1)\n",
        "print(results_df)\n",
        "results_df.to_csv(f'Adam_grid_search_results.csv', index=True, header=True)"
      ],
      "metadata": {
        "colab": {
          "base_uri": "https://localhost:8080/"
        },
        "id": "isl7qKZHPRXG",
        "outputId": "e107a59e-647d-439b-f31a-bed444d5c582"
      },
      "execution_count": null,
      "outputs": [
        {
          "output_type": "stream",
          "name": "stdout",
          "text": [
            "   optimizer__weight_decay  optimizer__lr  mean_test_score  std_test_score\n",
            "0                   0.0000         0.0100         0.323083        0.127638\n",
            "1                   0.0001         0.0100         0.305250        0.032274\n",
            "2                   0.0100         0.0100         0.753067        0.023483\n",
            "3                   0.0000         0.0010         0.932133        0.009462\n",
            "4                   0.0001         0.0010         0.932317        0.008371\n",
            "5                   0.0100         0.0010         0.835883        0.011827\n",
            "6                   0.0000         0.0001         0.909417        0.011332\n",
            "7                   0.0001         0.0001         0.901683        0.008791\n",
            "8                   0.0100         0.0001         0.854283        0.018504\n"
          ]
        }
      ]
    },
    {
      "cell_type": "markdown",
      "source": [
        "# Step 4. Train `NN` on `Best Parameters`"
      ],
      "metadata": {
        "id": "dr6-imef3iN6"
      }
    },
    {
      "cell_type": "markdown",
      "source": [
        "## K-Fold"
      ],
      "metadata": {
        "id": "t5LsXMj9OFqQ"
      }
    },
    {
      "cell_type": "code",
      "source": [
        "from sklearn.model_selection import KFold\n",
        "from torch.utils.data import Subset\n",
        "from torch.utils.data import Dataset"
      ],
      "metadata": {
        "id": "l3OxD8FkHReO"
      },
      "execution_count": null,
      "outputs": []
    },
    {
      "cell_type": "markdown",
      "source": [
        "### set best params*"
      ],
      "metadata": {
        "id": "0cqozbZBnSXL"
      }
    },
    {
      "cell_type": "code",
      "source": [
        "#best parameters obtained from grid search\n",
        "optimizer = optim.Adam(params=model_nn.parameters(),\n",
        "                       lr=grid_result.best_params_['optimizer__lr'],\n",
        "                       weight_decay=grid_result.best_params_['optimizer__weight_decay'])"
      ],
      "metadata": {
        "id": "scvOY-kIpvKe"
      },
      "execution_count": null,
      "outputs": []
    },
    {
      "cell_type": "code",
      "source": [
        "#Load npz files - alter way\n",
        "class NPZDataset(Dataset):\n",
        "    def __init__(self, npz_file):\n",
        "        data = np.load(npz_file)\n",
        "        self.images = data['images']\n",
        "        self.labels = data['labels']\n",
        "\n",
        "    def __len__(self):\n",
        "        return len(self.images)\n",
        "\n",
        "    def __getitem__(self, idx):\n",
        "        image = self.images[idx]\n",
        "        label = self.labels[idx]\n",
        "        return image, label\n",
        "\n",
        "#load data\n",
        "train_data = NPZDataset(train_file_path)\n",
        "val_data = NPZDataset(val_file_path)\n",
        "test_data = NPZDataset(test_file_path)\n",
        "\n",
        "#batch loader\n",
        "train_loader = DataLoader(train_data, batch_size=batch_size, shuffle=True)\n",
        "val_loader = DataLoader(val_data, shuffle=False)\n",
        "test_loader = DataLoader(test_data, shuffle=False)\n",
        "\n",
        "#Train + Validation sets\n",
        "dataset = train_data + val_data\n",
        "print(len(dataset))"
      ],
      "metadata": {
        "id": "Lbz3bApo1_5n"
      },
      "execution_count": null,
      "outputs": []
    },
    {
      "cell_type": "code",
      "source": [
        "def model_training_loop(kfold:int, model, train_loader:DataLoader, val_loader:DataLoader):\n",
        "  #Training loop\n",
        "  losses = torch.zeros(num_epochs)\n",
        "  trainAcc = []\n",
        "  valAcc = []\n",
        "  trainTime = []\n",
        "\n",
        "  print(f\"K-Fold: {kfold}\")\n",
        "  print(f\"Train Batches: {len(train_loader):>6}\", f\"Validation Batches: {len(val_loader):>6}\")\n",
        "  print(dash_lines)\n",
        "\n",
        "  #epochs\n",
        "  for epoch in range(num_epochs):\n",
        "    batchLoss=[]\n",
        "    batchtrainAcc=[]\n",
        "    batchvalAcc=[]\n",
        "\n",
        "    #training\n",
        "    start_time = time.time()\n",
        "    model.to(device)\n",
        "    model.train()\n",
        "    for batch_idx, (images, labels) in enumerate(train_loader):\n",
        "      images = images.to(device)\n",
        "      labels = labels.to(device)\n",
        "\n",
        "      #forwardpass\n",
        "      ypred = model(images)\n",
        "      #loss\n",
        "      loss = lossfunc(ypred, labels)\n",
        "\n",
        "      #backpass\n",
        "      optimizer.zero_grad()\n",
        "      loss.backward()\n",
        "      optimizer.step()\n",
        "\n",
        "      #storing results\n",
        "      batchLoss.append(loss.item())\n",
        "      ypred = ypred.cpu()\n",
        "      labels = labels.cpu()\n",
        "\n",
        "      # Compute batch accuracy\n",
        "      acc = 100 * torch.mean((torch.argmax(ypred, dim=1) == labels).float())\n",
        "      batchtrainAcc.append(acc)\n",
        "\n",
        "    end_time = time.time()\n",
        "    trainTime.append(end_time - start_time)\n",
        "    # End of batch loop\n",
        "    # Compute average training accuracy and loss for this epoch\n",
        "    trainAcc.append(np.mean(batchtrainAcc))\n",
        "    losses[epoch] = np.mean(batchLoss)\n",
        "\n",
        "    #evaluate on validation set\n",
        "    model.eval()\n",
        "    for batch_idx, (X, y) in enumerate(val_loader):\n",
        "      X = X.to(device)\n",
        "      y = y.to(device)\n",
        "\n",
        "      with torch.no_grad():\n",
        "        ypred = model(X)\n",
        "        ypred = ypred.cpu()\n",
        "        y = y.cpu()\n",
        "\n",
        "        # Compute test accuracy\n",
        "        batchvalAcc.append(100 * torch.mean((torch.argmax(ypred, dim=1) == y).float()))\n",
        "\n",
        "    valAcc.append(np.mean(batchvalAcc))\n",
        "\n",
        "    # Print epoch statistics\n",
        "    print(f'Epoch: {epoch+1:>3}/{num_epochs}, Loss: {loss.item():>6.2f}, Train Accuracy: {trainAcc[-1]:>6.2f}, Validation Accuracy: {valAcc[-1]:>6.2f}')\n",
        "  print(f'Training Time: {np.sum(trainTime):.2f} seconds')\n",
        "  print(dash_lines)\n",
        "\n",
        "  return np.mean(losses.cpu().numpy()), np.mean(trainAcc), np.mean(valAcc), np.sum(trainTime)"
      ],
      "metadata": {
        "id": "CBeM87MqQyoy"
      },
      "execution_count": null,
      "outputs": []
    },
    {
      "cell_type": "code",
      "source": [
        "## Testing\n",
        "def model_testing(model, test_loader:DataLoader):\n",
        "  model.eval()\n",
        "  with torch.no_grad():\n",
        "    testAcc = []\n",
        "    for X, y in test_loader:\n",
        "      X = X.to(device)\n",
        "      y = y.to(device)\n",
        "      ypred = model(X)\n",
        "      ypred = ypred.cpu()\n",
        "      y = y.cpu()\n",
        "      acc = 100 * torch.mean((torch.argmax(ypred, dim=1) == y).float())\n",
        "      testAcc.append(acc)\n",
        "  return np.mean(testAcc)"
      ],
      "metadata": {
        "id": "jGXcml_hdpgV"
      },
      "execution_count": null,
      "outputs": []
    },
    {
      "cell_type": "code",
      "source": [
        "device = torch.device(\"cuda\" if torch.cuda.is_available() else \"cpu\")\n",
        "model_nn.to(device)"
      ],
      "metadata": {
        "colab": {
          "base_uri": "https://localhost:8080/"
        },
        "id": "YJ0LxODm_oJc",
        "outputId": "7db3b2f6-192d-4df3-929e-e6bee77fbc66"
      },
      "execution_count": null,
      "outputs": [
        {
          "output_type": "execute_result",
          "data": {
            "text/plain": [
              "NeuralNet(\n",
              "  (fc1): Flatten(start_dim=1, end_dim=-1)\n",
              "  (fc2): Linear(in_features=784, out_features=128, bias=True)\n",
              "  (fc3): ReLU()\n",
              "  (fc4): Linear(in_features=128, out_features=64, bias=True)\n",
              "  (fc5): ReLU()\n",
              "  (fc6): Linear(in_features=64, out_features=10, bias=True)\n",
              "  (fc7): Softmax(dim=1)\n",
              ")"
            ]
          },
          "metadata": {},
          "execution_count": 22
        }
      ]
    },
    {
      "cell_type": "markdown",
      "source": [
        "### KFold iter"
      ],
      "metadata": {
        "id": "WHzmhNhGpA2m"
      }
    },
    {
      "cell_type": "code",
      "source": [
        "#KFold\n",
        "kf = KFold(n_splits=cv, shuffle=True, random_state=42)\n",
        "results = pd.DataFrame(columns=['loss', 'trainAcc', 'valAcc', 'trainTime'])\n",
        "\n",
        "#K iter\n",
        "for fold, (train_index, val_index) in enumerate(kf.split(dataset)):\n",
        "    print(\"Train:\", len(train_index), \"Test:\", len(val_index))\n",
        "\n",
        "    #Subset\n",
        "    train_dataset = Subset(dataset, train_index)\n",
        "    val_dataset = Subset(dataset, val_index)\n",
        "\n",
        "    #Dataloader\n",
        "    train_loader = DataLoader(train_dataset, batch_size=batch_size, shuffle=True)\n",
        "    val_loader = DataLoader(val_dataset, batch_size=batch_size, shuffle=False)\n",
        "\n",
        "    #pass to training loop\n",
        "    loss, trainAcc, valAcc, Traintime = model_training_loop(fold, model_nn, train_loader, val_loader)\n",
        "\n",
        "    #results\n",
        "    results.loc[fold] = [loss, trainAcc, valAcc, Traintime]"
      ],
      "metadata": {
        "colab": {
          "base_uri": "https://localhost:8080/"
        },
        "id": "HMgTjWxSOiPB",
        "outputId": "19747598-05be-4b00-faba-73689be8451c"
      },
      "execution_count": null,
      "outputs": [
        {
          "output_type": "stream",
          "name": "stdout",
          "text": [
            "Train: 48000 Test: 12000\n",
            "K-Fold: 0\n",
            "Train Samples:    750 Validation Samples:    188\n",
            "--------------------------------------------------------------------------------\n",
            "Epoch:   1/21, Loss:   1.47, Train Accuracy:  97.70, Validation Accuracy:  97.87\n",
            "Epoch:   2/21, Loss:   1.47, Train Accuracy:  98.02, Validation Accuracy:  97.66\n",
            "Epoch:   3/21, Loss:   1.48, Train Accuracy:  98.18, Validation Accuracy:  98.07\n",
            "Epoch:   4/21, Loss:   1.50, Train Accuracy:  98.39, Validation Accuracy:  97.79\n",
            "Epoch:   5/21, Loss:   1.49, Train Accuracy:  98.40, Validation Accuracy:  96.77\n",
            "Epoch:   6/21, Loss:   1.48, Train Accuracy:  98.42, Validation Accuracy:  97.67\n",
            "Epoch:   7/21, Loss:   1.47, Train Accuracy:  98.41, Validation Accuracy:  97.62\n",
            "Epoch:   8/21, Loss:   1.46, Train Accuracy:  98.61, Validation Accuracy:  97.36\n",
            "Epoch:   9/21, Loss:   1.47, Train Accuracy:  98.44, Validation Accuracy:  96.99\n",
            "Epoch:  10/21, Loss:   1.47, Train Accuracy:  98.57, Validation Accuracy:  96.78\n",
            "Epoch:  11/21, Loss:   1.46, Train Accuracy:  98.66, Validation Accuracy:  96.88\n",
            "Epoch:  12/21, Loss:   1.46, Train Accuracy:  98.50, Validation Accuracy:  96.96\n",
            "Epoch:  13/21, Loss:   1.46, Train Accuracy:  98.60, Validation Accuracy:  96.20\n",
            "Epoch:  14/21, Loss:   1.48, Train Accuracy:  98.68, Validation Accuracy:  96.58\n",
            "Epoch:  15/21, Loss:   1.47, Train Accuracy:  98.70, Validation Accuracy:  96.92\n",
            "Epoch:  16/21, Loss:   1.46, Train Accuracy:  98.72, Validation Accuracy:  96.57\n",
            "Epoch:  17/21, Loss:   1.48, Train Accuracy:  98.64, Validation Accuracy:  96.51\n",
            "Epoch:  18/21, Loss:   1.48, Train Accuracy:  98.62, Validation Accuracy:  96.18\n",
            "Epoch:  19/21, Loss:   1.46, Train Accuracy:  98.62, Validation Accuracy:  96.43\n",
            "Epoch:  20/21, Loss:   1.46, Train Accuracy:  98.82, Validation Accuracy:  96.42\n",
            "Epoch:  21/21, Loss:   1.48, Train Accuracy:  98.69, Validation Accuracy:  96.23\n",
            "Training Time: 47.46 seconds\n",
            "Train: 48000 Test: 12000\n",
            "K-Fold: 1\n",
            "Train Samples:    750 Validation Samples:    188\n",
            "--------------------------------------------------------------------------------\n",
            "Epoch:   1/21, Loss:   1.46, Train Accuracy:  97.77, Validation Accuracy:  98.40\n",
            "Epoch:   2/21, Loss:   1.48, Train Accuracy:  98.26, Validation Accuracy:  98.14\n",
            "Epoch:   3/21, Loss:   1.46, Train Accuracy:  98.34, Validation Accuracy:  98.45\n",
            "Epoch:   4/21, Loss:   1.46, Train Accuracy:  98.60, Validation Accuracy:  98.00\n",
            "Epoch:   5/21, Loss:   1.51, Train Accuracy:  98.30, Validation Accuracy:  97.05\n",
            "Epoch:   6/21, Loss:   1.47, Train Accuracy:  98.45, Validation Accuracy:  97.61\n",
            "Epoch:   7/21, Loss:   1.47, Train Accuracy:  98.54, Validation Accuracy:  97.44\n",
            "Epoch:   8/21, Loss:   1.47, Train Accuracy:  98.68, Validation Accuracy:  97.58\n",
            "Epoch:   9/21, Loss:   1.46, Train Accuracy:  98.75, Validation Accuracy:  97.37\n",
            "Epoch:  10/21, Loss:   1.49, Train Accuracy:  98.75, Validation Accuracy:  97.18\n",
            "Epoch:  11/21, Loss:   1.48, Train Accuracy:  98.63, Validation Accuracy:  97.45\n",
            "Epoch:  12/21, Loss:   1.49, Train Accuracy:  98.61, Validation Accuracy:  97.07\n",
            "Epoch:  13/21, Loss:   1.49, Train Accuracy:  98.75, Validation Accuracy:  96.94\n",
            "Epoch:  14/21, Loss:   1.47, Train Accuracy:  98.68, Validation Accuracy:  96.69\n",
            "Epoch:  15/21, Loss:   1.48, Train Accuracy:  98.73, Validation Accuracy:  96.90\n",
            "Epoch:  16/21, Loss:   1.46, Train Accuracy:  98.77, Validation Accuracy:  96.66\n",
            "Epoch:  17/21, Loss:   1.48, Train Accuracy:  98.77, Validation Accuracy:  96.26\n",
            "Epoch:  18/21, Loss:   1.49, Train Accuracy:  98.76, Validation Accuracy:  96.71\n",
            "Epoch:  19/21, Loss:   1.48, Train Accuracy:  98.81, Validation Accuracy:  96.36\n",
            "Epoch:  20/21, Loss:   1.47, Train Accuracy:  98.69, Validation Accuracy:  96.41\n",
            "Epoch:  21/21, Loss:   1.48, Train Accuracy:  98.89, Validation Accuracy:  96.14\n",
            "Training Time: 47.31 seconds\n",
            "Train: 48000 Test: 12000\n",
            "K-Fold: 2\n",
            "Train Samples:    750 Validation Samples:    188\n",
            "--------------------------------------------------------------------------------\n",
            "Epoch:   1/21, Loss:   1.53, Train Accuracy:  97.98, Validation Accuracy:  98.50\n",
            "Epoch:   2/21, Loss:   1.46, Train Accuracy:  98.25, Validation Accuracy:  98.35\n",
            "Epoch:   3/21, Loss:   1.47, Train Accuracy:  98.37, Validation Accuracy:  98.08\n",
            "Epoch:   4/21, Loss:   1.48, Train Accuracy:  98.56, Validation Accuracy:  98.28\n",
            "Epoch:   5/21, Loss:   1.49, Train Accuracy:  98.65, Validation Accuracy:  98.18\n",
            "Epoch:   6/21, Loss:   1.46, Train Accuracy:  98.59, Validation Accuracy:  97.98\n",
            "Epoch:   7/21, Loss:   1.47, Train Accuracy:  98.53, Validation Accuracy:  97.76\n",
            "Epoch:   8/21, Loss:   1.46, Train Accuracy:  98.60, Validation Accuracy:  97.64\n",
            "Epoch:   9/21, Loss:   1.50, Train Accuracy:  98.64, Validation Accuracy:  97.71\n",
            "Epoch:  10/21, Loss:   1.51, Train Accuracy:  98.70, Validation Accuracy:  97.33\n",
            "Epoch:  11/21, Loss:   1.48, Train Accuracy:  98.69, Validation Accuracy:  97.35\n",
            "Epoch:  12/21, Loss:   1.46, Train Accuracy:  98.71, Validation Accuracy:  97.52\n",
            "Epoch:  13/21, Loss:   1.46, Train Accuracy:  98.64, Validation Accuracy:  97.21\n",
            "Epoch:  14/21, Loss:   1.46, Train Accuracy:  98.58, Validation Accuracy:  97.02\n",
            "Epoch:  15/21, Loss:   1.51, Train Accuracy:  98.78, Validation Accuracy:  96.97\n",
            "Epoch:  16/21, Loss:   1.49, Train Accuracy:  98.78, Validation Accuracy:  97.15\n",
            "Epoch:  17/21, Loss:   1.46, Train Accuracy:  98.88, Validation Accuracy:  96.84\n",
            "Epoch:  18/21, Loss:   1.47, Train Accuracy:  98.80, Validation Accuracy:  97.28\n",
            "Epoch:  19/21, Loss:   1.49, Train Accuracy:  98.71, Validation Accuracy:  96.99\n",
            "Epoch:  20/21, Loss:   1.48, Train Accuracy:  98.77, Validation Accuracy:  96.80\n",
            "Epoch:  21/21, Loss:   1.48, Train Accuracy:  98.71, Validation Accuracy:  96.42\n",
            "Training Time: 48.01 seconds\n",
            "Train: 48000 Test: 12000\n",
            "K-Fold: 3\n",
            "Train Samples:    750 Validation Samples:    188\n",
            "--------------------------------------------------------------------------------\n",
            "Epoch:   1/21, Loss:   1.48, Train Accuracy:  98.06, Validation Accuracy:  98.25\n",
            "Epoch:   2/21, Loss:   1.49, Train Accuracy:  98.28, Validation Accuracy:  98.14\n",
            "Epoch:   3/21, Loss:   1.49, Train Accuracy:  98.58, Validation Accuracy:  98.01\n",
            "Epoch:   4/21, Loss:   1.49, Train Accuracy:  98.63, Validation Accuracy:  97.65\n",
            "Epoch:   5/21, Loss:   1.51, Train Accuracy:  98.61, Validation Accuracy:  97.99\n",
            "Epoch:   6/21, Loss:   1.49, Train Accuracy:  98.46, Validation Accuracy:  97.83\n",
            "Epoch:   7/21, Loss:   1.49, Train Accuracy:  98.74, Validation Accuracy:  97.54\n",
            "Epoch:   8/21, Loss:   1.46, Train Accuracy:  98.80, Validation Accuracy:  97.37\n",
            "Epoch:   9/21, Loss:   1.47, Train Accuracy:  98.77, Validation Accuracy:  97.34\n",
            "Epoch:  10/21, Loss:   1.48, Train Accuracy:  98.82, Validation Accuracy:  97.09\n",
            "Epoch:  11/21, Loss:   1.48, Train Accuracy:  98.83, Validation Accuracy:  96.84\n",
            "Epoch:  12/21, Loss:   1.48, Train Accuracy:  98.72, Validation Accuracy:  96.71\n",
            "Epoch:  13/21, Loss:   1.48, Train Accuracy:  98.83, Validation Accuracy:  96.67\n",
            "Epoch:  14/21, Loss:   1.46, Train Accuracy:  98.82, Validation Accuracy:  96.69\n",
            "Epoch:  15/21, Loss:   1.48, Train Accuracy:  98.80, Validation Accuracy:  96.30\n",
            "Epoch:  16/21, Loss:   1.46, Train Accuracy:  98.82, Validation Accuracy:  96.88\n",
            "Epoch:  17/21, Loss:   1.46, Train Accuracy:  98.91, Validation Accuracy:  96.53\n",
            "Epoch:  18/21, Loss:   1.50, Train Accuracy:  98.80, Validation Accuracy:  96.48\n",
            "Epoch:  19/21, Loss:   1.51, Train Accuracy:  98.84, Validation Accuracy:  96.35\n",
            "Epoch:  20/21, Loss:   1.48, Train Accuracy:  98.85, Validation Accuracy:  96.45\n",
            "Epoch:  21/21, Loss:   1.48, Train Accuracy:  98.76, Validation Accuracy:  96.47\n",
            "Training Time: 47.71 seconds\n",
            "Train: 48000 Test: 12000\n",
            "K-Fold: 4\n",
            "Train Samples:    750 Validation Samples:    188\n",
            "--------------------------------------------------------------------------------\n",
            "Epoch:   1/21, Loss:   1.50, Train Accuracy:  98.07, Validation Accuracy:  98.55\n",
            "Epoch:   2/21, Loss:   1.47, Train Accuracy:  98.35, Validation Accuracy:  98.49\n",
            "Epoch:   3/21, Loss:   1.48, Train Accuracy:  98.63, Validation Accuracy:  98.05\n",
            "Epoch:   4/21, Loss:   1.48, Train Accuracy:  98.54, Validation Accuracy:  98.30\n",
            "Epoch:   5/21, Loss:   1.50, Train Accuracy:  98.64, Validation Accuracy:  97.42\n",
            "Epoch:   6/21, Loss:   1.52, Train Accuracy:  98.61, Validation Accuracy:  97.35\n",
            "Epoch:   7/21, Loss:   1.48, Train Accuracy:  98.73, Validation Accuracy:  97.56\n",
            "Epoch:   8/21, Loss:   1.48, Train Accuracy:  98.89, Validation Accuracy:  97.14\n",
            "Epoch:   9/21, Loss:   1.46, Train Accuracy:  98.73, Validation Accuracy:  96.98\n",
            "Epoch:  10/21, Loss:   1.49, Train Accuracy:  98.77, Validation Accuracy:  96.86\n",
            "Epoch:  11/21, Loss:   1.46, Train Accuracy:  98.83, Validation Accuracy:  96.81\n",
            "Epoch:  12/21, Loss:   1.46, Train Accuracy:  98.78, Validation Accuracy:  96.83\n",
            "Epoch:  13/21, Loss:   1.47, Train Accuracy:  98.79, Validation Accuracy:  96.74\n",
            "Epoch:  14/21, Loss:   1.47, Train Accuracy:  98.84, Validation Accuracy:  96.44\n",
            "Epoch:  15/21, Loss:   1.47, Train Accuracy:  98.75, Validation Accuracy:  96.83\n",
            "Epoch:  16/21, Loss:   1.47, Train Accuracy:  98.78, Validation Accuracy:  96.56\n",
            "Epoch:  17/21, Loss:   1.48, Train Accuracy:  98.95, Validation Accuracy:  96.67\n",
            "Epoch:  18/21, Loss:   1.48, Train Accuracy:  98.73, Validation Accuracy:  95.94\n",
            "Epoch:  19/21, Loss:   1.47, Train Accuracy:  98.92, Validation Accuracy:  96.44\n",
            "Epoch:  20/21, Loss:   1.51, Train Accuracy:  98.87, Validation Accuracy:  96.26\n",
            "Epoch:  21/21, Loss:   1.50, Train Accuracy:  98.89, Validation Accuracy:  96.37\n",
            "Training Time: 47.60 seconds\n"
          ]
        }
      ]
    },
    {
      "cell_type": "code",
      "source": [
        "#KFold Results\n",
        "display(results)"
      ],
      "metadata": {
        "colab": {
          "base_uri": "https://localhost:8080/",
          "height": 206
        },
        "id": "_yLdilL5ojDf",
        "outputId": "bf41cfc6-25a6-4a70-a691-3fd5e45a7a52"
      },
      "execution_count": null,
      "outputs": [
        {
          "output_type": "display_data",
          "data": {
            "text/plain": [
              "       loss   trainAcc     valAcc    testAcc  trainTime\n",
              "0  1.477734  98.495033  96.974327  88.650002  47.459593\n",
              "1  1.476817  98.597816  97.180923  88.650002  47.305719\n",
              "2  1.476543  98.615768  97.492790  88.650002  48.006945\n",
              "3  1.475732  98.701485  97.122353  88.650002  47.707571\n",
              "4  1.475581  98.718643  97.074478  88.650002  47.604242"
            ],
            "text/html": [
              "\n",
              "  <div id=\"df-2f20ed51-33ad-4003-a51b-82ec774805ca\" class=\"colab-df-container\">\n",
              "    <div>\n",
              "<style scoped>\n",
              "    .dataframe tbody tr th:only-of-type {\n",
              "        vertical-align: middle;\n",
              "    }\n",
              "\n",
              "    .dataframe tbody tr th {\n",
              "        vertical-align: top;\n",
              "    }\n",
              "\n",
              "    .dataframe thead th {\n",
              "        text-align: right;\n",
              "    }\n",
              "</style>\n",
              "<table border=\"1\" class=\"dataframe\">\n",
              "  <thead>\n",
              "    <tr style=\"text-align: right;\">\n",
              "      <th></th>\n",
              "      <th>loss</th>\n",
              "      <th>trainAcc</th>\n",
              "      <th>valAcc</th>\n",
              "      <th>testAcc</th>\n",
              "      <th>trainTime</th>\n",
              "    </tr>\n",
              "  </thead>\n",
              "  <tbody>\n",
              "    <tr>\n",
              "      <th>0</th>\n",
              "      <td>1.477734</td>\n",
              "      <td>98.495033</td>\n",
              "      <td>96.974327</td>\n",
              "      <td>88.650002</td>\n",
              "      <td>47.459593</td>\n",
              "    </tr>\n",
              "    <tr>\n",
              "      <th>1</th>\n",
              "      <td>1.476817</td>\n",
              "      <td>98.597816</td>\n",
              "      <td>97.180923</td>\n",
              "      <td>88.650002</td>\n",
              "      <td>47.305719</td>\n",
              "    </tr>\n",
              "    <tr>\n",
              "      <th>2</th>\n",
              "      <td>1.476543</td>\n",
              "      <td>98.615768</td>\n",
              "      <td>97.492790</td>\n",
              "      <td>88.650002</td>\n",
              "      <td>48.006945</td>\n",
              "    </tr>\n",
              "    <tr>\n",
              "      <th>3</th>\n",
              "      <td>1.475732</td>\n",
              "      <td>98.701485</td>\n",
              "      <td>97.122353</td>\n",
              "      <td>88.650002</td>\n",
              "      <td>47.707571</td>\n",
              "    </tr>\n",
              "    <tr>\n",
              "      <th>4</th>\n",
              "      <td>1.475581</td>\n",
              "      <td>98.718643</td>\n",
              "      <td>97.074478</td>\n",
              "      <td>88.650002</td>\n",
              "      <td>47.604242</td>\n",
              "    </tr>\n",
              "  </tbody>\n",
              "</table>\n",
              "</div>\n",
              "    <div class=\"colab-df-buttons\">\n",
              "\n",
              "  <div class=\"colab-df-container\">\n",
              "    <button class=\"colab-df-convert\" onclick=\"convertToInteractive('df-2f20ed51-33ad-4003-a51b-82ec774805ca')\"\n",
              "            title=\"Convert this dataframe to an interactive table.\"\n",
              "            style=\"display:none;\">\n",
              "\n",
              "  <svg xmlns=\"http://www.w3.org/2000/svg\" height=\"24px\" viewBox=\"0 -960 960 960\">\n",
              "    <path d=\"M120-120v-720h720v720H120Zm60-500h600v-160H180v160Zm220 220h160v-160H400v160Zm0 220h160v-160H400v160ZM180-400h160v-160H180v160Zm440 0h160v-160H620v160ZM180-180h160v-160H180v160Zm440 0h160v-160H620v160Z\"/>\n",
              "  </svg>\n",
              "    </button>\n",
              "\n",
              "  <style>\n",
              "    .colab-df-container {\n",
              "      display:flex;\n",
              "      gap: 12px;\n",
              "    }\n",
              "\n",
              "    .colab-df-convert {\n",
              "      background-color: #E8F0FE;\n",
              "      border: none;\n",
              "      border-radius: 50%;\n",
              "      cursor: pointer;\n",
              "      display: none;\n",
              "      fill: #1967D2;\n",
              "      height: 32px;\n",
              "      padding: 0 0 0 0;\n",
              "      width: 32px;\n",
              "    }\n",
              "\n",
              "    .colab-df-convert:hover {\n",
              "      background-color: #E2EBFA;\n",
              "      box-shadow: 0px 1px 2px rgba(60, 64, 67, 0.3), 0px 1px 3px 1px rgba(60, 64, 67, 0.15);\n",
              "      fill: #174EA6;\n",
              "    }\n",
              "\n",
              "    .colab-df-buttons div {\n",
              "      margin-bottom: 4px;\n",
              "    }\n",
              "\n",
              "    [theme=dark] .colab-df-convert {\n",
              "      background-color: #3B4455;\n",
              "      fill: #D2E3FC;\n",
              "    }\n",
              "\n",
              "    [theme=dark] .colab-df-convert:hover {\n",
              "      background-color: #434B5C;\n",
              "      box-shadow: 0px 1px 3px 1px rgba(0, 0, 0, 0.15);\n",
              "      filter: drop-shadow(0px 1px 2px rgba(0, 0, 0, 0.3));\n",
              "      fill: #FFFFFF;\n",
              "    }\n",
              "  </style>\n",
              "\n",
              "    <script>\n",
              "      const buttonEl =\n",
              "        document.querySelector('#df-2f20ed51-33ad-4003-a51b-82ec774805ca button.colab-df-convert');\n",
              "      buttonEl.style.display =\n",
              "        google.colab.kernel.accessAllowed ? 'block' : 'none';\n",
              "\n",
              "      async function convertToInteractive(key) {\n",
              "        const element = document.querySelector('#df-2f20ed51-33ad-4003-a51b-82ec774805ca');\n",
              "        const dataTable =\n",
              "          await google.colab.kernel.invokeFunction('convertToInteractive',\n",
              "                                                    [key], {});\n",
              "        if (!dataTable) return;\n",
              "\n",
              "        const docLinkHtml = 'Like what you see? Visit the ' +\n",
              "          '<a target=\"_blank\" href=https://colab.research.google.com/notebooks/data_table.ipynb>data table notebook</a>'\n",
              "          + ' to learn more about interactive tables.';\n",
              "        element.innerHTML = '';\n",
              "        dataTable['output_type'] = 'display_data';\n",
              "        await google.colab.output.renderOutput(dataTable, element);\n",
              "        const docLink = document.createElement('div');\n",
              "        docLink.innerHTML = docLinkHtml;\n",
              "        element.appendChild(docLink);\n",
              "      }\n",
              "    </script>\n",
              "  </div>\n",
              "\n",
              "\n",
              "<div id=\"df-a4321418-3b8b-4308-b7f2-8e3569bf309e\">\n",
              "  <button class=\"colab-df-quickchart\" onclick=\"quickchart('df-a4321418-3b8b-4308-b7f2-8e3569bf309e')\"\n",
              "            title=\"Suggest charts\"\n",
              "            style=\"display:none;\">\n",
              "\n",
              "<svg xmlns=\"http://www.w3.org/2000/svg\" height=\"24px\"viewBox=\"0 0 24 24\"\n",
              "     width=\"24px\">\n",
              "    <g>\n",
              "        <path d=\"M19 3H5c-1.1 0-2 .9-2 2v14c0 1.1.9 2 2 2h14c1.1 0 2-.9 2-2V5c0-1.1-.9-2-2-2zM9 17H7v-7h2v7zm4 0h-2V7h2v10zm4 0h-2v-4h2v4z\"/>\n",
              "    </g>\n",
              "</svg>\n",
              "  </button>\n",
              "\n",
              "<style>\n",
              "  .colab-df-quickchart {\n",
              "      --bg-color: #E8F0FE;\n",
              "      --fill-color: #1967D2;\n",
              "      --hover-bg-color: #E2EBFA;\n",
              "      --hover-fill-color: #174EA6;\n",
              "      --disabled-fill-color: #AAA;\n",
              "      --disabled-bg-color: #DDD;\n",
              "  }\n",
              "\n",
              "  [theme=dark] .colab-df-quickchart {\n",
              "      --bg-color: #3B4455;\n",
              "      --fill-color: #D2E3FC;\n",
              "      --hover-bg-color: #434B5C;\n",
              "      --hover-fill-color: #FFFFFF;\n",
              "      --disabled-bg-color: #3B4455;\n",
              "      --disabled-fill-color: #666;\n",
              "  }\n",
              "\n",
              "  .colab-df-quickchart {\n",
              "    background-color: var(--bg-color);\n",
              "    border: none;\n",
              "    border-radius: 50%;\n",
              "    cursor: pointer;\n",
              "    display: none;\n",
              "    fill: var(--fill-color);\n",
              "    height: 32px;\n",
              "    padding: 0;\n",
              "    width: 32px;\n",
              "  }\n",
              "\n",
              "  .colab-df-quickchart:hover {\n",
              "    background-color: var(--hover-bg-color);\n",
              "    box-shadow: 0 1px 2px rgba(60, 64, 67, 0.3), 0 1px 3px 1px rgba(60, 64, 67, 0.15);\n",
              "    fill: var(--button-hover-fill-color);\n",
              "  }\n",
              "\n",
              "  .colab-df-quickchart-complete:disabled,\n",
              "  .colab-df-quickchart-complete:disabled:hover {\n",
              "    background-color: var(--disabled-bg-color);\n",
              "    fill: var(--disabled-fill-color);\n",
              "    box-shadow: none;\n",
              "  }\n",
              "\n",
              "  .colab-df-spinner {\n",
              "    border: 2px solid var(--fill-color);\n",
              "    border-color: transparent;\n",
              "    border-bottom-color: var(--fill-color);\n",
              "    animation:\n",
              "      spin 1s steps(1) infinite;\n",
              "  }\n",
              "\n",
              "  @keyframes spin {\n",
              "    0% {\n",
              "      border-color: transparent;\n",
              "      border-bottom-color: var(--fill-color);\n",
              "      border-left-color: var(--fill-color);\n",
              "    }\n",
              "    20% {\n",
              "      border-color: transparent;\n",
              "      border-left-color: var(--fill-color);\n",
              "      border-top-color: var(--fill-color);\n",
              "    }\n",
              "    30% {\n",
              "      border-color: transparent;\n",
              "      border-left-color: var(--fill-color);\n",
              "      border-top-color: var(--fill-color);\n",
              "      border-right-color: var(--fill-color);\n",
              "    }\n",
              "    40% {\n",
              "      border-color: transparent;\n",
              "      border-right-color: var(--fill-color);\n",
              "      border-top-color: var(--fill-color);\n",
              "    }\n",
              "    60% {\n",
              "      border-color: transparent;\n",
              "      border-right-color: var(--fill-color);\n",
              "    }\n",
              "    80% {\n",
              "      border-color: transparent;\n",
              "      border-right-color: var(--fill-color);\n",
              "      border-bottom-color: var(--fill-color);\n",
              "    }\n",
              "    90% {\n",
              "      border-color: transparent;\n",
              "      border-bottom-color: var(--fill-color);\n",
              "    }\n",
              "  }\n",
              "</style>\n",
              "\n",
              "  <script>\n",
              "    async function quickchart(key) {\n",
              "      const quickchartButtonEl =\n",
              "        document.querySelector('#' + key + ' button');\n",
              "      quickchartButtonEl.disabled = true;  // To prevent multiple clicks.\n",
              "      quickchartButtonEl.classList.add('colab-df-spinner');\n",
              "      try {\n",
              "        const charts = await google.colab.kernel.invokeFunction(\n",
              "            'suggestCharts', [key], {});\n",
              "      } catch (error) {\n",
              "        console.error('Error during call to suggestCharts:', error);\n",
              "      }\n",
              "      quickchartButtonEl.classList.remove('colab-df-spinner');\n",
              "      quickchartButtonEl.classList.add('colab-df-quickchart-complete');\n",
              "    }\n",
              "    (() => {\n",
              "      let quickchartButtonEl =\n",
              "        document.querySelector('#df-a4321418-3b8b-4308-b7f2-8e3569bf309e button');\n",
              "      quickchartButtonEl.style.display =\n",
              "        google.colab.kernel.accessAllowed ? 'block' : 'none';\n",
              "    })();\n",
              "  </script>\n",
              "</div>\n",
              "\n",
              "  <div id=\"id_4c7f48d6-549e-420e-87a5-476c10c7f4d4\">\n",
              "    <style>\n",
              "      .colab-df-generate {\n",
              "        background-color: #E8F0FE;\n",
              "        border: none;\n",
              "        border-radius: 50%;\n",
              "        cursor: pointer;\n",
              "        display: none;\n",
              "        fill: #1967D2;\n",
              "        height: 32px;\n",
              "        padding: 0 0 0 0;\n",
              "        width: 32px;\n",
              "      }\n",
              "\n",
              "      .colab-df-generate:hover {\n",
              "        background-color: #E2EBFA;\n",
              "        box-shadow: 0px 1px 2px rgba(60, 64, 67, 0.3), 0px 1px 3px 1px rgba(60, 64, 67, 0.15);\n",
              "        fill: #174EA6;\n",
              "      }\n",
              "\n",
              "      [theme=dark] .colab-df-generate {\n",
              "        background-color: #3B4455;\n",
              "        fill: #D2E3FC;\n",
              "      }\n",
              "\n",
              "      [theme=dark] .colab-df-generate:hover {\n",
              "        background-color: #434B5C;\n",
              "        box-shadow: 0px 1px 3px 1px rgba(0, 0, 0, 0.15);\n",
              "        filter: drop-shadow(0px 1px 2px rgba(0, 0, 0, 0.3));\n",
              "        fill: #FFFFFF;\n",
              "      }\n",
              "    </style>\n",
              "    <button class=\"colab-df-generate\" onclick=\"generateWithVariable('results')\"\n",
              "            title=\"Generate code using this dataframe.\"\n",
              "            style=\"display:none;\">\n",
              "\n",
              "  <svg xmlns=\"http://www.w3.org/2000/svg\" height=\"24px\"viewBox=\"0 0 24 24\"\n",
              "       width=\"24px\">\n",
              "    <path d=\"M7,19H8.4L18.45,9,17,7.55,7,17.6ZM5,21V16.75L18.45,3.32a2,2,0,0,1,2.83,0l1.4,1.43a1.91,1.91,0,0,1,.58,1.4,1.91,1.91,0,0,1-.58,1.4L9.25,21ZM18.45,9,17,7.55Zm-12,3A5.31,5.31,0,0,0,4.9,8.1,5.31,5.31,0,0,0,1,6.5,5.31,5.31,0,0,0,4.9,4.9,5.31,5.31,0,0,0,6.5,1,5.31,5.31,0,0,0,8.1,4.9,5.31,5.31,0,0,0,12,6.5,5.46,5.46,0,0,0,6.5,12Z\"/>\n",
              "  </svg>\n",
              "    </button>\n",
              "    <script>\n",
              "      (() => {\n",
              "      const buttonEl =\n",
              "        document.querySelector('#id_4c7f48d6-549e-420e-87a5-476c10c7f4d4 button.colab-df-generate');\n",
              "      buttonEl.style.display =\n",
              "        google.colab.kernel.accessAllowed ? 'block' : 'none';\n",
              "\n",
              "      buttonEl.onclick = () => {\n",
              "        google.colab.notebook.generateWithVariable('results');\n",
              "      }\n",
              "      })();\n",
              "    </script>\n",
              "  </div>\n",
              "\n",
              "    </div>\n",
              "  </div>\n"
            ],
            "application/vnd.google.colaboratory.intrinsic+json": {
              "type": "dataframe",
              "variable_name": "results",
              "summary": "{\n  \"name\": \"results\",\n  \"rows\": 5,\n  \"fields\": [\n    {\n      \"column\": \"loss\",\n      \"properties\": {\n        \"dtype\": \"number\",\n        \"std\": 0.0008742636729808549,\n        \"min\": 1.475581169128418,\n        \"max\": 1.4777342081069946,\n        \"num_unique_values\": 5,\n        \"samples\": [\n          1.4768167734146118,\n          1.475581169128418,\n          1.4765431880950928\n        ],\n        \"semantic_type\": \"\",\n        \"description\": \"\"\n      }\n    },\n    {\n      \"column\": \"trainAcc\",\n      \"properties\": {\n        \"dtype\": \"number\",\n        \"std\": 0.08990504047256546,\n        \"min\": 98.49503326416016,\n        \"max\": 98.71864318847656,\n        \"num_unique_values\": 5,\n        \"samples\": [\n          98.59781646728516,\n          98.71864318847656,\n          98.61576843261719\n        ],\n        \"semantic_type\": \"\",\n        \"description\": \"\"\n      }\n    },\n    {\n      \"column\": \"valAcc\",\n      \"properties\": {\n        \"dtype\": \"number\",\n        \"std\": 0.1962079105625726,\n        \"min\": 96.97432708740234,\n        \"max\": 97.49279022216797,\n        \"num_unique_values\": 5,\n        \"samples\": [\n          97.18092346191406,\n          97.07447814941406,\n          97.49279022216797\n        ],\n        \"semantic_type\": \"\",\n        \"description\": \"\"\n      }\n    },\n    {\n      \"column\": \"testAcc\",\n      \"properties\": {\n        \"dtype\": \"number\",\n        \"std\": 0.0,\n        \"min\": 88.6500015258789,\n        \"max\": 88.6500015258789,\n        \"num_unique_values\": 1,\n        \"samples\": [\n          88.6500015258789\n        ],\n        \"semantic_type\": \"\",\n        \"description\": \"\"\n      }\n    },\n    {\n      \"column\": \"trainTime\",\n      \"properties\": {\n        \"dtype\": \"number\",\n        \"std\": 0.26556338363846127,\n        \"min\": 47.30571937561035,\n        \"max\": 48.00694537162781,\n        \"num_unique_values\": 5,\n        \"samples\": [\n          47.30571937561035\n        ],\n        \"semantic_type\": \"\",\n        \"description\": \"\"\n      }\n    }\n  ]\n}"
            }
          },
          "metadata": {}
        }
      ]
    },
    {
      "cell_type": "code",
      "source": [
        "#Visualize\n",
        "fig,ax = plt.subplots(1, 2,figsize=(18,6))\n",
        "\n",
        "ax[0].plot(results['loss'], 'g', lw = 3, label = 'Train')\n",
        "ax[0].set_xlabel('KFolds', fontsize = 15)\n",
        "ax[0].set_ylabel('Loss', fontsize = 15)\n",
        "ax[0].legend(fontsize = 15)\n",
        "ax[0].set_title(f'Training Time: {results[\"trainTime\"].sum():.2f} seconds', fontsize = 15)\n",
        "ax[0].grid(True)\n",
        "\n",
        "ax[1].plot(results['trainAcc'], label ='Train', lw = 3)\n",
        "ax[1].plot(results['valAcc'], label ='Test', lw = 3)\n",
        "ax[1].set_xlabel('KFolds', fontsize = 15)\n",
        "ax[1].set_ylabel('Accuracy (%)', fontsize = 15)\n",
        "ax[1].set_ylim([10,110])\n",
        "ax[1].set_title(f'Train Accuracy: {results[\"trainAcc\"].mean():.2f}% \\n Validation Accuracy: {results[\"valAcc\"].mean():.2f}%', fontsize = 15)\n",
        "ax[1].legend(fontsize = 15)\n",
        "\n",
        "plt.show()"
      ],
      "metadata": {
        "colab": {
          "base_uri": "https://localhost:8080/",
          "height": 360
        },
        "id": "URMvNqxqpu3H",
        "outputId": "535db8f8-bc21-4feb-e3aa-0a60566df950"
      },
      "execution_count": null,
      "outputs": [
        {
          "output_type": "display_data",
          "data": {
            "text/plain": [
              "<Figure size 1800x600 with 2 Axes>"
            ],
            "image/png": "[encoded data removed]"
          },
          "metadata": {}
        }
      ]
    },
    {
      "cell_type": "markdown",
      "source": [
        "## Final Test"
      ],
      "metadata": {
        "id": "uXfkX-C6GcOt"
      }
    },
    {
      "cell_type": "code",
      "source": [
        "print(f\"Test Samples: {len(test_loader)}\")"
      ],
      "metadata": {
        "colab": {
          "base_uri": "https://localhost:8080/"
        },
        "id": "JfhSKCOKG7Zo",
        "outputId": "bf02af0c-1be0-4021-b8dc-97c965bf7b0d"
      },
      "execution_count": null,
      "outputs": [
        {
          "output_type": "stream",
          "name": "stdout",
          "text": [
            "Test Samples: 10000\n"
          ]
        }
      ]
    },
    {
      "cell_type": "code",
      "source": [
        "testAcc = model_testing(model_nn, test_loader)\n",
        "print(f'Testset Accuracy: {testAcc:.2f}%')\n",
        "print(dash_lines)"
      ],
      "metadata": {
        "colab": {
          "base_uri": "https://localhost:8080/"
        },
        "id": "-qMUQsfuDd5Q",
        "outputId": "ec7310c4-b6d6-48b4-ec36-bb79b1c1c0fa"
      },
      "execution_count": null,
      "outputs": [
        {
          "output_type": "stream",
          "name": "stdout",
          "text": [
            "Testset Accuracy: 89.77%\n",
            "--------------------------------------------------------------------------------\n"
          ]
        }
      ]
    },
    {
      "cell_type": "markdown",
      "source": [
        "## Save `NN`"
      ],
      "metadata": {
        "id": "RXr6KjLHgdrs"
      }
    },
    {
      "cell_type": "code",
      "source": [
        "# Save the model\n",
        "torch.save(model_nn.state_dict(), 'Kmnist_model_adam.pth')"
      ],
      "metadata": {
        "id": "irxNSVQ4ggFW"
      },
      "execution_count": null,
      "outputs": []
    },
    {
      "cell_type": "markdown",
      "source": [
        "# Extra --"
      ],
      "metadata": {
        "id": "bNs2RtF-0cpy"
      }
    },
    {
      "cell_type": "code",
      "source": [
        "#NN Model Architecture - Japanise Symbols classification task\n",
        "model_seq_nn = nn.Sequential(\n",
        "    nn.Flatten(),\n",
        "    nn.Linear(784, 128, dtype=torch.float64),\n",
        "    nn.ReLU(),\n",
        "    nn.Linear(128, 64,  dtype=torch.float64),\n",
        "    nn.ReLU(),\n",
        "    nn.Linear(64, 10,  dtype=torch.float64),\n",
        "    nn.Softmax(dim=1)\n",
        ")\n",
        "\n",
        "#display\n",
        "model_seq_nn"
      ],
      "metadata": {
        "colab": {
          "base_uri": "https://localhost:8080/"
        },
        "id": "CufhujsIwEvD",
        "outputId": "746812f5-4ca1-4bf7-9ac9-983d52726a44"
      },
      "execution_count": null,
      "outputs": [
        {
          "output_type": "execute_result",
          "data": {
            "text/plain": [
              "Sequential(\n",
              "  (0): Flatten(start_dim=1, end_dim=-1)\n",
              "  (1): Linear(in_features=784, out_features=128, bias=True)\n",
              "  (2): ReLU()\n",
              "  (3): Linear(in_features=128, out_features=64, bias=True)\n",
              "  (4): ReLU()\n",
              "  (5): Linear(in_features=64, out_features=10, bias=True)\n",
              "  (6): Softmax(dim=1)\n",
              ")"
            ]
          },
          "metadata": {},
          "execution_count": 8
        }
      ]
    },
    {
      "cell_type": "code",
      "source": [
        "#Optimizer tunable*\n",
        "optimizer = optim.Adam(model_seq_nn.parameters(), lr=learning_rate)"
      ],
      "metadata": {
        "id": "fl889JKu0hrS"
      },
      "execution_count": null,
      "outputs": []
    },
    {
      "cell_type": "code",
      "source": [
        "#Training loop\n",
        "losses = torch.zeros(num_epochs)\n",
        "trainAcc = []\n",
        "valAcc = []\n",
        "trainTime = []\n",
        "\n",
        "for epoch in range(num_epochs):\n",
        "  batchLoss=[]\n",
        "  batchtrainAcc=[]\n",
        "  batchvalAcc=[]\n",
        "\n",
        "  #training\n",
        "  start_time = time.time()\n",
        "  model.train()\n",
        "  for batch_idx, (images, labels) in enumerate(train_loader):\n",
        "    images = images.to(device)\n",
        "    labels = labels.to(device)\n",
        "\n",
        "    #forwardpass\n",
        "    ypred = model(images)\n",
        "    #loss\n",
        "    loss = lossfunc(ypred, labels)\n",
        "\n",
        "    #backpass\n",
        "    optimizer.zero_grad()\n",
        "    loss.backward()\n",
        "    optimizer.step()\n",
        "\n",
        "    #storing results\n",
        "    batchLoss.append(loss.item())\n",
        "    ypred = ypred.cpu()\n",
        "    labels = labels.cpu()\n",
        "\n",
        "    # Compute batch accuracy\n",
        "    acc = 100 * torch.mean((torch.argmax(ypred, dim=1) == labels).float())\n",
        "    batchtrainAcc.append(acc)\n",
        "\n",
        "  end_time = time.time()\n",
        "  trainTime.append(end_time - start_time)\n",
        "  # End of batch loop\n",
        "  # Compute average training accuracy and loss for this epoch\n",
        "  trainAcc.append(np.mean(batchtrainAcc))\n",
        "  losses[epoch] = np.mean(batchLoss)\n",
        "\n",
        "  #evaluate on validation set\n",
        "  model.eval()\n",
        "  for batch_idx, (X, y) in enumerate(val_loader):\n",
        "    X = X.to(device)\n",
        "    y = y.to(device)\n",
        "\n",
        "    with torch.no_grad():\n",
        "      ypred = model(X)\n",
        "      ypred = ypred.cpu()\n",
        "      y = y.cpu()\n",
        "\n",
        "      # Compute test accuracy\n",
        "      batchvalAcc.append(100 * torch.mean((torch.argmax(ypred, dim=1) == y).float()))\n",
        "\n",
        "  valAcc.append(np.mean(batchvalAcc))\n",
        "\n",
        "  # Print epoch statistics\n",
        "  print(f'Epoch: {epoch+1:>3}/{num_epochs}, Loss: {loss.item():>6.2f}, Train Accuracy: {trainAcc[-1]:>6.2f}, Validation Accuracy: {valAcc[-1]:>6.2f}')\n",
        "\n",
        "print(f'Training Time: {np.sum(trainTime):.2f} seconds')"
      ],
      "metadata": {
        "colab": {
          "base_uri": "https://localhost:8080/"
        },
        "id": "toht2_kCzM4W",
        "outputId": "b6019eea-fc82-4378-b826-1e729ad1d00c"
      },
      "execution_count": null,
      "outputs": [
        {
          "output_type": "stream",
          "name": "stdout",
          "text": [
            "Epoch:   1/21, Loss:   1.49, Train Accuracy:  94.64, Validation Accuracy:  94.80\n",
            "Epoch:   2/21, Loss:   1.49, Train Accuracy:  94.78, Validation Accuracy:  94.85\n",
            "Epoch:   3/21, Loss:   1.52, Train Accuracy:  94.65, Validation Accuracy:  95.08\n",
            "Epoch:   4/21, Loss:   1.52, Train Accuracy:  94.67, Validation Accuracy:  94.84\n",
            "Epoch:   5/21, Loss:   1.49, Train Accuracy:  94.76, Validation Accuracy:  94.61\n",
            "Epoch:   6/21, Loss:   1.46, Train Accuracy:  94.82, Validation Accuracy:  94.93\n",
            "Epoch:   7/21, Loss:   1.46, Train Accuracy:  94.86, Validation Accuracy:  95.07\n",
            "Epoch:   8/21, Loss:   1.46, Train Accuracy:  94.90, Validation Accuracy:  94.99\n",
            "Epoch:   9/21, Loss:   1.49, Train Accuracy:  94.94, Validation Accuracy:  95.15\n",
            "Epoch:  10/21, Loss:   1.55, Train Accuracy:  94.96, Validation Accuracy:  94.94\n",
            "Epoch:  11/21, Loss:   1.49, Train Accuracy:  95.03, Validation Accuracy:  95.35\n",
            "Epoch:  12/21, Loss:   1.52, Train Accuracy:  95.04, Validation Accuracy:  95.23\n",
            "Epoch:  13/21, Loss:   1.49, Train Accuracy:  94.99, Validation Accuracy:  95.10\n",
            "Epoch:  14/21, Loss:   1.55, Train Accuracy:  95.03, Validation Accuracy:  95.05\n",
            "Epoch:  15/21, Loss:   1.49, Train Accuracy:  95.00, Validation Accuracy:  95.18\n",
            "Epoch:  16/21, Loss:   1.55, Train Accuracy:  94.98, Validation Accuracy:  95.03\n",
            "Epoch:  17/21, Loss:   1.52, Train Accuracy:  95.04, Validation Accuracy:  95.22\n",
            "Epoch:  18/21, Loss:   1.46, Train Accuracy:  95.06, Validation Accuracy:  95.29\n",
            "Epoch:  19/21, Loss:   1.49, Train Accuracy:  95.15, Validation Accuracy:  95.40\n",
            "Epoch:  20/21, Loss:   1.49, Train Accuracy:  95.21, Validation Accuracy:  95.29\n",
            "Epoch:  21/21, Loss:   1.52, Train Accuracy:  95.17, Validation Accuracy:  95.32\n",
            "Training Time: 51.21 seconds\n"
          ]
        }
      ]
    },
    {
      "cell_type": "code",
      "source": [
        "fig,ax = plt.subplots(1,2,figsize=(18,6))\n",
        "\n",
        "ax[0].plot(losses, 'g', lw = 3, label = 'Train')\n",
        "ax[0].set_xlabel('Epochs', fontsize = 15)\n",
        "ax[0].set_ylabel('Loss', fontsize = 15)\n",
        "ax[0].legend(fontsize = 15)\n",
        "ax[0].set_title('Training Loss', fontsize = 15)\n",
        "\n",
        "ax[1].plot(trainAcc, label ='Train', lw = 3)\n",
        "ax[1].plot(valAcc, label ='Test', lw = 3)\n",
        "ax[1].set_xlabel('Epochs', fontsize = 15)\n",
        "ax[1].set_ylabel('Accuracy (%)', fontsize = 15)\n",
        "ax[1].set_ylim([10,110])\n",
        "ax[1].set_title(f'Train Accuracy: {trainAcc[-1]:.2f}% \\n Validation Accuracy: {valAcc[-1]:.2f}%', fontsize = 15)\n",
        "ax[1].legend(fontsize = 15)\n",
        "\n",
        "plt.show()"
      ],
      "metadata": {
        "colab": {
          "base_uri": "https://localhost:8080/",
          "height": 362
        },
        "id": "wPZ59e5zAZiQ",
        "outputId": "0e314ad9-692b-4ffc-d250-735e541830c6"
      },
      "execution_count": null,
      "outputs": [
        {
          "output_type": "display_data",
          "data": {
            "text/plain": [
              "<Figure size 1800x600 with 2 Axes>"
            ],
            "image/png": "[encoded data removed]"
          },
          "metadata": {}
        }
      ]
    }
  ]
}
