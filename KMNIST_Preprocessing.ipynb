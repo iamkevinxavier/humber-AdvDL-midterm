{
  "nbformat": 4,
  "nbformat_minor": 0,
  "metadata": {
    "colab": {
      "provenance": []
    },
    "kernelspec": {
      "name": "python3",
      "display_name": "Python 3"
    },
    "language_info": {
      "name": "python"
    }
  },
  "cells": [
    {
      "cell_type": "code",
      "source": [
        "import numpy as np\n",
        "import pandas as pd\n",
        "import matplotlib.pyplot as plt\n",
        "import seaborn as sns"
      ],
      "metadata": {
        "id": "WKbXBinf53ej"
      },
      "execution_count": 1,
      "outputs": []
    },
    {
      "cell_type": "code",
      "source": [
        "# Interactive code to download the KMNIST dataset\n",
        "\n",
        "## Reference : https://github.com/rois-codh/kmnist/blob/master/download_data.py\n",
        "\n",
        "import requests\n",
        "\n",
        "try:\n",
        "    from tqdm import tqdm\n",
        "except ImportError:\n",
        "    tqdm = lambda x, total, unit: x  # If tqdm doesn't exist, replace it with a function that does nothing\n",
        "    print('**** Could not import tqdm. Please install tqdm for download progressbars! (pip install tqdm) ****')\n",
        "\n",
        "# Python2 compatibility\n",
        "try:\n",
        "    input = raw_input\n",
        "except NameError:\n",
        "    pass\n",
        "\n",
        "download_dict = {\n",
        "    '1) Kuzushiji-MNIST (10 classes, 28x28, 70k examples)': {\n",
        "        '1) MNIST data format (ubyte.gz)':\n",
        "            ['http://codh.rois.ac.jp/kmnist/dataset/kmnist/train-images-idx3-ubyte.gz',\n",
        "            'http://codh.rois.ac.jp/kmnist/dataset/kmnist/train-labels-idx1-ubyte.gz',\n",
        "            'http://codh.rois.ac.jp/kmnist/dataset/kmnist/t10k-images-idx3-ubyte.gz',\n",
        "            'http://codh.rois.ac.jp/kmnist/dataset/kmnist/t10k-labels-idx1-ubyte.gz'],\n",
        "        '2) NumPy data format (.npz)':\n",
        "            ['http://codh.rois.ac.jp/kmnist/dataset/kmnist/kmnist-train-imgs.npz',\n",
        "            'http://codh.rois.ac.jp/kmnist/dataset/kmnist/kmnist-train-labels.npz',\n",
        "            'http://codh.rois.ac.jp/kmnist/dataset/kmnist/kmnist-test-imgs.npz',\n",
        "            'http://codh.rois.ac.jp/kmnist/dataset/kmnist/kmnist-test-labels.npz'],\n",
        "    },\n",
        "    '2) Kuzushiji-49 (49 classes, 28x28, 270k examples)': {\n",
        "        '1) NumPy data format (.npz)':\n",
        "            ['http://codh.rois.ac.jp/kmnist/dataset/k49/k49-train-imgs.npz',\n",
        "            'http://codh.rois.ac.jp/kmnist/dataset/k49/k49-train-labels.npz',\n",
        "            'http://codh.rois.ac.jp/kmnist/dataset/k49/k49-test-imgs.npz',\n",
        "            'http://codh.rois.ac.jp/kmnist/dataset/k49/k49-test-labels.npz'],\n",
        "    },\n",
        "    '3) Kuzushiji-Kanji (3832 classes, 64x64, 140k examples)': {\n",
        "        '1) Folders of images (.tar)':\n",
        "            ['http://codh.rois.ac.jp/kmnist/dataset/kkanji/kkanji.tar'],\n",
        "    }\n",
        "\n",
        "}\n",
        "\n",
        "# Download a list of files\n",
        "def download_list(url_list):\n",
        "    for url in url_list:\n",
        "        path = url.split('/')[-1]\n",
        "        r = requests.get(url, stream=True)\n",
        "        with open(path, 'wb') as f:\n",
        "            total_length = int(r.headers.get('content-length'))\n",
        "            print('Downloading {} - {:.1f} MB'.format(path, (total_length / 1024000)))\n",
        "\n",
        "            for chunk in tqdm(r.iter_content(chunk_size=1024), total=int(total_length / 1024) + 1, unit=\"KB\"):\n",
        "                if chunk:\n",
        "                    f.write(chunk)\n",
        "    print('All dataset files downloaded!')\n",
        "\n",
        "# Ask the user about which path to take down the dict\n",
        "def traverse_dict(d):\n",
        "    print('Please select a download option:')\n",
        "    keys = sorted(d.keys())  # Print download options\n",
        "    for key in keys:\n",
        "        print(key)\n",
        "\n",
        "    userinput = input('> ').strip()\n",
        "\n",
        "    try:\n",
        "        selection = int(userinput) - 1\n",
        "    except ValueError:\n",
        "        print('Your selection was not valid')\n",
        "        traverse_dict(d)  # Try again if input was not valid\n",
        "        return\n",
        "\n",
        "    selected = keys[selection]\n",
        "\n",
        "    next_level = d[selected]\n",
        "    if isinstance(next_level, list):  # If we've hit a list of downloads, download that list\n",
        "        download_list(next_level)\n",
        "    else:\n",
        "        traverse_dict(next_level)     # Otherwise, repeat with the next level\n",
        "\n",
        "traverse_dict(download_dict)\n"
      ],
      "metadata": {
        "colab": {
          "base_uri": "https://localhost:8080/"
        },
        "id": "7nNw4tBA5-Zi",
        "outputId": "4c320844-a3ee-4e9a-8c2f-9248a1f0d3b0"
      },
      "execution_count": 2,
      "outputs": [
        {
          "output_type": "stream",
          "name": "stdout",
          "text": [
            "Please select a download option:\n",
            "1) Kuzushiji-MNIST (10 classes, 28x28, 70k examples)\n",
            "2) Kuzushiji-49 (49 classes, 28x28, 270k examples)\n",
            "3) Kuzushiji-Kanji (3832 classes, 64x64, 140k examples)\n",
            "> 1\n",
            "Please select a download option:\n",
            "1) MNIST data format (ubyte.gz)\n",
            "2) NumPy data format (.npz)\n",
            "> 2\n",
            "Downloading kmnist-train-imgs.npz - 18.0 MB\n"
          ]
        },
        {
          "output_type": "stream",
          "name": "stderr",
          "text": [
            "100%|██████████| 17954/17954 [00:10<00:00, 1703.16KB/s]\n"
          ]
        },
        {
          "output_type": "stream",
          "name": "stdout",
          "text": [
            "Downloading kmnist-train-labels.npz - 0.0 MB\n"
          ]
        },
        {
          "output_type": "stream",
          "name": "stderr",
          "text": [
            "100%|██████████| 30/30 [00:00<00:00, 351.64KB/s]\n"
          ]
        },
        {
          "output_type": "stream",
          "name": "stdout",
          "text": [
            "Downloading kmnist-test-imgs.npz - 3.0 MB\n"
          ]
        },
        {
          "output_type": "stream",
          "name": "stderr",
          "text": [
            "100%|██████████| 3008/3008 [00:02<00:00, 1464.58KB/s]\n"
          ]
        },
        {
          "output_type": "stream",
          "name": "stdout",
          "text": [
            "Downloading kmnist-test-labels.npz - 0.0 MB\n"
          ]
        },
        {
          "output_type": "stream",
          "name": "stderr",
          "text": [
            "100%|██████████| 6/6 [00:00<00:00, 6252.38KB/s]"
          ]
        },
        {
          "output_type": "stream",
          "name": "stdout",
          "text": [
            "All dataset files downloaded!\n"
          ]
        },
        {
          "output_type": "stream",
          "name": "stderr",
          "text": [
            "\n"
          ]
        }
      ]
    },
    {
      "cell_type": "code",
      "source": [
        "# Read the downloaded data\n",
        "train_images = np.load('kmnist-train-imgs.npz')['arr_0']\n",
        "train_labels = np.load('kmnist-train-labels.npz')['arr_0']\n",
        "test_images = np.load('kmnist-test-imgs.npz')['arr_0']\n",
        "test_labels = np.load('kmnist-test-labels.npz')['arr_0']"
      ],
      "metadata": {
        "id": "RrItVaPK7IXD"
      },
      "execution_count": 3,
      "outputs": []
    },
    {
      "cell_type": "code",
      "source": [
        "print(train_images.shape, train_labels.shape)\n",
        "print(test_images.shape, test_labels.shape)"
      ],
      "metadata": {
        "colab": {
          "base_uri": "https://localhost:8080/"
        },
        "id": "54rplok47PAH",
        "outputId": "b982e58d-186a-46c2-fdd6-b09da06a153a"
      },
      "execution_count": 5,
      "outputs": [
        {
          "output_type": "stream",
          "name": "stdout",
          "text": [
            "(60000, 28, 28) (60000,)\n",
            "(10000, 28, 28) (10000,)\n"
          ]
        }
      ]
    },
    {
      "cell_type": "code",
      "source": [
        "# Visualizing a peice of the training data\n",
        "fig, ax = plt.subplots(nrows=3, ncols=3, figsize=(10,10))\n",
        "ax = ax.flatten()\n",
        "for i in range(9):\n",
        "    ax[i].imshow(train_images[i], cmap='gray')\n",
        "    ax[i].set_title(f'Label: {train_labels[i]}')\n",
        "    ax[i].axis('off')\n",
        "plt.tight_layout()\n",
        "plt.show()"
      ],
      "metadata": {
        "colab": {
          "base_uri": "https://localhost:8080/",
          "height": 857
        },
        "id": "gMtq7EvD7Y5d",
        "outputId": "55f1dd51-e69a-458b-fbc3-7994d541b7e9"
      },
      "execution_count": 9,
      "outputs": [
        {
          "output_type": "display_data",
          "data": {
            "text/plain": [
              "<Figure size 1000x1000 with 9 Axes>"
            ],
            "image/png": "[encoded data removed]"
          },
          "metadata": {}
        }
      ]
    },
    {
      "cell_type": "code",
      "source": [
        "# Calculate the mean\n",
        "mean = np.mean(train_images)\n",
        "\n",
        "# Calculate the variance\n",
        "variance = np.var(train_images)\n",
        "\n",
        "# Print the results\n",
        "print(\"Training data - Mean:\", mean)\n",
        "print(\"Training data - Variance:\", variance)"
      ],
      "metadata": {
        "colab": {
          "base_uri": "https://localhost:8080/"
        },
        "id": "Yb1FVtm98Yzh",
        "outputId": "e598ef3b-a9d7-419d-9c5f-709d5febe31b"
      },
      "execution_count": 10,
      "outputs": [
        {
          "output_type": "stream",
          "name": "stdout",
          "text": [
            "Training data - Mean: 48.89934757653061\n",
            "Training data - Variance: 7890.310852678067\n"
          ]
        }
      ]
    },
    {
      "cell_type": "code",
      "source": [
        "# Standardizing\n",
        "from sklearn.preprocessing import StandardScaler\n",
        "\n",
        "# Reshape the data to 2D for StandardScaler\n",
        "train_images_2d = train_images.reshape(train_images.shape[0], -1)\n",
        "test_images_2d = test_images.reshape(test_images.shape[0], -1)"
      ],
      "metadata": {
        "id": "nfuLe3wE8qmX"
      },
      "execution_count": 11,
      "outputs": []
    },
    {
      "cell_type": "code",
      "source": [
        "# Check the new shape\n",
        "print(train_images_2d.shape)"
      ],
      "metadata": {
        "colab": {
          "base_uri": "https://localhost:8080/"
        },
        "id": "XExa3f_V-jzo",
        "outputId": "5f22c57c-251d-4872-d5b4-0203d19cc1d2"
      },
      "execution_count": 12,
      "outputs": [
        {
          "output_type": "stream",
          "name": "stdout",
          "text": [
            "(60000, 784)\n"
          ]
        }
      ]
    },
    {
      "cell_type": "code",
      "source": [
        "# Create a StandardScaler object\n",
        "scaler = StandardScaler()\n",
        "\n",
        "# Fit the scaler on the training data\n",
        "scaler.fit(train_images_2d)\n",
        "\n",
        "# Transform the training and test data\n",
        "train_images_standardized = scaler.transform(train_images_2d)\n",
        "test_images_standardized = scaler.transform(test_images_2d)\n",
        "\n",
        "# Reshape the data back to its original shape\n",
        "train_images_standardized = train_images_standardized.reshape(train_images.shape)\n",
        "test_images_standardized = test_images_standardized.reshape(test_images.shape)"
      ],
      "metadata": {
        "id": "ciwLnNxb-dsg"
      },
      "execution_count": 13,
      "outputs": []
    },
    {
      "cell_type": "code",
      "source": [
        "# Checking whether it's back to it's original shape\n",
        "print(train_images_standardized.shape)\n",
        "print('-' * 30)\n",
        "\n",
        "# Calculate the mean\n",
        "train_mean_standardized = np.mean(train_images_standardized)\n",
        "test_mean_standardized = np.mean(test_images_standardized)\n",
        "\n",
        "# Calculate the variance\n",
        "train_variance_standardized = np.var(train_images_standardized)\n",
        "test_variance_standardized = np.var(test_images_standardized)\n",
        "\n",
        "# Print the results\n",
        "print(f\"Training data after standardization - Mean: {train_mean_standardized:.2f}\")\n",
        "print(f\"Test data after standardization - Mean: {test_mean_standardized:.2f}\")\n",
        "print('-' * 30)\n",
        "print(f\"Training data after standardization - Variance: {train_variance_standardized:.2f}\")\n",
        "print(f\"Test data after standardization - Variance: {test_variance_standardized:.2f}\")"
      ],
      "metadata": {
        "colab": {
          "base_uri": "https://localhost:8080/"
        },
        "id": "lb_47rFX-6cT",
        "outputId": "9000329c-e6c9-412d-a426-c2af03843cd6"
      },
      "execution_count": 18,
      "outputs": [
        {
          "output_type": "stream",
          "name": "stdout",
          "text": [
            "(60000, 28, 28)\n",
            "------------------------------\n",
            "Training data after standardization - Mean: -0.00\n",
            "Test data after standardization - Mean: -0.02\n",
            "------------------------------\n",
            "Training data after standardization - Variance: 1.00\n",
            "Test data after standardization - Variance: 0.98\n"
          ]
        }
      ]
    },
    {
      "cell_type": "code",
      "source": [
        "# Labels\n",
        "# Count occurrences of each label in the training set\n",
        "unique, counts = np.unique(train_labels, return_counts=True)\n",
        "label_distribution = dict(zip(unique, counts))\n",
        "\n",
        "# Print the label distribution\n",
        "print(\"Label distribution:\", label_distribution)\n",
        "\n",
        "# Plot the distribution\n",
        "plt.bar(label_distribution.keys(), label_distribution.values())\n",
        "plt.xlabel('Labels')\n",
        "plt.ylabel('Frequency')\n",
        "plt.title('Label Distribution in KMNIST Training Set')\n",
        "plt.xticks(range(10))  # Show x-ticks for each label\n",
        "plt.show()"
      ],
      "metadata": {
        "colab": {
          "base_uri": "https://localhost:8080/",
          "height": 509
        },
        "id": "yMDiaHYZC2m2",
        "outputId": "fa2d4c15-477e-46fa-933d-aec845239b75"
      },
      "execution_count": 19,
      "outputs": [
        {
          "output_type": "stream",
          "name": "stdout",
          "text": [
            "Label distribution: {0: 6000, 1: 6000, 2: 6000, 3: 6000, 4: 6000, 5: 6000, 6: 6000, 7: 6000, 8: 6000, 9: 6000}\n"
          ]
        },
        {
          "output_type": "display_data",
          "data": {
            "text/plain": [
              "<Figure size 640x480 with 1 Axes>"
            ],
            "image/png": "[encoded data removed]"
          },
          "metadata": {}
        }
      ]
    },
    {
      "cell_type": "code",
      "source": [
        "# Saving\n",
        "\n",
        "# Save standardized training data\n",
        "np.savez_compressed('kmnist_train_preprocessed.npz', images=train_images_standardized, labels=train_labels)\n",
        "\n",
        "# Save standardized test data\n",
        "np.savez_compressed('kmnist_test_preprocessed.npz', images=test_images_standardized, labels=test_labels)"
      ],
      "metadata": {
        "id": "mnW6xdIwKxw-"
      },
      "execution_count": 20,
      "outputs": []
    },
    {
      "cell_type": "code",
      "source": [
        "\"\"\"\n",
        "\n",
        "# Loading\n",
        "# use the following code to load the data\n",
        "\n",
        "import numpy as np\n",
        "\n",
        "# Load standardized training data\n",
        "loaded_train_data = np.load('kmnist_train_preprocessed.npz')\n",
        "train_images = loaded_train_data['images']\n",
        "train_labels = loaded_train_data['labels']\n",
        "\n",
        "# Load standardized test data\n",
        "loaded_test_data = np.load('kmnist_test_preprocessed.npz')\n",
        "test_images = loaded_test_data['images']\n",
        "test_labels = loaded_test_data['labels']\n",
        "\n",
        "\n",
        "\"\"\""
      ],
      "metadata": {
        "id": "dakC41pRLP9E"
      },
      "execution_count": null,
      "outputs": []
    }
  ]
}