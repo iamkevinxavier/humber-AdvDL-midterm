{
  "nbformat": 4,
  "nbformat_minor": 0,
  "metadata": {
    "colab": {
      "provenance": [],
      "collapsed_sections": [
        "bNs2RtF-0cpy"
      ],
      "gpuType": "T4"
    },
    "kernelspec": {
      "name": "python3",
      "display_name": "Python 3"
    },
    "language_info": {
      "name": "python"
    },
    "accelerator": "GPU"
  },
  "cells": [
    {
      "cell_type": "markdown",
      "source": [
        "## Optimizers"
      ],
      "metadata": {
        "id": "W2XoRIn4nlKX"
      }
    },
    {
      "cell_type": "markdown",
      "source": [
        "1. **Objective**: Research and investigate to compare the performance of `Adam\n",
        "(Adaptive Moment Estimation)`, `RMSprop (Root Mean Square Prop)`, and\n",
        "`AdamW (Adam with Weight Decay)` optimizers on a feedforward fully\n",
        "connected neural network using the KMNIST dataset.\n",
        "1. **Importance**: Understanding the strengths and weaknesses of different\n",
        "optimization algorithms helps in selecting the right one for specific tasks in\n",
        "deep learning"
      ],
      "metadata": {
        "id": "AX4EYwcwqpe0"
      }
    },
    {
      "cell_type": "code",
      "execution_count": 1,
      "metadata": {
        "colab": {
          "base_uri": "https://localhost:8080/"
        },
        "id": "iH69Kg7pqPIx",
        "outputId": "9693d99b-862c-4fb2-e83b-26690702c82f"
      },
      "outputs": [
        {
          "output_type": "stream",
          "name": "stdout",
          "text": [
            "Collecting skorch\n",
            "  Downloading skorch-1.0.0-py3-none-any.whl.metadata (11 kB)\n",
            "Requirement already satisfied: numpy>=1.13.3 in /usr/local/lib/python3.10/dist-packages (from skorch) (1.26.4)\n",
            "Requirement already satisfied: scikit-learn>=0.22.0 in /usr/local/lib/python3.10/dist-packages (from skorch) (1.5.2)\n",
            "Requirement already satisfied: scipy>=1.1.0 in /usr/local/lib/python3.10/dist-packages (from skorch) (1.13.1)\n",
            "Requirement already satisfied: tabulate>=0.7.7 in /usr/local/lib/python3.10/dist-packages (from skorch) (0.9.0)\n",
            "Requirement already satisfied: tqdm>=4.14.0 in /usr/local/lib/python3.10/dist-packages (from skorch) (4.66.5)\n",
            "Requirement already satisfied: joblib>=1.2.0 in /usr/local/lib/python3.10/dist-packages (from scikit-learn>=0.22.0->skorch) (1.4.2)\n",
            "Requirement already satisfied: threadpoolctl>=3.1.0 in /usr/local/lib/python3.10/dist-packages (from scikit-learn>=0.22.0->skorch) (3.5.0)\n",
            "Downloading skorch-1.0.0-py3-none-any.whl (239 kB)\n",
            "\u001b[2K   \u001b[90m━━━━━━━━━━━━━━━━━━━━━━━━━━━━━━━━━━━━━━━━\u001b[0m \u001b[32m239.4/239.4 kB\u001b[0m \u001b[31m7.7 MB/s\u001b[0m eta \u001b[36m0:00:00\u001b[0m\n",
            "\u001b[?25hInstalling collected packages: skorch\n",
            "Successfully installed skorch-1.0.0\n"
          ]
        }
      ],
      "source": [
        "import torch\n",
        "import torch.nn as nn\n",
        "import torch.optim as optim\n",
        "import torch.nn.functional as F\n",
        "from torch.utils.data import DataLoader\n",
        "from torchvision import datasets, transforms\n",
        "\n",
        "import numpy as np\n",
        "import pandas as pd\n",
        "import matplotlib.pyplot as plt\n",
        "import zipfile\n",
        "import os\n",
        "import time\n",
        "plt.style.use('dark_background')\n",
        "dash_lines = \"-\"*80\n",
        "\n",
        "!pip install skorch"
      ]
    },
    {
      "cell_type": "markdown",
      "source": [
        "## Notebook Guide\n",
        "1. Github load latest files - `git clone`\n",
        "1. Initialize `constants`\n",
        "1. Grid/Randomized Search on Optimizer's params\n",
        "1. Train - `NN` on Best `Optimizer params*`\n",
        "1. Test - `NN` on Hold-out Testset\n",
        "1. Save `model` & `results`"
      ],
      "metadata": {
        "id": "2yG3aESNlAmT"
      }
    },
    {
      "cell_type": "markdown",
      "source": [
        "## Step 1. Github sync"
      ],
      "metadata": {
        "id": "bwStY_lAzFQg"
      }
    },
    {
      "cell_type": "code",
      "source": [
        "#Github clone\n",
        "!git clone https://github.com/iamkevinxavier/humber-AdvDL-midterm.git"
      ],
      "metadata": {
        "colab": {
          "base_uri": "https://localhost:8080/"
        },
        "id": "aHZFJmWBsrNS",
        "outputId": "36ce545f-04e7-4fa0-930c-d0ef49075309"
      },
      "execution_count": 2,
      "outputs": [
        {
          "output_type": "stream",
          "name": "stdout",
          "text": [
            "Cloning into 'humber-AdvDL-midterm'...\n",
            "remote: Enumerating objects: 29, done.\u001b[K\n",
            "remote: Counting objects: 100% (29/29), done.\u001b[K\n",
            "remote: Compressing objects: 100% (26/26), done.\u001b[K\n",
            "remote: Total 29 (delta 7), reused 7 (delta 1), pack-reused 0 (from 0)\u001b[K\n",
            "Receiving objects: 100% (29/29), 1.24 MiB | 15.91 MiB/s, done.\n",
            "Resolving deltas: 100% (7/7), done.\n",
            "Downloading Dataset/kmnist_preprocessed.zip (149 MB)\n",
            "Error downloading object: Dataset/kmnist_preprocessed.zip (a42a9ef): Smudge error: Error downloading Dataset/kmnist_preprocessed.zip (a42a9ef04ed3b62ee223d1b7c61eee61d6bbbfb47a2cd38e178aeaf147dbafcc): batch response: This repository is over its data quota. Account responsible for LFS bandwidth should purchase more data packs to restore access.\n",
            "\n",
            "Errors logged to /content/humber-AdvDL-midterm/.git/lfs/logs/20241019T005221.355030819.log\n",
            "Use `git lfs logs last` to view the log.\n",
            "error: external filter 'git-lfs filter-process' failed\n",
            "fatal: Dataset/kmnist_preprocessed.zip: smudge filter lfs failed\n",
            "warning: Clone succeeded, but checkout failed.\n",
            "You can inspect what was checked out with 'git status'\n",
            "and retry with 'git restore --source=HEAD :/'\n",
            "\n"
          ]
        }
      ]
    },
    {
      "cell_type": "code",
      "source": [
        "import kagglehub\n",
        "\n",
        "# Download latest version\n",
        "path = kagglehub.dataset_download(\"iamkevinxavier/kmnist-standardized\")\n",
        "\n",
        "print(\"Path to dataset files:\", path)"
      ],
      "metadata": {
        "colab": {
          "base_uri": "https://localhost:8080/"
        },
        "id": "_41eCVQZbwNF",
        "outputId": "21ff7699-99c4-4d49-b299-3858a08fb9d6"
      },
      "execution_count": 3,
      "outputs": [
        {
          "output_type": "stream",
          "name": "stdout",
          "text": [
            "Warning: Looks like you're using an outdated `kagglehub` version, please consider updating (latest version: 0.3.3)\n",
            "Downloading from https://www.kaggle.com/api/v1/datasets/download/iamkevinxavier/kmnist-standardized?dataset_version_number=1...\n"
          ]
        },
        {
          "output_type": "stream",
          "name": "stderr",
          "text": [
            "100%|██████████| 142M/142M [00:09<00:00, 16.3MB/s]"
          ]
        },
        {
          "output_type": "stream",
          "name": "stdout",
          "text": [
            "Extracting files...\n"
          ]
        },
        {
          "output_type": "stream",
          "name": "stderr",
          "text": [
            "\n"
          ]
        },
        {
          "output_type": "stream",
          "name": "stdout",
          "text": [
            "Path to dataset files: /root/.cache/kagglehub/datasets/iamkevinxavier/kmnist-standardized/versions/1\n"
          ]
        }
      ]
    },
    {
      "cell_type": "markdown",
      "source": [
        "## Load Preprocessed Data\n",
        "1. Standarized\n",
        "1. train/val/test : 60/10/10"
      ],
      "metadata": {
        "id": "fOwrQF9wwTG6"
      }
    },
    {
      "cell_type": "code",
      "source": [
        "#Load KMNIST preprocessed data from folder\n",
        "file_path = 'humber-AdvDL-midterm/Dataset/kmnist_preprocessed.zip'\n",
        "extract_to = './KMNIST_Dataset'\n",
        "with zipfile.ZipFile(file_path, 'r') as zip_ref:\n",
        "  zip_ref.extractall(extract_to)"
      ],
      "metadata": {
        "id": "5PwDPVlUsCSy"
      },
      "execution_count": null,
      "outputs": []
    },
    {
      "cell_type": "code",
      "source": [
        "extract_to = path\n",
        "train_file_path = os.path.join(extract_to, 'kmnist_train_preprocessed.npz')\n",
        "val_file_path = os.path.join(extract_to, 'kmnist_val_preprocessed.npz')\n",
        "test_file_path = os.path.join(extract_to, 'kmnist_test_preprocessed.npz')"
      ],
      "metadata": {
        "id": "pvII5Xu8tm6I"
      },
      "execution_count": 4,
      "outputs": []
    },
    {
      "cell_type": "code",
      "source": [
        "#datasets paths\n",
        "train_file_path"
      ],
      "metadata": {
        "colab": {
          "base_uri": "https://localhost:8080/",
          "height": 53
        },
        "id": "KtRYlOD9cdKD",
        "outputId": "d73c6561-9c8e-496e-cf23-46af20973c6f"
      },
      "execution_count": 5,
      "outputs": [
        {
          "output_type": "execute_result",
          "data": {
            "text/plain": [
              "'/root/.cache/kagglehub/datasets/iamkevinxavier/kmnist-standardized/versions/1/kmnist_train_preprocessed.npz'"
            ],
            "application/vnd.google.colaboratory.intrinsic+json": {
              "type": "string"
            }
          },
          "metadata": {},
          "execution_count": 5
        }
      ]
    },
    {
      "cell_type": "markdown",
      "source": [
        "## Step 2. Model Architecture"
      ],
      "metadata": {
        "id": "4B3HVIY1ymRh"
      }
    },
    {
      "cell_type": "code",
      "source": [
        "class NeuralNet(nn.Module):\n",
        "  def __init__(self):\n",
        "    super(NeuralNet, self).__init__()\n",
        "    self.fc1 = nn.Flatten()\n",
        "    self.fc2 = nn.Linear(784, 128, dtype=torch.float64)\n",
        "    self.fc3 = nn.ReLU()\n",
        "    self.fc4 = nn.Linear(128, 64, dtype=torch.float64)\n",
        "    self.fc5 = nn.ReLU()\n",
        "    self.fc6 = nn.Linear(64, 10, dtype=torch.float64)\n",
        "    self.fc7 = nn.Softmax(dim=1)\n",
        "\n",
        "  def forward(self, x):\n",
        "    x = self.fc1(x)\n",
        "    x = self.fc2(x)\n",
        "    x = self.fc3(x)\n",
        "    x = self.fc4(x)\n",
        "    x = self.fc5(x)\n",
        "    x = self.fc6(x)\n",
        "    x = self.fc7(x)\n",
        "    return x\n",
        "\n",
        "model_nn = NeuralNet()"
      ],
      "metadata": {
        "id": "yKrlUP3MJg9D"
      },
      "execution_count": 6,
      "outputs": []
    },
    {
      "cell_type": "code",
      "source": [
        "#constant params*\n",
        "learning_rate = 1e-3\n",
        "batch_size = 64\n",
        "num_epochs = 21\n",
        "lossfunc = nn.CrossEntropyLoss()\n",
        "\n",
        "#grid search params*\n",
        "n_iter = 10\n",
        "cv = 5"
      ],
      "metadata": {
        "id": "mIuW6cc02k-H"
      },
      "execution_count": 7,
      "outputs": []
    },
    {
      "cell_type": "markdown",
      "source": [
        "## Step 3. Grid Search for Optimizers Parameters"
      ],
      "metadata": {
        "id": "b-cAnIydtwz4"
      }
    },
    {
      "cell_type": "code",
      "source": [
        "from sklearn.model_selection import RandomizedSearchCV, GridSearchCV\n",
        "from skorch import NeuralNetClassifier"
      ],
      "metadata": {
        "id": "7Vptjdnwq0K4"
      },
      "execution_count": 11,
      "outputs": []
    },
    {
      "cell_type": "markdown",
      "source": [
        "### define params*"
      ],
      "metadata": {
        "id": "7ibwJZu4lv_J"
      }
    },
    {
      "cell_type": "code",
      "source": [
        "#search params* Optimizer\n",
        "param_grid = {\n",
        "    'optimizer__lr': [1e-2, 1e-3, 1e-4],  # Learning rate\n",
        "    'optimizer__betas': [(0.9, 0.999), (0.8, 0.999)],  # Exponential decay rates for moment estimates\n",
        "    'optimizer__eps': [1e-8, 1e-7],  # Small value to prevent division by zero\n",
        "}"
      ],
      "metadata": {
        "id": "KB-1Z10s3Vke"
      },
      "execution_count": 8,
      "outputs": []
    },
    {
      "cell_type": "code",
      "source": [
        "def load_data():\n",
        "  train_data = np.load(train_file_path)\n",
        "  val_data = np.load(val_file_path)\n",
        "  X = np.concatenate([train_data['images'], val_data['images']], axis=0)\n",
        "  y = np.concatenate([train_data['labels'], val_data['labels']], axis=0)\n",
        "  X = torch.tensor(X, dtype=torch.float64)\n",
        "  y = torch.tensor(y, dtype=torch.long)\n",
        "  print(\"Train images: \", X.shape)\n",
        "  print(\"Train label: \", y.shape)\n",
        "  return X, y"
      ],
      "metadata": {
        "id": "5OxI190JOZjY"
      },
      "execution_count": 9,
      "outputs": []
    },
    {
      "cell_type": "code",
      "source": [
        "#check device\n",
        "device = torch.device(\"cuda\" if torch.cuda.is_available() else \"cpu\")\n",
        "print(f'Device: {device}')\n",
        "\n",
        "#wrapper to skorch nn for compatibility with scikit API\n",
        "model = NeuralNetClassifier(\n",
        "    module = NeuralNet,\n",
        "    criterion = nn.CrossEntropyLoss,\n",
        "    optimizer = optim.Adam, #change optimizer\n",
        "    max_epochs = num_epochs,\n",
        "    batch_size = batch_size,\n",
        "    device = device,\n",
        "    verbose = False\n",
        ")\n",
        "\n",
        "#initializing search\n",
        "grid = RandomizedSearchCV(\n",
        "    estimator = model,\n",
        "    param_distributions = param_grid,\n",
        "    n_jobs = -1,\n",
        "    n_iter = n_iter,\n",
        "    cv = cv #KFold\n",
        ")\n",
        "\n",
        "#load data\n",
        "X, y = load_data()\n",
        "\n",
        "#fit\n",
        "start_time = time.time()\n",
        "grid_result = grid.fit(X, y)\n",
        "end_time = time.time()\n",
        "print(f'Training Time: {end_time - start_time:.2f} seconds')\n",
        "\n",
        "#summarize\n",
        "print(f\"Grid Search -> cv: {3}, epochs: {num_epochs}, batch_size: {batch_size}\")\n",
        "print(dash_lines)\n",
        "print(\"Best: %f using %s\" % (grid_result.best_score_, grid_result.best_params_))\n",
        "print(dash_lines)\n",
        "means = grid_result.cv_results_['mean_test_score']\n",
        "stds = grid_result.cv_results_['std_test_score']\n",
        "params = grid_result.cv_results_['params']\n",
        "for mean, stdev, param in zip(means, stds, params):\n",
        "    print(\"%f (%f) with: %r\" % (mean, stdev, param))"
      ],
      "metadata": {
        "colab": {
          "base_uri": "https://localhost:8080/"
        },
        "id": "f-9ynEOEMP26",
        "outputId": "0213349a-2d80-46aa-97d9-de0fb006846a"
      },
      "execution_count": 12,
      "outputs": [
        {
          "output_type": "stream",
          "name": "stdout",
          "text": [
            "Device: cuda\n",
            "Train images:  torch.Size([60000, 28, 28])\n",
            "Train label:  torch.Size([60000])\n",
            "Training Time: 2015.27 seconds\n",
            "Grid Search -> cv: 3, epochs: 21, batch_size: 64\n",
            "--------------------------------------------------------------------------------\n",
            "Best: 0.935850 using {'optimizer__lr': 0.001, 'optimizer__eps': 1e-07, 'optimizer__betas': (0.9, 0.999)}\n",
            "--------------------------------------------------------------------------------\n",
            "0.935850 (0.003153) with: {'optimizer__lr': 0.001, 'optimizer__eps': 1e-07, 'optimizer__betas': (0.9, 0.999)}\n",
            "0.376517 (0.075187) with: {'optimizer__lr': 0.01, 'optimizer__eps': 1e-08, 'optimizer__betas': (0.9, 0.999)}\n",
            "0.902900 (0.009206) with: {'optimizer__lr': 0.0001, 'optimizer__eps': 1e-08, 'optimizer__betas': (0.8, 0.999)}\n",
            "0.339367 (0.078820) with: {'optimizer__lr': 0.01, 'optimizer__eps': 1e-07, 'optimizer__betas': (0.9, 0.999)}\n",
            "0.400700 (0.080001) with: {'optimizer__lr': 0.01, 'optimizer__eps': 1e-07, 'optimizer__betas': (0.8, 0.999)}\n",
            "0.925583 (0.014672) with: {'optimizer__lr': 0.001, 'optimizer__eps': 1e-08, 'optimizer__betas': (0.8, 0.999)}\n",
            "0.904117 (0.011291) with: {'optimizer__lr': 0.0001, 'optimizer__eps': 1e-07, 'optimizer__betas': (0.9, 0.999)}\n",
            "0.930517 (0.010026) with: {'optimizer__lr': 0.001, 'optimizer__eps': 1e-07, 'optimizer__betas': (0.8, 0.999)}\n",
            "0.931567 (0.011662) with: {'optimizer__lr': 0.001, 'optimizer__eps': 1e-08, 'optimizer__betas': (0.9, 0.999)}\n",
            "0.899350 (0.006104) with: {'optimizer__lr': 0.0001, 'optimizer__eps': 1e-07, 'optimizer__betas': (0.8, 0.999)}\n"
          ]
        }
      ]
    },
    {
      "cell_type": "code",
      "source": [
        "#store grid search results in DataFrame\n",
        "results_df = pd.DataFrame(grid_result.cv_results_)\n",
        "results_df = pd.concat([pd.DataFrame(results_df['params'].tolist()),\n",
        "                        results_df[['mean_test_score', 'std_test_score']]], axis=1)\n",
        "display(results_df)\n",
        "results_df.to_csv(f'Adam_grid_search_results.csv', index=True, header=True)"
      ],
      "metadata": {
        "colab": {
          "base_uri": "https://localhost:8080/",
          "height": 383
        },
        "id": "isl7qKZHPRXG",
        "outputId": "4cad9300-5351-4973-9150-c24eefe961e0"
      },
      "execution_count": 13,
      "outputs": [
        {
          "output_type": "display_data",
          "data": {
            "text/plain": [
              "   optimizer__lr  optimizer__eps optimizer__betas  mean_test_score  \\\n",
              "0         0.0010    1.000000e-07     (0.9, 0.999)         0.935850   \n",
              "1         0.0100    1.000000e-08     (0.9, 0.999)         0.376517   \n",
              "2         0.0001    1.000000e-08     (0.8, 0.999)         0.902900   \n",
              "3         0.0100    1.000000e-07     (0.9, 0.999)         0.339367   \n",
              "4         0.0100    1.000000e-07     (0.8, 0.999)         0.400700   \n",
              "5         0.0010    1.000000e-08     (0.8, 0.999)         0.925583   \n",
              "6         0.0001    1.000000e-07     (0.9, 0.999)         0.904117   \n",
              "7         0.0010    1.000000e-07     (0.8, 0.999)         0.930517   \n",
              "8         0.0010    1.000000e-08     (0.9, 0.999)         0.931567   \n",
              "9         0.0001    1.000000e-07     (0.8, 0.999)         0.899350   \n",
              "\n",
              "   std_test_score  \n",
              "0        0.003153  \n",
              "1        0.075187  \n",
              "2        0.009206  \n",
              "3        0.078820  \n",
              "4        0.080001  \n",
              "5        0.014672  \n",
              "6        0.011291  \n",
              "7        0.010026  \n",
              "8        0.011662  \n",
              "9        0.006104  "
            ],
            "text/html": [
              "\n",
              "  <div id=\"df-953429a1-bd44-44ef-8115-402e4e313a6f\" class=\"colab-df-container\">\n",
              "    <div>\n",
              "<style scoped>\n",
              "    .dataframe tbody tr th:only-of-type {\n",
              "        vertical-align: middle;\n",
              "    }\n",
              "\n",
              "    .dataframe tbody tr th {\n",
              "        vertical-align: top;\n",
              "    }\n",
              "\n",
              "    .dataframe thead th {\n",
              "        text-align: right;\n",
              "    }\n",
              "</style>\n",
              "<table border=\"1\" class=\"dataframe\">\n",
              "  <thead>\n",
              "    <tr style=\"text-align: right;\">\n",
              "      <th></th>\n",
              "      <th>optimizer__lr</th>\n",
              "      <th>optimizer__eps</th>\n",
              "      <th>optimizer__betas</th>\n",
              "      <th>mean_test_score</th>\n",
              "      <th>std_test_score</th>\n",
              "    </tr>\n",
              "  </thead>\n",
              "  <tbody>\n",
              "    <tr>\n",
              "      <th>0</th>\n",
              "      <td>0.0010</td>\n",
              "      <td>1.000000e-07</td>\n",
              "      <td>(0.9, 0.999)</td>\n",
              "      <td>0.935850</td>\n",
              "      <td>0.003153</td>\n",
              "    </tr>\n",
              "    <tr>\n",
              "      <th>1</th>\n",
              "      <td>0.0100</td>\n",
              "      <td>1.000000e-08</td>\n",
              "      <td>(0.9, 0.999)</td>\n",
              "      <td>0.376517</td>\n",
              "      <td>0.075187</td>\n",
              "    </tr>\n",
              "    <tr>\n",
              "      <th>2</th>\n",
              "      <td>0.0001</td>\n",
              "      <td>1.000000e-08</td>\n",
              "      <td>(0.8, 0.999)</td>\n",
              "      <td>0.902900</td>\n",
              "      <td>0.009206</td>\n",
              "    </tr>\n",
              "    <tr>\n",
              "      <th>3</th>\n",
              "      <td>0.0100</td>\n",
              "      <td>1.000000e-07</td>\n",
              "      <td>(0.9, 0.999)</td>\n",
              "      <td>0.339367</td>\n",
              "      <td>0.078820</td>\n",
              "    </tr>\n",
              "    <tr>\n",
              "      <th>4</th>\n",
              "      <td>0.0100</td>\n",
              "      <td>1.000000e-07</td>\n",
              "      <td>(0.8, 0.999)</td>\n",
              "      <td>0.400700</td>\n",
              "      <td>0.080001</td>\n",
              "    </tr>\n",
              "    <tr>\n",
              "      <th>5</th>\n",
              "      <td>0.0010</td>\n",
              "      <td>1.000000e-08</td>\n",
              "      <td>(0.8, 0.999)</td>\n",
              "      <td>0.925583</td>\n",
              "      <td>0.014672</td>\n",
              "    </tr>\n",
              "    <tr>\n",
              "      <th>6</th>\n",
              "      <td>0.0001</td>\n",
              "      <td>1.000000e-07</td>\n",
              "      <td>(0.9, 0.999)</td>\n",
              "      <td>0.904117</td>\n",
              "      <td>0.011291</td>\n",
              "    </tr>\n",
              "    <tr>\n",
              "      <th>7</th>\n",
              "      <td>0.0010</td>\n",
              "      <td>1.000000e-07</td>\n",
              "      <td>(0.8, 0.999)</td>\n",
              "      <td>0.930517</td>\n",
              "      <td>0.010026</td>\n",
              "    </tr>\n",
              "    <tr>\n",
              "      <th>8</th>\n",
              "      <td>0.0010</td>\n",
              "      <td>1.000000e-08</td>\n",
              "      <td>(0.9, 0.999)</td>\n",
              "      <td>0.931567</td>\n",
              "      <td>0.011662</td>\n",
              "    </tr>\n",
              "    <tr>\n",
              "      <th>9</th>\n",
              "      <td>0.0001</td>\n",
              "      <td>1.000000e-07</td>\n",
              "      <td>(0.8, 0.999)</td>\n",
              "      <td>0.899350</td>\n",
              "      <td>0.006104</td>\n",
              "    </tr>\n",
              "  </tbody>\n",
              "</table>\n",
              "</div>\n",
              "    <div class=\"colab-df-buttons\">\n",
              "\n",
              "  <div class=\"colab-df-container\">\n",
              "    <button class=\"colab-df-convert\" onclick=\"convertToInteractive('df-953429a1-bd44-44ef-8115-402e4e313a6f')\"\n",
              "            title=\"Convert this dataframe to an interactive table.\"\n",
              "            style=\"display:none;\">\n",
              "\n",
              "  <svg xmlns=\"http://www.w3.org/2000/svg\" height=\"24px\" viewBox=\"0 -960 960 960\">\n",
              "    <path d=\"M120-120v-720h720v720H120Zm60-500h600v-160H180v160Zm220 220h160v-160H400v160Zm0 220h160v-160H400v160ZM180-400h160v-160H180v160Zm440 0h160v-160H620v160ZM180-180h160v-160H180v160Zm440 0h160v-160H620v160Z\"/>\n",
              "  </svg>\n",
              "    </button>\n",
              "\n",
              "  <style>\n",
              "    .colab-df-container {\n",
              "      display:flex;\n",
              "      gap: 12px;\n",
              "    }\n",
              "\n",
              "    .colab-df-convert {\n",
              "      background-color: #E8F0FE;\n",
              "      border: none;\n",
              "      border-radius: 50%;\n",
              "      cursor: pointer;\n",
              "      display: none;\n",
              "      fill: #1967D2;\n",
              "      height: 32px;\n",
              "      padding: 0 0 0 0;\n",
              "      width: 32px;\n",
              "    }\n",
              "\n",
              "    .colab-df-convert:hover {\n",
              "      background-color: #E2EBFA;\n",
              "      box-shadow: 0px 1px 2px rgba(60, 64, 67, 0.3), 0px 1px 3px 1px rgba(60, 64, 67, 0.15);\n",
              "      fill: #174EA6;\n",
              "    }\n",
              "\n",
              "    .colab-df-buttons div {\n",
              "      margin-bottom: 4px;\n",
              "    }\n",
              "\n",
              "    [theme=dark] .colab-df-convert {\n",
              "      background-color: #3B4455;\n",
              "      fill: #D2E3FC;\n",
              "    }\n",
              "\n",
              "    [theme=dark] .colab-df-convert:hover {\n",
              "      background-color: #434B5C;\n",
              "      box-shadow: 0px 1px 3px 1px rgba(0, 0, 0, 0.15);\n",
              "      filter: drop-shadow(0px 1px 2px rgba(0, 0, 0, 0.3));\n",
              "      fill: #FFFFFF;\n",
              "    }\n",
              "  </style>\n",
              "\n",
              "    <script>\n",
              "      const buttonEl =\n",
              "        document.querySelector('#df-953429a1-bd44-44ef-8115-402e4e313a6f button.colab-df-convert');\n",
              "      buttonEl.style.display =\n",
              "        google.colab.kernel.accessAllowed ? 'block' : 'none';\n",
              "\n",
              "      async function convertToInteractive(key) {\n",
              "        const element = document.querySelector('#df-953429a1-bd44-44ef-8115-402e4e313a6f');\n",
              "        const dataTable =\n",
              "          await google.colab.kernel.invokeFunction('convertToInteractive',\n",
              "                                                    [key], {});\n",
              "        if (!dataTable) return;\n",
              "\n",
              "        const docLinkHtml = 'Like what you see? Visit the ' +\n",
              "          '<a target=\"_blank\" href=https://colab.research.google.com/notebooks/data_table.ipynb>data table notebook</a>'\n",
              "          + ' to learn more about interactive tables.';\n",
              "        element.innerHTML = '';\n",
              "        dataTable['output_type'] = 'display_data';\n",
              "        await google.colab.output.renderOutput(dataTable, element);\n",
              "        const docLink = document.createElement('div');\n",
              "        docLink.innerHTML = docLinkHtml;\n",
              "        element.appendChild(docLink);\n",
              "      }\n",
              "    </script>\n",
              "  </div>\n",
              "\n",
              "\n",
              "<div id=\"df-6ec4daa1-44b2-4a91-94a9-4193a7540056\">\n",
              "  <button class=\"colab-df-quickchart\" onclick=\"quickchart('df-6ec4daa1-44b2-4a91-94a9-4193a7540056')\"\n",
              "            title=\"Suggest charts\"\n",
              "            style=\"display:none;\">\n",
              "\n",
              "<svg xmlns=\"http://www.w3.org/2000/svg\" height=\"24px\"viewBox=\"0 0 24 24\"\n",
              "     width=\"24px\">\n",
              "    <g>\n",
              "        <path d=\"M19 3H5c-1.1 0-2 .9-2 2v14c0 1.1.9 2 2 2h14c1.1 0 2-.9 2-2V5c0-1.1-.9-2-2-2zM9 17H7v-7h2v7zm4 0h-2V7h2v10zm4 0h-2v-4h2v4z\"/>\n",
              "    </g>\n",
              "</svg>\n",
              "  </button>\n",
              "\n",
              "<style>\n",
              "  .colab-df-quickchart {\n",
              "      --bg-color: #E8F0FE;\n",
              "      --fill-color: #1967D2;\n",
              "      --hover-bg-color: #E2EBFA;\n",
              "      --hover-fill-color: #174EA6;\n",
              "      --disabled-fill-color: #AAA;\n",
              "      --disabled-bg-color: #DDD;\n",
              "  }\n",
              "\n",
              "  [theme=dark] .colab-df-quickchart {\n",
              "      --bg-color: #3B4455;\n",
              "      --fill-color: #D2E3FC;\n",
              "      --hover-bg-color: #434B5C;\n",
              "      --hover-fill-color: #FFFFFF;\n",
              "      --disabled-bg-color: #3B4455;\n",
              "      --disabled-fill-color: #666;\n",
              "  }\n",
              "\n",
              "  .colab-df-quickchart {\n",
              "    background-color: var(--bg-color);\n",
              "    border: none;\n",
              "    border-radius: 50%;\n",
              "    cursor: pointer;\n",
              "    display: none;\n",
              "    fill: var(--fill-color);\n",
              "    height: 32px;\n",
              "    padding: 0;\n",
              "    width: 32px;\n",
              "  }\n",
              "\n",
              "  .colab-df-quickchart:hover {\n",
              "    background-color: var(--hover-bg-color);\n",
              "    box-shadow: 0 1px 2px rgba(60, 64, 67, 0.3), 0 1px 3px 1px rgba(60, 64, 67, 0.15);\n",
              "    fill: var(--button-hover-fill-color);\n",
              "  }\n",
              "\n",
              "  .colab-df-quickchart-complete:disabled,\n",
              "  .colab-df-quickchart-complete:disabled:hover {\n",
              "    background-color: var(--disabled-bg-color);\n",
              "    fill: var(--disabled-fill-color);\n",
              "    box-shadow: none;\n",
              "  }\n",
              "\n",
              "  .colab-df-spinner {\n",
              "    border: 2px solid var(--fill-color);\n",
              "    border-color: transparent;\n",
              "    border-bottom-color: var(--fill-color);\n",
              "    animation:\n",
              "      spin 1s steps(1) infinite;\n",
              "  }\n",
              "\n",
              "  @keyframes spin {\n",
              "    0% {\n",
              "      border-color: transparent;\n",
              "      border-bottom-color: var(--fill-color);\n",
              "      border-left-color: var(--fill-color);\n",
              "    }\n",
              "    20% {\n",
              "      border-color: transparent;\n",
              "      border-left-color: var(--fill-color);\n",
              "      border-top-color: var(--fill-color);\n",
              "    }\n",
              "    30% {\n",
              "      border-color: transparent;\n",
              "      border-left-color: var(--fill-color);\n",
              "      border-top-color: var(--fill-color);\n",
              "      border-right-color: var(--fill-color);\n",
              "    }\n",
              "    40% {\n",
              "      border-color: transparent;\n",
              "      border-right-color: var(--fill-color);\n",
              "      border-top-color: var(--fill-color);\n",
              "    }\n",
              "    60% {\n",
              "      border-color: transparent;\n",
              "      border-right-color: var(--fill-color);\n",
              "    }\n",
              "    80% {\n",
              "      border-color: transparent;\n",
              "      border-right-color: var(--fill-color);\n",
              "      border-bottom-color: var(--fill-color);\n",
              "    }\n",
              "    90% {\n",
              "      border-color: transparent;\n",
              "      border-bottom-color: var(--fill-color);\n",
              "    }\n",
              "  }\n",
              "</style>\n",
              "\n",
              "  <script>\n",
              "    async function quickchart(key) {\n",
              "      const quickchartButtonEl =\n",
              "        document.querySelector('#' + key + ' button');\n",
              "      quickchartButtonEl.disabled = true;  // To prevent multiple clicks.\n",
              "      quickchartButtonEl.classList.add('colab-df-spinner');\n",
              "      try {\n",
              "        const charts = await google.colab.kernel.invokeFunction(\n",
              "            'suggestCharts', [key], {});\n",
              "      } catch (error) {\n",
              "        console.error('Error during call to suggestCharts:', error);\n",
              "      }\n",
              "      quickchartButtonEl.classList.remove('colab-df-spinner');\n",
              "      quickchartButtonEl.classList.add('colab-df-quickchart-complete');\n",
              "    }\n",
              "    (() => {\n",
              "      let quickchartButtonEl =\n",
              "        document.querySelector('#df-6ec4daa1-44b2-4a91-94a9-4193a7540056 button');\n",
              "      quickchartButtonEl.style.display =\n",
              "        google.colab.kernel.accessAllowed ? 'block' : 'none';\n",
              "    })();\n",
              "  </script>\n",
              "</div>\n",
              "\n",
              "  <div id=\"id_6f6c51d2-272f-4324-82fc-c44ccb845f7e\">\n",
              "    <style>\n",
              "      .colab-df-generate {\n",
              "        background-color: #E8F0FE;\n",
              "        border: none;\n",
              "        border-radius: 50%;\n",
              "        cursor: pointer;\n",
              "        display: none;\n",
              "        fill: #1967D2;\n",
              "        height: 32px;\n",
              "        padding: 0 0 0 0;\n",
              "        width: 32px;\n",
              "      }\n",
              "\n",
              "      .colab-df-generate:hover {\n",
              "        background-color: #E2EBFA;\n",
              "        box-shadow: 0px 1px 2px rgba(60, 64, 67, 0.3), 0px 1px 3px 1px rgba(60, 64, 67, 0.15);\n",
              "        fill: #174EA6;\n",
              "      }\n",
              "\n",
              "      [theme=dark] .colab-df-generate {\n",
              "        background-color: #3B4455;\n",
              "        fill: #D2E3FC;\n",
              "      }\n",
              "\n",
              "      [theme=dark] .colab-df-generate:hover {\n",
              "        background-color: #434B5C;\n",
              "        box-shadow: 0px 1px 3px 1px rgba(0, 0, 0, 0.15);\n",
              "        filter: drop-shadow(0px 1px 2px rgba(0, 0, 0, 0.3));\n",
              "        fill: #FFFFFF;\n",
              "      }\n",
              "    </style>\n",
              "    <button class=\"colab-df-generate\" onclick=\"generateWithVariable('results_df')\"\n",
              "            title=\"Generate code using this dataframe.\"\n",
              "            style=\"display:none;\">\n",
              "\n",
              "  <svg xmlns=\"http://www.w3.org/2000/svg\" height=\"24px\"viewBox=\"0 0 24 24\"\n",
              "       width=\"24px\">\n",
              "    <path d=\"M7,19H8.4L18.45,9,17,7.55,7,17.6ZM5,21V16.75L18.45,3.32a2,2,0,0,1,2.83,0l1.4,1.43a1.91,1.91,0,0,1,.58,1.4,1.91,1.91,0,0,1-.58,1.4L9.25,21ZM18.45,9,17,7.55Zm-12,3A5.31,5.31,0,0,0,4.9,8.1,5.31,5.31,0,0,0,1,6.5,5.31,5.31,0,0,0,4.9,4.9,5.31,5.31,0,0,0,6.5,1,5.31,5.31,0,0,0,8.1,4.9,5.31,5.31,0,0,0,12,6.5,5.46,5.46,0,0,0,6.5,12Z\"/>\n",
              "  </svg>\n",
              "    </button>\n",
              "    <script>\n",
              "      (() => {\n",
              "      const buttonEl =\n",
              "        document.querySelector('#id_6f6c51d2-272f-4324-82fc-c44ccb845f7e button.colab-df-generate');\n",
              "      buttonEl.style.display =\n",
              "        google.colab.kernel.accessAllowed ? 'block' : 'none';\n",
              "\n",
              "      buttonEl.onclick = () => {\n",
              "        google.colab.notebook.generateWithVariable('results_df');\n",
              "      }\n",
              "      })();\n",
              "    </script>\n",
              "  </div>\n",
              "\n",
              "    </div>\n",
              "  </div>\n"
            ],
            "application/vnd.google.colaboratory.intrinsic+json": {
              "type": "dataframe",
              "variable_name": "results_df",
              "summary": "{\n  \"name\": \"results_df\",\n  \"rows\": 10,\n  \"fields\": [\n    {\n      \"column\": \"optimizer__lr\",\n      \"properties\": {\n        \"dtype\": \"number\",\n        \"std\": 0.0045507142296567025,\n        \"min\": 0.0001,\n        \"max\": 0.01,\n        \"num_unique_values\": 3,\n        \"samples\": [\n          0.001,\n          0.01,\n          0.0001\n        ],\n        \"semantic_type\": \"\",\n        \"description\": \"\"\n      }\n    },\n    {\n      \"column\": \"optimizer__eps\",\n      \"properties\": {\n        \"dtype\": \"number\",\n        \"std\": 4.6475800154489e-08,\n        \"min\": 1e-08,\n        \"max\": 1e-07,\n        \"num_unique_values\": 2,\n        \"samples\": [\n          1e-08,\n          1e-07\n        ],\n        \"semantic_type\": \"\",\n        \"description\": \"\"\n      }\n    },\n    {\n      \"column\": \"optimizer__betas\",\n      \"properties\": {\n        \"dtype\": \"category\",\n        \"num_unique_values\": 2,\n        \"samples\": [\n          [\n            0.8,\n            0.999\n          ],\n          [\n            0.9,\n            0.999\n          ]\n        ],\n        \"semantic_type\": \"\",\n        \"description\": \"\"\n      }\n    },\n    {\n      \"column\": \"mean_test_score\",\n      \"properties\": {\n        \"dtype\": \"number\",\n        \"std\": 0.2646302115718143,\n        \"min\": 0.3393666666666667,\n        \"max\": 0.93585,\n        \"num_unique_values\": 10,\n        \"samples\": [\n          0.9315666666666667,\n          0.37651666666666667\n        ],\n        \"semantic_type\": \"\",\n        \"description\": \"\"\n      }\n    },\n    {\n      \"column\": \"std_test_score\",\n      \"properties\": {\n        \"dtype\": \"number\",\n        \"std\": 0.033282832775076175,\n        \"min\": 0.0031532170521195863,\n        \"max\": 0.08000093055014353,\n        \"num_unique_values\": 10,\n        \"samples\": [\n          0.011662070523234246,\n          0.0751868302593243\n        ],\n        \"semantic_type\": \"\",\n        \"description\": \"\"\n      }\n    }\n  ]\n}"
            }
          },
          "metadata": {}
        }
      ]
    },
    {
      "cell_type": "markdown",
      "source": [
        "# Step 4. Train `NN` on `Best Parameters`"
      ],
      "metadata": {
        "id": "dr6-imef3iN6"
      }
    },
    {
      "cell_type": "markdown",
      "source": [
        "## K-Fold"
      ],
      "metadata": {
        "id": "t5LsXMj9OFqQ"
      }
    },
    {
      "cell_type": "code",
      "source": [
        "from sklearn.model_selection import KFold\n",
        "from torch.utils.data import Subset\n",
        "from torch.utils.data import Dataset"
      ],
      "metadata": {
        "id": "l3OxD8FkHReO"
      },
      "execution_count": 14,
      "outputs": []
    },
    {
      "cell_type": "markdown",
      "source": [
        "### set best params*"
      ],
      "metadata": {
        "id": "0cqozbZBnSXL"
      }
    },
    {
      "cell_type": "code",
      "source": [
        "#best parameters obtained from grid search\n",
        "optimizer = optim.Adam(params=model_nn.parameters(),\n",
        "                       lr=grid_result.best_params_['optimizer__lr'],\n",
        "                       eps=grid_result.best_params_['optimizer__eps'],\n",
        "                       betas=grid_result.best_params_['optimizer__betas'])"
      ],
      "metadata": {
        "id": "scvOY-kIpvKe"
      },
      "execution_count": 15,
      "outputs": []
    },
    {
      "cell_type": "code",
      "source": [
        "#Load npz files - alter way\n",
        "class NPZDataset(Dataset):\n",
        "    def __init__(self, npz_file):\n",
        "        data = np.load(npz_file)\n",
        "        self.images = data['images']\n",
        "        self.labels = data['labels']\n",
        "\n",
        "    def __len__(self):\n",
        "        return len(self.images)\n",
        "\n",
        "    def __getitem__(self, idx):\n",
        "        image = self.images[idx]\n",
        "        label = self.labels[idx]\n",
        "        return image, label\n",
        "\n",
        "#load data\n",
        "train_data = NPZDataset(train_file_path)\n",
        "val_data = NPZDataset(val_file_path)\n",
        "test_data = NPZDataset(test_file_path)\n",
        "\n",
        "#batch loader\n",
        "train_loader = DataLoader(train_data, batch_size=batch_size, shuffle=True)\n",
        "val_loader = DataLoader(val_data, shuffle=False)\n",
        "test_loader = DataLoader(test_data, shuffle=False)\n",
        "\n",
        "#Train + Validation sets\n",
        "dataset = train_data + val_data\n",
        "print(len(dataset))"
      ],
      "metadata": {
        "id": "Lbz3bApo1_5n",
        "colab": {
          "base_uri": "https://localhost:8080/"
        },
        "outputId": "c466cb3e-a07e-41b9-8d92-7ae66fde41e8"
      },
      "execution_count": 16,
      "outputs": [
        {
          "output_type": "stream",
          "name": "stdout",
          "text": [
            "60000\n"
          ]
        }
      ]
    },
    {
      "cell_type": "code",
      "source": [
        "def model_training_loop(kfold:int, model, train_loader:DataLoader, val_loader:DataLoader):\n",
        "  #Training loop\n",
        "  losses = torch.zeros(num_epochs)\n",
        "  trainAcc = []\n",
        "  valAcc = []\n",
        "  trainTime = []\n",
        "\n",
        "  print(f\"K-Fold: {kfold}\")\n",
        "  print(f\"Train Batches: {len(train_loader):>6}\", f\"Validation Batches: {len(val_loader):>6}\")\n",
        "  print(dash_lines)\n",
        "\n",
        "  #epochs\n",
        "  for epoch in range(num_epochs):\n",
        "    batchLoss=[]\n",
        "    batchtrainAcc=[]\n",
        "    batchvalAcc=[]\n",
        "\n",
        "    #training\n",
        "    start_time = time.time()\n",
        "    model.to(device)\n",
        "    model.train()\n",
        "    for batch_idx, (images, labels) in enumerate(train_loader):\n",
        "      images = images.to(device)\n",
        "      labels = labels.to(device)\n",
        "\n",
        "      #forwardpass\n",
        "      ypred = model(images)\n",
        "      #loss\n",
        "      loss = lossfunc(ypred, labels)\n",
        "\n",
        "      #backpass\n",
        "      optimizer.zero_grad()\n",
        "      loss.backward()\n",
        "      optimizer.step()\n",
        "\n",
        "      #storing results\n",
        "      batchLoss.append(loss.item())\n",
        "      ypred = ypred.cpu()\n",
        "      labels = labels.cpu()\n",
        "\n",
        "      # Compute batch accuracy\n",
        "      acc = 100 * torch.mean((torch.argmax(ypred, dim=1) == labels).float())\n",
        "      batchtrainAcc.append(acc)\n",
        "\n",
        "    end_time = time.time()\n",
        "    trainTime.append(end_time - start_time)\n",
        "    # End of batch loop\n",
        "    # Compute average training accuracy and loss for this epoch\n",
        "    trainAcc.append(np.mean(batchtrainAcc))\n",
        "    losses[epoch] = np.mean(batchLoss)\n",
        "\n",
        "    #evaluate on validation set\n",
        "    model.eval()\n",
        "    for batch_idx, (X, y) in enumerate(val_loader):\n",
        "      X = X.to(device)\n",
        "      y = y.to(device)\n",
        "\n",
        "      with torch.no_grad():\n",
        "        ypred = model(X)\n",
        "        ypred = ypred.cpu()\n",
        "        y = y.cpu()\n",
        "\n",
        "        # Compute test accuracy\n",
        "        batchvalAcc.append(100 * torch.mean((torch.argmax(ypred, dim=1) == y).float()))\n",
        "\n",
        "    valAcc.append(np.mean(batchvalAcc))\n",
        "\n",
        "    # Print epoch statistics\n",
        "    print(f'Epoch: {epoch+1:>3}/{num_epochs}, Loss: {loss.item():>6.2f}, Train Accuracy: {trainAcc[-1]:>6.2f}, Validation Accuracy: {valAcc[-1]:>6.2f}')\n",
        "  print(f'Training Time: {np.sum(trainTime):.2f} seconds')\n",
        "  print(dash_lines)\n",
        "\n",
        "  return np.mean(losses.cpu().numpy()), np.mean(trainAcc), np.mean(valAcc), np.sum(trainTime)"
      ],
      "metadata": {
        "id": "CBeM87MqQyoy"
      },
      "execution_count": 17,
      "outputs": []
    },
    {
      "cell_type": "code",
      "source": [
        "## Testing\n",
        "def model_testing(model, test_loader:DataLoader):\n",
        "  model.eval()\n",
        "  with torch.no_grad():\n",
        "    testAcc = []\n",
        "    for X, y in test_loader:\n",
        "      X = X.to(device)\n",
        "      y = y.to(device)\n",
        "      ypred = model(X)\n",
        "      ypred = ypred.cpu()\n",
        "      y = y.cpu()\n",
        "      acc = 100 * torch.mean((torch.argmax(ypred, dim=1) == y).float())\n",
        "      testAcc.append(acc)\n",
        "  return np.mean(testAcc)"
      ],
      "metadata": {
        "id": "jGXcml_hdpgV"
      },
      "execution_count": 18,
      "outputs": []
    },
    {
      "cell_type": "code",
      "source": [
        "device = torch.device(\"cuda\" if torch.cuda.is_available() else \"cpu\")\n",
        "model_nn.to(device)"
      ],
      "metadata": {
        "colab": {
          "base_uri": "https://localhost:8080/"
        },
        "id": "YJ0LxODm_oJc",
        "outputId": "4d41ec5d-5464-4803-84a9-7e784561b812"
      },
      "execution_count": 19,
      "outputs": [
        {
          "output_type": "execute_result",
          "data": {
            "text/plain": [
              "NeuralNet(\n",
              "  (fc1): Flatten(start_dim=1, end_dim=-1)\n",
              "  (fc2): Linear(in_features=784, out_features=128, bias=True)\n",
              "  (fc3): ReLU()\n",
              "  (fc4): Linear(in_features=128, out_features=64, bias=True)\n",
              "  (fc5): ReLU()\n",
              "  (fc6): Linear(in_features=64, out_features=10, bias=True)\n",
              "  (fc7): Softmax(dim=1)\n",
              ")"
            ]
          },
          "metadata": {},
          "execution_count": 19
        }
      ]
    },
    {
      "cell_type": "markdown",
      "source": [
        "### KFold iter"
      ],
      "metadata": {
        "id": "WHzmhNhGpA2m"
      }
    },
    {
      "cell_type": "code",
      "source": [
        "#KFold\n",
        "kf = KFold(n_splits=cv, shuffle=True, random_state=42)\n",
        "results = pd.DataFrame(columns=['loss', 'trainAcc', 'valAcc', 'trainTime'])\n",
        "\n",
        "#K iter\n",
        "for fold, (train_index, val_index) in enumerate(kf.split(dataset)):\n",
        "    print(\"Train:\", len(train_index), \"Validation:\", len(val_index))\n",
        "\n",
        "    #Subset\n",
        "    train_dataset = Subset(dataset, train_index)\n",
        "    val_dataset = Subset(dataset, val_index)\n",
        "\n",
        "    #Dataloader\n",
        "    train_loader = DataLoader(train_dataset, batch_size=batch_size, shuffle=True)\n",
        "    val_loader = DataLoader(val_dataset, batch_size=batch_size, shuffle=False)\n",
        "\n",
        "    #pass to training loop\n",
        "    loss, trainAcc, valAcc, Traintime = model_training_loop(fold, model_nn, train_loader, val_loader)\n",
        "\n",
        "    #results\n",
        "    results.loc[fold] = [loss, trainAcc, valAcc, Traintime]"
      ],
      "metadata": {
        "colab": {
          "base_uri": "https://localhost:8080/"
        },
        "id": "HMgTjWxSOiPB",
        "outputId": "34f43037-9e30-4e46-b67b-ad49ee5075a6"
      },
      "execution_count": 20,
      "outputs": [
        {
          "output_type": "stream",
          "name": "stdout",
          "text": [
            "Train: 48000 Validation: 12000\n",
            "K-Fold: 0\n",
            "Train Batches:    750 Validation Batches:    188\n",
            "--------------------------------------------------------------------------------\n",
            "Epoch:   1/21, Loss:   1.59, Train Accuracy:  81.53, Validation Accuracy:  87.11\n",
            "Epoch:   2/21, Loss:   1.55, Train Accuracy:  88.50, Validation Accuracy:  87.16\n",
            "Epoch:   3/21, Loss:   1.54, Train Accuracy:  90.03, Validation Accuracy:  88.89\n",
            "Epoch:   4/21, Loss:   1.50, Train Accuracy:  90.78, Validation Accuracy:  89.15\n",
            "Epoch:   5/21, Loss:   1.60, Train Accuracy:  91.35, Validation Accuracy:  89.33\n",
            "Epoch:   6/21, Loss:   1.57, Train Accuracy:  91.88, Validation Accuracy:  89.36\n",
            "Epoch:   7/21, Loss:   1.55, Train Accuracy:  92.00, Validation Accuracy:  90.03\n",
            "Epoch:   8/21, Loss:   1.50, Train Accuracy:  92.86, Validation Accuracy:  90.87\n",
            "Epoch:   9/21, Loss:   1.51, Train Accuracy:  93.18, Validation Accuracy:  90.85\n",
            "Epoch:  10/21, Loss:   1.46, Train Accuracy:  93.45, Validation Accuracy:  90.24\n",
            "Epoch:  11/21, Loss:   1.49, Train Accuracy:  93.56, Validation Accuracy:  91.23\n",
            "Epoch:  12/21, Loss:   1.48, Train Accuracy:  93.88, Validation Accuracy:  91.15\n",
            "Epoch:  13/21, Loss:   1.50, Train Accuracy:  93.96, Validation Accuracy:  90.87\n",
            "Epoch:  14/21, Loss:   1.54, Train Accuracy:  94.00, Validation Accuracy:  91.22\n",
            "Epoch:  15/21, Loss:   1.49, Train Accuracy:  94.23, Validation Accuracy:  91.23\n",
            "Epoch:  16/21, Loss:   1.54, Train Accuracy:  94.23, Validation Accuracy:  91.17\n",
            "Epoch:  17/21, Loss:   1.54, Train Accuracy:  94.34, Validation Accuracy:  90.35\n",
            "Epoch:  18/21, Loss:   1.54, Train Accuracy:  94.42, Validation Accuracy:  90.90\n",
            "Epoch:  19/21, Loss:   1.52, Train Accuracy:  94.34, Validation Accuracy:  91.11\n",
            "Epoch:  20/21, Loss:   1.48, Train Accuracy:  94.31, Validation Accuracy:  91.46\n",
            "Epoch:  21/21, Loss:   1.51, Train Accuracy:  94.31, Validation Accuracy:  91.41\n",
            "Training Time: 49.49 seconds\n",
            "--------------------------------------------------------------------------------\n",
            "Train: 48000 Validation: 12000\n",
            "K-Fold: 1\n",
            "Train Batches:    750 Validation Batches:    188\n",
            "--------------------------------------------------------------------------------\n",
            "Epoch:   1/21, Loss:   1.51, Train Accuracy:  93.54, Validation Accuracy:  94.29\n",
            "Epoch:   2/21, Loss:   1.57, Train Accuracy:  93.66, Validation Accuracy:  94.03\n",
            "Epoch:   3/21, Loss:   1.47, Train Accuracy:  93.91, Validation Accuracy:  93.91\n",
            "Epoch:   4/21, Loss:   1.48, Train Accuracy:  94.13, Validation Accuracy:  94.23\n",
            "Epoch:   5/21, Loss:   1.52, Train Accuracy:  94.03, Validation Accuracy:  94.32\n",
            "Epoch:   6/21, Loss:   1.46, Train Accuracy:  94.30, Validation Accuracy:  94.60\n",
            "Epoch:   7/21, Loss:   1.48, Train Accuracy:  94.32, Validation Accuracy:  93.92\n",
            "Epoch:   8/21, Loss:   1.52, Train Accuracy:  94.28, Validation Accuracy:  93.98\n",
            "Epoch:   9/21, Loss:   1.52, Train Accuracy:  94.36, Validation Accuracy:  94.21\n",
            "Epoch:  10/21, Loss:   1.47, Train Accuracy:  94.33, Validation Accuracy:  94.12\n",
            "Epoch:  11/21, Loss:   1.49, Train Accuracy:  94.43, Validation Accuracy:  93.74\n",
            "Epoch:  12/21, Loss:   1.52, Train Accuracy:  94.48, Validation Accuracy:  93.79\n",
            "Epoch:  13/21, Loss:   1.52, Train Accuracy:  94.57, Validation Accuracy:  94.17\n",
            "Epoch:  14/21, Loss:   1.55, Train Accuracy:  94.35, Validation Accuracy:  93.54\n",
            "Epoch:  15/21, Loss:   1.57, Train Accuracy:  94.63, Validation Accuracy:  93.95\n",
            "Epoch:  16/21, Loss:   1.53, Train Accuracy:  94.40, Validation Accuracy:  93.98\n",
            "Epoch:  17/21, Loss:   1.60, Train Accuracy:  94.68, Validation Accuracy:  94.04\n",
            "Epoch:  18/21, Loss:   1.51, Train Accuracy:  94.59, Validation Accuracy:  93.61\n",
            "Epoch:  19/21, Loss:   1.51, Train Accuracy:  94.53, Validation Accuracy:  93.83\n",
            "Epoch:  20/21, Loss:   1.48, Train Accuracy:  94.83, Validation Accuracy:  93.68\n",
            "Epoch:  21/21, Loss:   1.52, Train Accuracy:  94.72, Validation Accuracy:  93.78\n",
            "Training Time: 47.68 seconds\n",
            "--------------------------------------------------------------------------------\n",
            "Train: 48000 Validation: 12000\n",
            "K-Fold: 2\n",
            "Train Batches:    750 Validation Batches:    188\n",
            "--------------------------------------------------------------------------------\n",
            "Epoch:   1/21, Loss:   1.49, Train Accuracy:  94.40, Validation Accuracy:  94.79\n",
            "Epoch:   2/21, Loss:   1.49, Train Accuracy:  94.55, Validation Accuracy:  94.70\n",
            "Epoch:   3/21, Loss:   1.57, Train Accuracy:  94.44, Validation Accuracy:  94.57\n",
            "Epoch:   4/21, Loss:   1.48, Train Accuracy:  94.68, Validation Accuracy:  94.55\n",
            "Epoch:   5/21, Loss:   1.48, Train Accuracy:  94.60, Validation Accuracy:  94.63\n",
            "Epoch:   6/21, Loss:   1.49, Train Accuracy:  94.59, Validation Accuracy:  94.54\n",
            "Epoch:   7/21, Loss:   1.49, Train Accuracy:  94.57, Validation Accuracy:  94.22\n",
            "Epoch:   8/21, Loss:   1.46, Train Accuracy:  94.68, Validation Accuracy:  94.15\n",
            "Epoch:   9/21, Loss:   1.54, Train Accuracy:  94.66, Validation Accuracy:  94.71\n",
            "Epoch:  10/21, Loss:   1.51, Train Accuracy:  94.69, Validation Accuracy:  94.22\n",
            "Epoch:  11/21, Loss:   1.49, Train Accuracy:  94.46, Validation Accuracy:  94.06\n",
            "Epoch:  12/21, Loss:   1.54, Train Accuracy:  94.64, Validation Accuracy:  94.37\n",
            "Epoch:  13/21, Loss:   1.52, Train Accuracy:  94.82, Validation Accuracy:  93.82\n",
            "Epoch:  14/21, Loss:   1.51, Train Accuracy:  94.70, Validation Accuracy:  94.02\n",
            "Epoch:  15/21, Loss:   1.54, Train Accuracy:  94.86, Validation Accuracy:  94.24\n",
            "Epoch:  16/21, Loss:   1.49, Train Accuracy:  94.85, Validation Accuracy:  93.95\n",
            "Epoch:  17/21, Loss:   1.48, Train Accuracy:  94.71, Validation Accuracy:  93.97\n",
            "Epoch:  18/21, Loss:   1.48, Train Accuracy:  94.69, Validation Accuracy:  93.94\n",
            "Epoch:  19/21, Loss:   1.49, Train Accuracy:  94.84, Validation Accuracy:  94.32\n",
            "Epoch:  20/21, Loss:   1.49, Train Accuracy:  94.85, Validation Accuracy:  94.20\n",
            "Epoch:  21/21, Loss:   1.55, Train Accuracy:  94.91, Validation Accuracy:  94.13\n",
            "Training Time: 49.42 seconds\n",
            "--------------------------------------------------------------------------------\n",
            "Train: 48000 Validation: 12000\n",
            "K-Fold: 3\n",
            "Train Batches:    750 Validation Batches:    188\n",
            "--------------------------------------------------------------------------------\n",
            "Epoch:   1/21, Loss:   1.60, Train Accuracy:  94.46, Validation Accuracy:  94.95\n",
            "Epoch:   2/21, Loss:   1.48, Train Accuracy:  94.73, Validation Accuracy:  95.00\n",
            "Epoch:   3/21, Loss:   1.52, Train Accuracy:  94.49, Validation Accuracy:  94.37\n",
            "Epoch:   4/21, Loss:   1.48, Train Accuracy:  94.48, Validation Accuracy:  94.93\n",
            "Epoch:   5/21, Loss:   1.49, Train Accuracy:  94.72, Validation Accuracy:  95.20\n",
            "Epoch:   6/21, Loss:   1.49, Train Accuracy:  95.76, Validation Accuracy:  96.68\n",
            "Epoch:   7/21, Loss:   1.52, Train Accuracy:  96.73, Validation Accuracy:  96.56\n",
            "Epoch:   8/21, Loss:   1.52, Train Accuracy:  96.85, Validation Accuracy:  97.24\n",
            "Epoch:   9/21, Loss:   1.48, Train Accuracy:  97.08, Validation Accuracy:  97.03\n",
            "Epoch:  10/21, Loss:   1.57, Train Accuracy:  97.09, Validation Accuracy:  96.70\n",
            "Epoch:  11/21, Loss:   1.52, Train Accuracy:  97.25, Validation Accuracy:  96.98\n",
            "Epoch:  12/21, Loss:   1.51, Train Accuracy:  97.27, Validation Accuracy:  96.70\n",
            "Epoch:  13/21, Loss:   1.46, Train Accuracy:  97.20, Validation Accuracy:  96.53\n",
            "Epoch:  14/21, Loss:   1.50, Train Accuracy:  97.40, Validation Accuracy:  97.16\n",
            "Epoch:  15/21, Loss:   1.51, Train Accuracy:  97.26, Validation Accuracy:  96.78\n",
            "Epoch:  16/21, Loss:   1.46, Train Accuracy:  97.28, Validation Accuracy:  96.83\n",
            "Epoch:  17/21, Loss:   1.52, Train Accuracy:  97.16, Validation Accuracy:  97.08\n",
            "Epoch:  18/21, Loss:   1.51, Train Accuracy:  97.36, Validation Accuracy:  97.07\n",
            "Epoch:  19/21, Loss:   1.48, Train Accuracy:  97.34, Validation Accuracy:  96.77\n",
            "Epoch:  20/21, Loss:   1.48, Train Accuracy:  97.47, Validation Accuracy:  97.09\n",
            "Epoch:  21/21, Loss:   1.49, Train Accuracy:  97.51, Validation Accuracy:  96.87\n",
            "Training Time: 46.78 seconds\n",
            "--------------------------------------------------------------------------------\n",
            "Train: 48000 Validation: 12000\n",
            "K-Fold: 4\n",
            "Train Batches:    750 Validation Batches:    188\n",
            "--------------------------------------------------------------------------------\n",
            "Epoch:   1/21, Loss:   1.48, Train Accuracy:  97.15, Validation Accuracy:  97.51\n",
            "Epoch:   2/21, Loss:   1.46, Train Accuracy:  97.25, Validation Accuracy:  97.74\n",
            "Epoch:   3/21, Loss:   1.48, Train Accuracy:  97.10, Validation Accuracy:  96.97\n",
            "Epoch:   4/21, Loss:   1.52, Train Accuracy:  97.06, Validation Accuracy:  96.68\n",
            "Epoch:   5/21, Loss:   1.47, Train Accuracy:  97.30, Validation Accuracy:  97.22\n",
            "Epoch:   6/21, Loss:   1.46, Train Accuracy:  97.51, Validation Accuracy:  97.42\n",
            "Epoch:   7/21, Loss:   1.51, Train Accuracy:  97.46, Validation Accuracy:  97.28\n",
            "Epoch:   8/21, Loss:   1.49, Train Accuracy:  97.55, Validation Accuracy:  96.89\n",
            "Epoch:   9/21, Loss:   1.49, Train Accuracy:  97.34, Validation Accuracy:  97.21\n",
            "Epoch:  10/21, Loss:   1.51, Train Accuracy:  97.43, Validation Accuracy:  97.28\n",
            "Epoch:  11/21, Loss:   1.49, Train Accuracy:  97.47, Validation Accuracy:  97.35\n",
            "Epoch:  12/21, Loss:   1.49, Train Accuracy:  97.58, Validation Accuracy:  96.81\n",
            "Epoch:  13/21, Loss:   1.52, Train Accuracy:  97.38, Validation Accuracy:  96.88\n",
            "Epoch:  14/21, Loss:   1.46, Train Accuracy:  97.56, Validation Accuracy:  97.49\n",
            "Epoch:  15/21, Loss:   1.49, Train Accuracy:  97.62, Validation Accuracy:  97.30\n",
            "Epoch:  16/21, Loss:   1.48, Train Accuracy:  97.55, Validation Accuracy:  97.07\n",
            "Epoch:  17/21, Loss:   1.47, Train Accuracy:  97.68, Validation Accuracy:  97.21\n",
            "Epoch:  18/21, Loss:   1.52, Train Accuracy:  97.62, Validation Accuracy:  97.38\n",
            "Epoch:  19/21, Loss:   1.46, Train Accuracy:  97.50, Validation Accuracy:  97.17\n",
            "Epoch:  20/21, Loss:   1.48, Train Accuracy:  97.39, Validation Accuracy:  96.66\n",
            "Epoch:  21/21, Loss:   1.49, Train Accuracy:  97.45, Validation Accuracy:  96.91\n",
            "Training Time: 46.88 seconds\n",
            "--------------------------------------------------------------------------------\n"
          ]
        }
      ]
    },
    {
      "cell_type": "code",
      "source": [
        "#KFold Results\n",
        "display(results)"
      ],
      "metadata": {
        "colab": {
          "base_uri": "https://localhost:8080/",
          "height": 206
        },
        "id": "_yLdilL5ojDf",
        "outputId": "e9524611-5f35-49d5-a384-a8069cac03b3"
      },
      "execution_count": 22,
      "outputs": [
        {
          "output_type": "display_data",
          "data": {
            "text/plain": [
              "       loss   trainAcc     valAcc  trainTime\n",
              "0  1.537651  92.435219  90.241501  49.487389\n",
              "1  1.517677  94.337006  93.987854  47.676931\n",
              "2  1.514345  94.676285  94.291023  49.415557\n",
              "3  1.495908  96.518654  96.405617  46.778867\n",
              "4  1.486851  97.426086  97.163116  46.878998"
            ],
            "text/html": [
              "\n",
              "  <div id=\"df-3df26dad-fafe-4fc0-8d8e-cd16541d2297\" class=\"colab-df-container\">\n",
              "    <div>\n",
              "<style scoped>\n",
              "    .dataframe tbody tr th:only-of-type {\n",
              "        vertical-align: middle;\n",
              "    }\n",
              "\n",
              "    .dataframe tbody tr th {\n",
              "        vertical-align: top;\n",
              "    }\n",
              "\n",
              "    .dataframe thead th {\n",
              "        text-align: right;\n",
              "    }\n",
              "</style>\n",
              "<table border=\"1\" class=\"dataframe\">\n",
              "  <thead>\n",
              "    <tr style=\"text-align: right;\">\n",
              "      <th></th>\n",
              "      <th>loss</th>\n",
              "      <th>trainAcc</th>\n",
              "      <th>valAcc</th>\n",
              "      <th>trainTime</th>\n",
              "    </tr>\n",
              "  </thead>\n",
              "  <tbody>\n",
              "    <tr>\n",
              "      <th>0</th>\n",
              "      <td>1.537651</td>\n",
              "      <td>92.435219</td>\n",
              "      <td>90.241501</td>\n",
              "      <td>49.487389</td>\n",
              "    </tr>\n",
              "    <tr>\n",
              "      <th>1</th>\n",
              "      <td>1.517677</td>\n",
              "      <td>94.337006</td>\n",
              "      <td>93.987854</td>\n",
              "      <td>47.676931</td>\n",
              "    </tr>\n",
              "    <tr>\n",
              "      <th>2</th>\n",
              "      <td>1.514345</td>\n",
              "      <td>94.676285</td>\n",
              "      <td>94.291023</td>\n",
              "      <td>49.415557</td>\n",
              "    </tr>\n",
              "    <tr>\n",
              "      <th>3</th>\n",
              "      <td>1.495908</td>\n",
              "      <td>96.518654</td>\n",
              "      <td>96.405617</td>\n",
              "      <td>46.778867</td>\n",
              "    </tr>\n",
              "    <tr>\n",
              "      <th>4</th>\n",
              "      <td>1.486851</td>\n",
              "      <td>97.426086</td>\n",
              "      <td>97.163116</td>\n",
              "      <td>46.878998</td>\n",
              "    </tr>\n",
              "  </tbody>\n",
              "</table>\n",
              "</div>\n",
              "    <div class=\"colab-df-buttons\">\n",
              "\n",
              "  <div class=\"colab-df-container\">\n",
              "    <button class=\"colab-df-convert\" onclick=\"convertToInteractive('df-3df26dad-fafe-4fc0-8d8e-cd16541d2297')\"\n",
              "            title=\"Convert this dataframe to an interactive table.\"\n",
              "            style=\"display:none;\">\n",
              "\n",
              "  <svg xmlns=\"http://www.w3.org/2000/svg\" height=\"24px\" viewBox=\"0 -960 960 960\">\n",
              "    <path d=\"M120-120v-720h720v720H120Zm60-500h600v-160H180v160Zm220 220h160v-160H400v160Zm0 220h160v-160H400v160ZM180-400h160v-160H180v160Zm440 0h160v-160H620v160ZM180-180h160v-160H180v160Zm440 0h160v-160H620v160Z\"/>\n",
              "  </svg>\n",
              "    </button>\n",
              "\n",
              "  <style>\n",
              "    .colab-df-container {\n",
              "      display:flex;\n",
              "      gap: 12px;\n",
              "    }\n",
              "\n",
              "    .colab-df-convert {\n",
              "      background-color: #E8F0FE;\n",
              "      border: none;\n",
              "      border-radius: 50%;\n",
              "      cursor: pointer;\n",
              "      display: none;\n",
              "      fill: #1967D2;\n",
              "      height: 32px;\n",
              "      padding: 0 0 0 0;\n",
              "      width: 32px;\n",
              "    }\n",
              "\n",
              "    .colab-df-convert:hover {\n",
              "      background-color: #E2EBFA;\n",
              "      box-shadow: 0px 1px 2px rgba(60, 64, 67, 0.3), 0px 1px 3px 1px rgba(60, 64, 67, 0.15);\n",
              "      fill: #174EA6;\n",
              "    }\n",
              "\n",
              "    .colab-df-buttons div {\n",
              "      margin-bottom: 4px;\n",
              "    }\n",
              "\n",
              "    [theme=dark] .colab-df-convert {\n",
              "      background-color: #3B4455;\n",
              "      fill: #D2E3FC;\n",
              "    }\n",
              "\n",
              "    [theme=dark] .colab-df-convert:hover {\n",
              "      background-color: #434B5C;\n",
              "      box-shadow: 0px 1px 3px 1px rgba(0, 0, 0, 0.15);\n",
              "      filter: drop-shadow(0px 1px 2px rgba(0, 0, 0, 0.3));\n",
              "      fill: #FFFFFF;\n",
              "    }\n",
              "  </style>\n",
              "\n",
              "    <script>\n",
              "      const buttonEl =\n",
              "        document.querySelector('#df-3df26dad-fafe-4fc0-8d8e-cd16541d2297 button.colab-df-convert');\n",
              "      buttonEl.style.display =\n",
              "        google.colab.kernel.accessAllowed ? 'block' : 'none';\n",
              "\n",
              "      async function convertToInteractive(key) {\n",
              "        const element = document.querySelector('#df-3df26dad-fafe-4fc0-8d8e-cd16541d2297');\n",
              "        const dataTable =\n",
              "          await google.colab.kernel.invokeFunction('convertToInteractive',\n",
              "                                                    [key], {});\n",
              "        if (!dataTable) return;\n",
              "\n",
              "        const docLinkHtml = 'Like what you see? Visit the ' +\n",
              "          '<a target=\"_blank\" href=https://colab.research.google.com/notebooks/data_table.ipynb>data table notebook</a>'\n",
              "          + ' to learn more about interactive tables.';\n",
              "        element.innerHTML = '';\n",
              "        dataTable['output_type'] = 'display_data';\n",
              "        await google.colab.output.renderOutput(dataTable, element);\n",
              "        const docLink = document.createElement('div');\n",
              "        docLink.innerHTML = docLinkHtml;\n",
              "        element.appendChild(docLink);\n",
              "      }\n",
              "    </script>\n",
              "  </div>\n",
              "\n",
              "\n",
              "<div id=\"df-077741bd-18e6-4789-8891-5a35fdcd9293\">\n",
              "  <button class=\"colab-df-quickchart\" onclick=\"quickchart('df-077741bd-18e6-4789-8891-5a35fdcd9293')\"\n",
              "            title=\"Suggest charts\"\n",
              "            style=\"display:none;\">\n",
              "\n",
              "<svg xmlns=\"http://www.w3.org/2000/svg\" height=\"24px\"viewBox=\"0 0 24 24\"\n",
              "     width=\"24px\">\n",
              "    <g>\n",
              "        <path d=\"M19 3H5c-1.1 0-2 .9-2 2v14c0 1.1.9 2 2 2h14c1.1 0 2-.9 2-2V5c0-1.1-.9-2-2-2zM9 17H7v-7h2v7zm4 0h-2V7h2v10zm4 0h-2v-4h2v4z\"/>\n",
              "    </g>\n",
              "</svg>\n",
              "  </button>\n",
              "\n",
              "<style>\n",
              "  .colab-df-quickchart {\n",
              "      --bg-color: #E8F0FE;\n",
              "      --fill-color: #1967D2;\n",
              "      --hover-bg-color: #E2EBFA;\n",
              "      --hover-fill-color: #174EA6;\n",
              "      --disabled-fill-color: #AAA;\n",
              "      --disabled-bg-color: #DDD;\n",
              "  }\n",
              "\n",
              "  [theme=dark] .colab-df-quickchart {\n",
              "      --bg-color: #3B4455;\n",
              "      --fill-color: #D2E3FC;\n",
              "      --hover-bg-color: #434B5C;\n",
              "      --hover-fill-color: #FFFFFF;\n",
              "      --disabled-bg-color: #3B4455;\n",
              "      --disabled-fill-color: #666;\n",
              "  }\n",
              "\n",
              "  .colab-df-quickchart {\n",
              "    background-color: var(--bg-color);\n",
              "    border: none;\n",
              "    border-radius: 50%;\n",
              "    cursor: pointer;\n",
              "    display: none;\n",
              "    fill: var(--fill-color);\n",
              "    height: 32px;\n",
              "    padding: 0;\n",
              "    width: 32px;\n",
              "  }\n",
              "\n",
              "  .colab-df-quickchart:hover {\n",
              "    background-color: var(--hover-bg-color);\n",
              "    box-shadow: 0 1px 2px rgba(60, 64, 67, 0.3), 0 1px 3px 1px rgba(60, 64, 67, 0.15);\n",
              "    fill: var(--button-hover-fill-color);\n",
              "  }\n",
              "\n",
              "  .colab-df-quickchart-complete:disabled,\n",
              "  .colab-df-quickchart-complete:disabled:hover {\n",
              "    background-color: var(--disabled-bg-color);\n",
              "    fill: var(--disabled-fill-color);\n",
              "    box-shadow: none;\n",
              "  }\n",
              "\n",
              "  .colab-df-spinner {\n",
              "    border: 2px solid var(--fill-color);\n",
              "    border-color: transparent;\n",
              "    border-bottom-color: var(--fill-color);\n",
              "    animation:\n",
              "      spin 1s steps(1) infinite;\n",
              "  }\n",
              "\n",
              "  @keyframes spin {\n",
              "    0% {\n",
              "      border-color: transparent;\n",
              "      border-bottom-color: var(--fill-color);\n",
              "      border-left-color: var(--fill-color);\n",
              "    }\n",
              "    20% {\n",
              "      border-color: transparent;\n",
              "      border-left-color: var(--fill-color);\n",
              "      border-top-color: var(--fill-color);\n",
              "    }\n",
              "    30% {\n",
              "      border-color: transparent;\n",
              "      border-left-color: var(--fill-color);\n",
              "      border-top-color: var(--fill-color);\n",
              "      border-right-color: var(--fill-color);\n",
              "    }\n",
              "    40% {\n",
              "      border-color: transparent;\n",
              "      border-right-color: var(--fill-color);\n",
              "      border-top-color: var(--fill-color);\n",
              "    }\n",
              "    60% {\n",
              "      border-color: transparent;\n",
              "      border-right-color: var(--fill-color);\n",
              "    }\n",
              "    80% {\n",
              "      border-color: transparent;\n",
              "      border-right-color: var(--fill-color);\n",
              "      border-bottom-color: var(--fill-color);\n",
              "    }\n",
              "    90% {\n",
              "      border-color: transparent;\n",
              "      border-bottom-color: var(--fill-color);\n",
              "    }\n",
              "  }\n",
              "</style>\n",
              "\n",
              "  <script>\n",
              "    async function quickchart(key) {\n",
              "      const quickchartButtonEl =\n",
              "        document.querySelector('#' + key + ' button');\n",
              "      quickchartButtonEl.disabled = true;  // To prevent multiple clicks.\n",
              "      quickchartButtonEl.classList.add('colab-df-spinner');\n",
              "      try {\n",
              "        const charts = await google.colab.kernel.invokeFunction(\n",
              "            'suggestCharts', [key], {});\n",
              "      } catch (error) {\n",
              "        console.error('Error during call to suggestCharts:', error);\n",
              "      }\n",
              "      quickchartButtonEl.classList.remove('colab-df-spinner');\n",
              "      quickchartButtonEl.classList.add('colab-df-quickchart-complete');\n",
              "    }\n",
              "    (() => {\n",
              "      let quickchartButtonEl =\n",
              "        document.querySelector('#df-077741bd-18e6-4789-8891-5a35fdcd9293 button');\n",
              "      quickchartButtonEl.style.display =\n",
              "        google.colab.kernel.accessAllowed ? 'block' : 'none';\n",
              "    })();\n",
              "  </script>\n",
              "</div>\n",
              "\n",
              "  <div id=\"id_6cab2ed9-0b7b-484b-88c7-a76026b1c505\">\n",
              "    <style>\n",
              "      .colab-df-generate {\n",
              "        background-color: #E8F0FE;\n",
              "        border: none;\n",
              "        border-radius: 50%;\n",
              "        cursor: pointer;\n",
              "        display: none;\n",
              "        fill: #1967D2;\n",
              "        height: 32px;\n",
              "        padding: 0 0 0 0;\n",
              "        width: 32px;\n",
              "      }\n",
              "\n",
              "      .colab-df-generate:hover {\n",
              "        background-color: #E2EBFA;\n",
              "        box-shadow: 0px 1px 2px rgba(60, 64, 67, 0.3), 0px 1px 3px 1px rgba(60, 64, 67, 0.15);\n",
              "        fill: #174EA6;\n",
              "      }\n",
              "\n",
              "      [theme=dark] .colab-df-generate {\n",
              "        background-color: #3B4455;\n",
              "        fill: #D2E3FC;\n",
              "      }\n",
              "\n",
              "      [theme=dark] .colab-df-generate:hover {\n",
              "        background-color: #434B5C;\n",
              "        box-shadow: 0px 1px 3px 1px rgba(0, 0, 0, 0.15);\n",
              "        filter: drop-shadow(0px 1px 2px rgba(0, 0, 0, 0.3));\n",
              "        fill: #FFFFFF;\n",
              "      }\n",
              "    </style>\n",
              "    <button class=\"colab-df-generate\" onclick=\"generateWithVariable('results')\"\n",
              "            title=\"Generate code using this dataframe.\"\n",
              "            style=\"display:none;\">\n",
              "\n",
              "  <svg xmlns=\"http://www.w3.org/2000/svg\" height=\"24px\"viewBox=\"0 0 24 24\"\n",
              "       width=\"24px\">\n",
              "    <path d=\"M7,19H8.4L18.45,9,17,7.55,7,17.6ZM5,21V16.75L18.45,3.32a2,2,0,0,1,2.83,0l1.4,1.43a1.91,1.91,0,0,1,.58,1.4,1.91,1.91,0,0,1-.58,1.4L9.25,21ZM18.45,9,17,7.55Zm-12,3A5.31,5.31,0,0,0,4.9,8.1,5.31,5.31,0,0,0,1,6.5,5.31,5.31,0,0,0,4.9,4.9,5.31,5.31,0,0,0,6.5,1,5.31,5.31,0,0,0,8.1,4.9,5.31,5.31,0,0,0,12,6.5,5.46,5.46,0,0,0,6.5,12Z\"/>\n",
              "  </svg>\n",
              "    </button>\n",
              "    <script>\n",
              "      (() => {\n",
              "      const buttonEl =\n",
              "        document.querySelector('#id_6cab2ed9-0b7b-484b-88c7-a76026b1c505 button.colab-df-generate');\n",
              "      buttonEl.style.display =\n",
              "        google.colab.kernel.accessAllowed ? 'block' : 'none';\n",
              "\n",
              "      buttonEl.onclick = () => {\n",
              "        google.colab.notebook.generateWithVariable('results');\n",
              "      }\n",
              "      })();\n",
              "    </script>\n",
              "  </div>\n",
              "\n",
              "    </div>\n",
              "  </div>\n"
            ],
            "application/vnd.google.colaboratory.intrinsic+json": {
              "type": "dataframe",
              "variable_name": "results",
              "summary": "{\n  \"name\": \"results\",\n  \"rows\": 5,\n  \"fields\": [\n    {\n      \"column\": \"loss\",\n      \"properties\": {\n        \"dtype\": \"number\",\n        \"std\": 0.019847540293884955,\n        \"min\": 1.4868505001068115,\n        \"max\": 1.5376510620117188,\n        \"num_unique_values\": 5,\n        \"samples\": [\n          1.5176771879196167,\n          1.4868505001068115,\n          1.5143449306488037\n        ],\n        \"semantic_type\": \"\",\n        \"description\": \"\"\n      }\n    },\n    {\n      \"column\": \"trainAcc\",\n      \"properties\": {\n        \"dtype\": \"number\",\n        \"std\": 1.9547206657259373,\n        \"min\": 92.43521881103516,\n        \"max\": 97.42608642578125,\n        \"num_unique_values\": 5,\n        \"samples\": [\n          94.33700561523438,\n          97.42608642578125,\n          94.67628479003906\n        ],\n        \"semantic_type\": \"\",\n        \"description\": \"\"\n      }\n    },\n    {\n      \"column\": \"valAcc\",\n      \"properties\": {\n        \"dtype\": \"number\",\n        \"std\": 2.6986375434625764,\n        \"min\": 90.24150085449219,\n        \"max\": 97.16311645507812,\n        \"num_unique_values\": 5,\n        \"samples\": [\n          93.98785400390625,\n          97.16311645507812,\n          94.29102325439453\n        ],\n        \"semantic_type\": \"\",\n        \"description\": \"\"\n      }\n    },\n    {\n      \"column\": \"trainTime\",\n      \"properties\": {\n        \"dtype\": \"number\",\n        \"std\": 1.328251393851379,\n        \"min\": 46.77886748313904,\n        \"max\": 49.487388610839844,\n        \"num_unique_values\": 5,\n        \"samples\": [\n          47.676931381225586,\n          46.878997564315796,\n          49.41555714607239\n        ],\n        \"semantic_type\": \"\",\n        \"description\": \"\"\n      }\n    }\n  ]\n}"
            }
          },
          "metadata": {}
        }
      ]
    },
    {
      "cell_type": "code",
      "source": [
        "#Visualize\n",
        "fig,ax = plt.subplots(1, 2,figsize=(18,6))\n",
        "\n",
        "ax[0].plot(results['loss'], 'g', lw = 3, label = 'Train')\n",
        "ax[0].set_xlabel('KFolds', fontsize = 15)\n",
        "ax[0].set_ylabel('Loss', fontsize = 15)\n",
        "ax[0].legend(fontsize = 15)\n",
        "ax[0].set_title(f'Training Time: {results[\"trainTime\"].sum():.2f} seconds', fontsize = 15)\n",
        "ax[0].grid(True)\n",
        "\n",
        "ax[1].plot(results['trainAcc'], label ='Train', lw = 3)\n",
        "ax[1].plot(results['valAcc'], label ='Validation', lw = 3)\n",
        "ax[1].set_xlabel('KFolds', fontsize = 15)\n",
        "ax[1].set_ylabel('Accuracy (%)', fontsize = 15)\n",
        "ax[1].set_ylim([10,110])\n",
        "ax[1].set_title(f'Train Accuracy: {results[\"trainAcc\"].mean():.2f}% \\n Validation Accuracy: {results[\"valAcc\"].mean():.2f}%', fontsize = 15)\n",
        "ax[1].legend(fontsize = 15)\n",
        "\n",
        "plt.show()\n",
        "plt.savefig('KFold_Adam_results.png')"
      ],
      "metadata": {
        "colab": {
          "base_uri": "https://localhost:8080/",
          "height": 292
        },
        "id": "URMvNqxqpu3H",
        "outputId": "6add6d7d-94ef-40f0-8f05-3cce90aae60c"
      },
      "execution_count": 23,
      "outputs": [
        {
          "output_type": "display_data",
          "data": {
            "text/plain": [
              "<Figure size 1800x600 with 2 Axes>"
            ],
            "image/png": "[encoded data removed]"
          },
          "metadata": {}
        },
        {
          "output_type": "display_data",
          "data": {
            "text/plain": [
              "<Figure size 640x480 with 0 Axes>"
            ]
          },
          "metadata": {}
        }
      ]
    },
    {
      "cell_type": "markdown",
      "source": [
        "## Final Test"
      ],
      "metadata": {
        "id": "uXfkX-C6GcOt"
      }
    },
    {
      "cell_type": "code",
      "source": [
        "print(f\"Test Samples: {len(test_loader)}\")"
      ],
      "metadata": {
        "colab": {
          "base_uri": "https://localhost:8080/"
        },
        "id": "JfhSKCOKG7Zo",
        "outputId": "366a4779-4278-4d0c-bd09-54667b855f3b"
      },
      "execution_count": 24,
      "outputs": [
        {
          "output_type": "stream",
          "name": "stdout",
          "text": [
            "Test Samples: 10000\n"
          ]
        }
      ]
    },
    {
      "cell_type": "code",
      "source": [
        "testAcc = model_testing(model_nn, test_loader)\n",
        "print(f'Testset Accuracy: {testAcc:.2f}%')\n",
        "print(dash_lines)"
      ],
      "metadata": {
        "colab": {
          "base_uri": "https://localhost:8080/"
        },
        "id": "-qMUQsfuDd5Q",
        "outputId": "75e8a4c6-9c2c-4924-cf74-2361d03c2931"
      },
      "execution_count": 25,
      "outputs": [
        {
          "output_type": "stream",
          "name": "stdout",
          "text": [
            "Testset Accuracy: 87.45%\n",
            "--------------------------------------------------------------------------------\n"
          ]
        }
      ]
    },
    {
      "cell_type": "markdown",
      "source": [
        "## Save `NN`"
      ],
      "metadata": {
        "id": "RXr6KjLHgdrs"
      }
    },
    {
      "cell_type": "code",
      "source": [
        "# Save the model\n",
        "torch.save(model_nn.state_dict(), 'Kmnist_model_adam.pth')"
      ],
      "metadata": {
        "id": "irxNSVQ4ggFW"
      },
      "execution_count": 26,
      "outputs": []
    },
    {
      "cell_type": "markdown",
      "source": [
        "## git push"
      ],
      "metadata": {
        "id": "152w66MYuSSm"
      }
    },
    {
      "cell_type": "markdown",
      "source": [
        "# Extra --"
      ],
      "metadata": {
        "id": "bNs2RtF-0cpy"
      }
    },
    {
      "cell_type": "code",
      "source": [
        "#NN Model Architecture - Japanise Symbols classification task\n",
        "model_seq_nn = nn.Sequential(\n",
        "    nn.Flatten(),\n",
        "    nn.Linear(784, 128, dtype=torch.float64),\n",
        "    nn.ReLU(),\n",
        "    nn.Linear(128, 64,  dtype=torch.float64),\n",
        "    nn.ReLU(),\n",
        "    nn.Linear(64, 10,  dtype=torch.float64),\n",
        "    nn.Softmax(dim=1)\n",
        ")\n",
        "\n",
        "#display\n",
        "model_seq_nn"
      ],
      "metadata": {
        "colab": {
          "base_uri": "https://localhost:8080/"
        },
        "id": "CufhujsIwEvD",
        "outputId": "746812f5-4ca1-4bf7-9ac9-983d52726a44"
      },
      "execution_count": null,
      "outputs": [
        {
          "output_type": "execute_result",
          "data": {
            "text/plain": [
              "Sequential(\n",
              "  (0): Flatten(start_dim=1, end_dim=-1)\n",
              "  (1): Linear(in_features=784, out_features=128, bias=True)\n",
              "  (2): ReLU()\n",
              "  (3): Linear(in_features=128, out_features=64, bias=True)\n",
              "  (4): ReLU()\n",
              "  (5): Linear(in_features=64, out_features=10, bias=True)\n",
              "  (6): Softmax(dim=1)\n",
              ")"
            ]
          },
          "metadata": {},
          "execution_count": 8
        }
      ]
    },
    {
      "cell_type": "code",
      "source": [
        "#Optimizer tunable*\n",
        "optimizer = optim.Adam(model_seq_nn.parameters(), lr=learning_rate)"
      ],
      "metadata": {
        "id": "fl889JKu0hrS"
      },
      "execution_count": null,
      "outputs": []
    },
    {
      "cell_type": "code",
      "source": [
        "#Training loop\n",
        "losses = torch.zeros(num_epochs)\n",
        "trainAcc = []\n",
        "valAcc = []\n",
        "trainTime = []\n",
        "\n",
        "for epoch in range(num_epochs):\n",
        "  batchLoss=[]\n",
        "  batchtrainAcc=[]\n",
        "  batchvalAcc=[]\n",
        "\n",
        "  #training\n",
        "  start_time = time.time()\n",
        "  model.train()\n",
        "  for batch_idx, (images, labels) in enumerate(train_loader):\n",
        "    images = images.to(device)\n",
        "    labels = labels.to(device)\n",
        "\n",
        "    #forwardpass\n",
        "    ypred = model(images)\n",
        "    #loss\n",
        "    loss = lossfunc(ypred, labels)\n",
        "\n",
        "    #backpass\n",
        "    optimizer.zero_grad()\n",
        "    loss.backward()\n",
        "    optimizer.step()\n",
        "\n",
        "    #storing results\n",
        "    batchLoss.append(loss.item())\n",
        "    ypred = ypred.cpu()\n",
        "    labels = labels.cpu()\n",
        "\n",
        "    # Compute batch accuracy\n",
        "    acc = 100 * torch.mean((torch.argmax(ypred, dim=1) == labels).float())\n",
        "    batchtrainAcc.append(acc)\n",
        "\n",
        "  end_time = time.time()\n",
        "  trainTime.append(end_time - start_time)\n",
        "  # End of batch loop\n",
        "  # Compute average training accuracy and loss for this epoch\n",
        "  trainAcc.append(np.mean(batchtrainAcc))\n",
        "  losses[epoch] = np.mean(batchLoss)\n",
        "\n",
        "  #evaluate on validation set\n",
        "  model.eval()\n",
        "  for batch_idx, (X, y) in enumerate(val_loader):\n",
        "    X = X.to(device)\n",
        "    y = y.to(device)\n",
        "\n",
        "    with torch.no_grad():\n",
        "      ypred = model(X)\n",
        "      ypred = ypred.cpu()\n",
        "      y = y.cpu()\n",
        "\n",
        "      # Compute test accuracy\n",
        "      batchvalAcc.append(100 * torch.mean((torch.argmax(ypred, dim=1) == y).float()))\n",
        "\n",
        "  valAcc.append(np.mean(batchvalAcc))\n",
        "\n",
        "  # Print epoch statistics\n",
        "  print(f'Epoch: {epoch+1:>3}/{num_epochs}, Loss: {loss.item():>6.2f}, Train Accuracy: {trainAcc[-1]:>6.2f}, Validation Accuracy: {valAcc[-1]:>6.2f}')\n",
        "\n",
        "print(f'Training Time: {np.sum(trainTime):.2f} seconds')"
      ],
      "metadata": {
        "colab": {
          "base_uri": "https://localhost:8080/"
        },
        "id": "toht2_kCzM4W",
        "outputId": "b6019eea-fc82-4378-b826-1e729ad1d00c"
      },
      "execution_count": null,
      "outputs": [
        {
          "output_type": "stream",
          "name": "stdout",
          "text": [
            "Epoch:   1/21, Loss:   1.49, Train Accuracy:  94.64, Validation Accuracy:  94.80\n",
            "Epoch:   2/21, Loss:   1.49, Train Accuracy:  94.78, Validation Accuracy:  94.85\n",
            "Epoch:   3/21, Loss:   1.52, Train Accuracy:  94.65, Validation Accuracy:  95.08\n",
            "Epoch:   4/21, Loss:   1.52, Train Accuracy:  94.67, Validation Accuracy:  94.84\n",
            "Epoch:   5/21, Loss:   1.49, Train Accuracy:  94.76, Validation Accuracy:  94.61\n",
            "Epoch:   6/21, Loss:   1.46, Train Accuracy:  94.82, Validation Accuracy:  94.93\n",
            "Epoch:   7/21, Loss:   1.46, Train Accuracy:  94.86, Validation Accuracy:  95.07\n",
            "Epoch:   8/21, Loss:   1.46, Train Accuracy:  94.90, Validation Accuracy:  94.99\n",
            "Epoch:   9/21, Loss:   1.49, Train Accuracy:  94.94, Validation Accuracy:  95.15\n",
            "Epoch:  10/21, Loss:   1.55, Train Accuracy:  94.96, Validation Accuracy:  94.94\n",
            "Epoch:  11/21, Loss:   1.49, Train Accuracy:  95.03, Validation Accuracy:  95.35\n",
            "Epoch:  12/21, Loss:   1.52, Train Accuracy:  95.04, Validation Accuracy:  95.23\n",
            "Epoch:  13/21, Loss:   1.49, Train Accuracy:  94.99, Validation Accuracy:  95.10\n",
            "Epoch:  14/21, Loss:   1.55, Train Accuracy:  95.03, Validation Accuracy:  95.05\n",
            "Epoch:  15/21, Loss:   1.49, Train Accuracy:  95.00, Validation Accuracy:  95.18\n",
            "Epoch:  16/21, Loss:   1.55, Train Accuracy:  94.98, Validation Accuracy:  95.03\n",
            "Epoch:  17/21, Loss:   1.52, Train Accuracy:  95.04, Validation Accuracy:  95.22\n",
            "Epoch:  18/21, Loss:   1.46, Train Accuracy:  95.06, Validation Accuracy:  95.29\n",
            "Epoch:  19/21, Loss:   1.49, Train Accuracy:  95.15, Validation Accuracy:  95.40\n",
            "Epoch:  20/21, Loss:   1.49, Train Accuracy:  95.21, Validation Accuracy:  95.29\n",
            "Epoch:  21/21, Loss:   1.52, Train Accuracy:  95.17, Validation Accuracy:  95.32\n",
            "Training Time: 51.21 seconds\n"
          ]
        }
      ]
    },
    {
      "cell_type": "code",
      "source": [
        "fig,ax = plt.subplots(1,2,figsize=(18,6))\n",
        "\n",
        "ax[0].plot(losses, 'g', lw = 3, label = 'Train')\n",
        "ax[0].set_xlabel('Epochs', fontsize = 15)\n",
        "ax[0].set_ylabel('Loss', fontsize = 15)\n",
        "ax[0].legend(fontsize = 15)\n",
        "ax[0].set_title('Training Loss', fontsize = 15)\n",
        "\n",
        "ax[1].plot(trainAcc, label ='Train', lw = 3)\n",
        "ax[1].plot(valAcc, label ='Test', lw = 3)\n",
        "ax[1].set_xlabel('Epochs', fontsize = 15)\n",
        "ax[1].set_ylabel('Accuracy (%)', fontsize = 15)\n",
        "ax[1].set_ylim([10,110])\n",
        "ax[1].set_title(f'Train Accuracy: {trainAcc[-1]:.2f}% \\n Validation Accuracy: {valAcc[-1]:.2f}%', fontsize = 15)\n",
        "ax[1].legend(fontsize = 15)\n",
        "\n",
        "plt.show()"
      ],
      "metadata": {
        "colab": {
          "base_uri": "https://localhost:8080/",
          "height": 362
        },
        "id": "wPZ59e5zAZiQ",
        "outputId": "0e314ad9-692b-4ffc-d250-735e541830c6"
      },
      "execution_count": null,
      "outputs": [
        {
          "output_type": "display_data",
          "data": {
            "text/plain": [
              "<Figure size 1800x600 with 2 Axes>"
            ],
            "image/png": "[encoded data removed]"
          },
          "metadata": {}
        }
      ]
    }
  ]
}