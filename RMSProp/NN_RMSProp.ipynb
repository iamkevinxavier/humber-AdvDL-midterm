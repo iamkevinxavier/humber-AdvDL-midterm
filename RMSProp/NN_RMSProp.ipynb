{
  "cells": [
    {
      "cell_type": "markdown",
      "metadata": {
        "id": "W2XoRIn4nlKX"
      },
      "source": [
        "## Optimizers"
      ]
    },
    {
      "cell_type": "markdown",
      "metadata": {
        "id": "AX4EYwcwqpe0"
      },
      "source": [
        "1. **Objective**: Research and investigate to compare the performance of `Adam\n",
        "(Adaptive Moment Estimation)`, `RMSprop (Root Mean Square Prop)`, and\n",
        "`AdamW (Adam with Weight Decay)` optimizers on a feedforward fully\n",
        "connected neural network using the KMNIST dataset.\n",
        "1. **Importance**: Understanding the strengths and weaknesses of different\n",
        "optimization algorithms helps in selecting the right one for specific tasks in\n",
        "deep learning"
      ]
    },
    {
      "cell_type": "code",
      "execution_count": 9,
      "metadata": {
        "colab": {
          "base_uri": "https://localhost:8080/"
        },
        "id": "iH69Kg7pqPIx",
        "outputId": "44c0f18a-a253-49dc-ef47-861350a2d3b1"
      },
      "outputs": [
        {
          "name": "stdout",
          "output_type": "stream",
          "text": [
            "Collecting skorch\n",
            "  Downloading skorch-1.0.0-py3-none-any.whl.metadata (11 kB)\n",
            "Requirement already satisfied: numpy>=1.13.3 in /usr/local/lib/python3.10/dist-packages (from skorch) (1.26.4)\n",
            "Requirement already satisfied: scikit-learn>=0.22.0 in /usr/local/lib/python3.10/dist-packages (from skorch) (1.5.2)\n",
            "Requirement already satisfied: scipy>=1.1.0 in /usr/local/lib/python3.10/dist-packages (from skorch) (1.13.1)\n",
            "Requirement already satisfied: tabulate>=0.7.7 in /usr/local/lib/python3.10/dist-packages (from skorch) (0.9.0)\n",
            "Requirement already satisfied: tqdm>=4.14.0 in /usr/local/lib/python3.10/dist-packages (from skorch) (4.66.5)\n",
            "Requirement already satisfied: joblib>=1.2.0 in /usr/local/lib/python3.10/dist-packages (from scikit-learn>=0.22.0->skorch) (1.4.2)\n",
            "Requirement already satisfied: threadpoolctl>=3.1.0 in /usr/local/lib/python3.10/dist-packages (from scikit-learn>=0.22.0->skorch) (3.5.0)\n",
            "Downloading skorch-1.0.0-py3-none-any.whl (239 kB)\n",
            "\u001b[?25l   \u001b[90m━━━━━━━━━━━━━━━━━━━━━━━━━━━━━━━━━━━━━━━━\u001b[0m \u001b[32m0.0/239.4 kB\u001b[0m \u001b[31m?\u001b[0m eta \u001b[36m-:--:--\u001b[0m\r\u001b[2K   \u001b[90m━━━━━━━━━━━━━━━━━━━━━━━━━━━━━━━━━━━━━━━━\u001b[0m \u001b[32m239.4/239.4 kB\u001b[0m \u001b[31m7.0 MB/s\u001b[0m eta \u001b[36m0:00:00\u001b[0m\n",
            "\u001b[?25hInstalling collected packages: skorch\n",
            "Successfully installed skorch-1.0.0\n"
          ]
        }
      ],
      "source": [
        "import torch\n",
        "import torch.nn as nn\n",
        "import torch.optim as optim\n",
        "import torch.nn.functional as F\n",
        "from torch.utils.data import DataLoader\n",
        "from torchvision import datasets, transforms\n",
        "\n",
        "import numpy as np\n",
        "import pandas as pd\n",
        "import matplotlib.pyplot as plt\n",
        "import zipfile\n",
        "import os\n",
        "import time\n",
        "plt.style.use('dark_background')\n",
        "dash_lines = \"-\"*80\n",
        "\n",
        "!pip install skorch"
      ]
    },
    {
      "cell_type": "markdown",
      "metadata": {
        "id": "2yG3aESNlAmT"
      },
      "source": [
        "## Notebook Guide\n",
        "1. Github load latest files - `git clone`\n",
        "1. Initialize `constants`\n",
        "1. Grid/Randomized Search on Optimizer's params\n",
        "1. Train - `NN` on Best `Optimizer params*`\n",
        "1. Test - `NN` on Hold-out Testset\n",
        "1. Save `model` & `results`"
      ]
    },
    {
      "cell_type": "markdown",
      "metadata": {
        "id": "bwStY_lAzFQg"
      },
      "source": [
        "## Step 1. Github sync"
      ]
    },
    {
      "cell_type": "code",
      "execution_count": null,
      "metadata": {
        "id": "Jp3pmdx2k6BW"
      },
      "outputs": [],
      "source": [
        "# #Github clone\n",
        "# !git clone https://github.com/iamkevinxavier/humber-AdvDL-midterm.git"
      ]
    },
    {
      "cell_type": "markdown",
      "metadata": {
        "id": "fOwrQF9wwTG6"
      },
      "source": [
        "## Load Preprocessed Data\n",
        "1. Standarized\n",
        "1. train/val/test : 60/10/10"
      ]
    },
    {
      "cell_type": "code",
      "execution_count": null,
      "metadata": {
        "id": "5PwDPVlUsCSy"
      },
      "outputs": [],
      "source": [
        "# #Load KMNIST preprocessed data from folder\n",
        "# file_path = 'humber-AdvDL-midterm/Dataset/kmnist_preprocessed.zip'\n",
        "# extract_to = './KMNIST_Dataset'\n",
        "# with zipfile.ZipFile(file_path, 'r') as zip_ref:\n",
        "#   zip_ref.extractall(extract_to)"
      ]
    },
    {
      "cell_type": "code",
      "execution_count": null,
      "metadata": {},
      "outputs": [],
      "source": [
        "import kagglehub\n",
        "\n",
        "# Download latest version\n",
        "path = kagglehub.dataset_download(\"iamkevinxavier/kmnist-standardized\")\n",
        "\n",
        "print(\"Path to dataset files:\", path)"
      ]
    },
    {
      "cell_type": "code",
      "execution_count": 10,
      "metadata": {
        "id": "pvII5Xu8tm6I"
      },
      "outputs": [],
      "source": [
        "extract_to = path\n",
        "train_file_path = os.path.join(extract_to, 'kmnist_train_preprocessed.npz')\n",
        "val_file_path = os.path.join(extract_to, 'kmnist_val_preprocessed.npz')\n",
        "test_file_path = os.path.join(extract_to, 'kmnist_test_preprocessed.npz')"
      ]
    },
    {
      "cell_type": "markdown",
      "metadata": {
        "id": "4B3HVIY1ymRh"
      },
      "source": [
        "## Step 2. Model Architecture"
      ]
    },
    {
      "cell_type": "code",
      "execution_count": 11,
      "metadata": {
        "id": "yKrlUP3MJg9D"
      },
      "outputs": [],
      "source": [
        "class NeuralNet(nn.Module):\n",
        "  def __init__(self):\n",
        "    super(NeuralNet, self).__init__()\n",
        "    self.fc1 = nn.Flatten()\n",
        "    self.fc2 = nn.Linear(784, 128, dtype=torch.float64)\n",
        "    self.fc3 = nn.ReLU()\n",
        "    self.fc4 = nn.Linear(128, 64, dtype=torch.float64)\n",
        "    self.fc5 = nn.ReLU()\n",
        "    self.fc6 = nn.Linear(64, 10, dtype=torch.float64)\n",
        "    self.fc7 = nn.Softmax(dim=1)\n",
        "\n",
        "  def forward(self, x):\n",
        "    x = self.fc1(x)\n",
        "    x = self.fc2(x)\n",
        "    x = self.fc3(x)\n",
        "    x = self.fc4(x)\n",
        "    x = self.fc5(x)\n",
        "    x = self.fc6(x)\n",
        "    x = self.fc7(x)\n",
        "    return x\n",
        "\n",
        "model_nn = NeuralNet()"
      ]
    },
    {
      "cell_type": "code",
      "execution_count": 12,
      "metadata": {
        "id": "mIuW6cc02k-H"
      },
      "outputs": [],
      "source": [
        "#constant params*\n",
        "learning_rate = 1e-3\n",
        "batch_size = 64\n",
        "num_epochs = 21\n",
        "lossfunc = nn.CrossEntropyLoss()\n",
        "\n",
        "#grid search params*\n",
        "n_iter = 10\n",
        "cv = 5"
      ]
    },
    {
      "cell_type": "markdown",
      "metadata": {
        "id": "b-cAnIydtwz4"
      },
      "source": [
        "## Step 3. Grid Search for Optimizers Parameters"
      ]
    },
    {
      "cell_type": "code",
      "execution_count": 13,
      "metadata": {
        "id": "7Vptjdnwq0K4"
      },
      "outputs": [],
      "source": [
        "from sklearn.model_selection import RandomizedSearchCV, GridSearchCV\n",
        "from skorch import NeuralNetClassifier"
      ]
    },
    {
      "cell_type": "markdown",
      "metadata": {
        "id": "7ibwJZu4lv_J"
      },
      "source": [
        "### define params*"
      ]
    },
    {
      "cell_type": "code",
      "execution_count": 14,
      "metadata": {
        "id": "KB-1Z10s3Vke"
      },
      "outputs": [],
      "source": [
        "param_grid = {\n",
        "    'optimizer__lr': [1e-2, 1e-3, 1e-4],  # Learning rate\n",
        "    'optimizer__alpha': [0.9, 0.99],  # Smoothing constant (decay rate)\n",
        "    'optimizer__eps': [1e-8, 1e-7],  # Small value to prevent division by zero\n",
        "    'optimizer__weight_decay': [0, 1e-4, 1e-2],  # L2 regularization strength\n",
        "    'optimizer__momentum': [0, 0.9]  # Momentum for RMSprop\n",
        "}"
      ]
    },
    {
      "cell_type": "code",
      "execution_count": 15,
      "metadata": {
        "id": "5OxI190JOZjY"
      },
      "outputs": [],
      "source": [
        "def load_data():\n",
        "  train_data = np.load(train_file_path)\n",
        "  val_data = np.load(val_file_path)\n",
        "  X = np.concatenate([train_data['images'], val_data['images']], axis=0)\n",
        "  y = np.concatenate([train_data['labels'], val_data['labels']], axis=0)\n",
        "  X = torch.tensor(X, dtype=torch.float64)\n",
        "  y = torch.tensor(y, dtype=torch.long)\n",
        "  print(\"Train images: \", X.shape)\n",
        "  print(\"Train label: \", y.shape)\n",
        "  return X, y"
      ]
    },
    {
      "cell_type": "code",
      "execution_count": 16,
      "metadata": {
        "colab": {
          "base_uri": "https://localhost:8080/"
        },
        "id": "f-9ynEOEMP26",
        "outputId": "7b0f41d6-c8d5-4ff6-e60d-49070fe47df8"
      },
      "outputs": [
        {
          "name": "stdout",
          "output_type": "stream",
          "text": [
            "Device: cpu\n",
            "Train images:  torch.Size([60000, 28, 28])\n",
            "Train label:  torch.Size([60000])\n",
            "Training Time: 3507.39 seconds\n",
            "Random Search -> cv: 5, epochs: 21, batch_size: 64\n",
            "------------------------------------------------------------\n",
            "Best: 0.939283 using {'optimizer__weight_decay': 0, 'optimizer__momentum': 0, 'optimizer__lr': 0.001, 'optimizer__eps': 1e-08, 'optimizer__alpha': 0.99}\n",
            "------------------------------------------------------------\n",
            "0.936400 (0.002382) with: {'optimizer__weight_decay': 0, 'optimizer__momentum': 0, 'optimizer__lr': 0.001, 'optimizer__eps': 1e-07, 'optimizer__alpha': 0.9}\n",
            "0.936417 (0.001575) with: {'optimizer__weight_decay': 0.0001, 'optimizer__momentum': 0.9, 'optimizer__lr': 0.0001, 'optimizer__eps': 1e-08, 'optimizer__alpha': 0.9}\n",
            "0.651367 (0.110818) with: {'optimizer__weight_decay': 0, 'optimizer__momentum': 0, 'optimizer__lr': 0.01, 'optimizer__eps': 1e-07, 'optimizer__alpha': 0.9}\n",
            "0.933683 (0.011839) with: {'optimizer__weight_decay': 0.0001, 'optimizer__momentum': 0, 'optimizer__lr': 0.001, 'optimizer__eps': 1e-07, 'optimizer__alpha': 0.99}\n",
            "0.689217 (0.088473) with: {'optimizer__weight_decay': 0.01, 'optimizer__momentum': 0, 'optimizer__lr': 0.01, 'optimizer__eps': 1e-08, 'optimizer__alpha': 0.9}\n",
            "0.938183 (0.001689) with: {'optimizer__weight_decay': 0.0001, 'optimizer__momentum': 0.9, 'optimizer__lr': 0.0001, 'optimizer__eps': 1e-08, 'optimizer__alpha': 0.99}\n",
            "0.113333 (0.025019) with: {'optimizer__weight_decay': 0.0001, 'optimizer__momentum': 0.9, 'optimizer__lr': 0.01, 'optimizer__eps': 1e-07, 'optimizer__alpha': 0.99}\n",
            "0.195683 (0.033137) with: {'optimizer__weight_decay': 0.01, 'optimizer__momentum': 0.9, 'optimizer__lr': 0.01, 'optimizer__eps': 1e-08, 'optimizer__alpha': 0.9}\n",
            "0.848067 (0.013228) with: {'optimizer__weight_decay': 0.01, 'optimizer__momentum': 0, 'optimizer__lr': 0.0001, 'optimizer__eps': 1e-07, 'optimizer__alpha': 0.9}\n",
            "0.939283 (0.002259) with: {'optimizer__weight_decay': 0, 'optimizer__momentum': 0, 'optimizer__lr': 0.001, 'optimizer__eps': 1e-08, 'optimizer__alpha': 0.99}\n"
          ]
        }
      ],
      "source": [
        "import torch\n",
        "import torch.nn as nn\n",
        "import torch.optim as optim\n",
        "import time\n",
        "from skorch import NeuralNetClassifier\n",
        "from sklearn.model_selection import RandomizedSearchCV\n",
        "\n",
        "# Check if GPU is available\n",
        "device = torch.device(\"cuda\" if torch.cuda.is_available() else \"cpu\")\n",
        "print(f'Device: {device}')\n",
        "\n",
        "# Wrapper to skorch nn for compatibility with scikit API using RMSprop\n",
        "model = NeuralNetClassifier(\n",
        "    module=NeuralNet,  # Your custom neural network module\n",
        "    criterion=nn.CrossEntropyLoss,\n",
        "    optimizer=optim.RMSprop,  # Change to RMSprop optimizer\n",
        "    max_epochs=num_epochs,\n",
        "    batch_size=batch_size,\n",
        "    device=device,\n",
        "    verbose=False\n",
        ")\n",
        "\n",
        "# Initializing the search with RandomizedSearchCV\n",
        "grid = RandomizedSearchCV(\n",
        "    estimator=model,\n",
        "    param_distributions=param_grid,\n",
        "    n_jobs=2,\n",
        "    n_iter=n_iter,\n",
        "    cv=cv  # KFold cross-validation\n",
        ")\n",
        "\n",
        "# Load your data\n",
        "X, y = load_data()\n",
        "\n",
        "# Start timing the fit process\n",
        "start_time = time.time()\n",
        "\n",
        "# Fit the model using randomized search\n",
        "grid_result = grid.fit(X, y)\n",
        "\n",
        "# End timing the process\n",
        "end_time = time.time()\n",
        "print(f'Training Time: {end_time - start_time:.2f} seconds')\n",
        "\n",
        "# Summarize the results\n",
        "print(f\"Random Search -> cv: {cv}, epochs: {num_epochs}, batch_size: {batch_size}\")\n",
        "dash_lines = '-' * 60\n",
        "print(dash_lines)\n",
        "print(\"Best: %f using %s\" % (grid_result.best_score_, grid_result.best_params_))\n",
        "print(dash_lines)\n",
        "\n",
        "# Print mean, std, and params for each combination of parameters\n",
        "means = grid_result.cv_results_['mean_test_score']\n",
        "stds = grid_result.cv_results_['std_test_score']\n",
        "params = grid_result.cv_results_['params']\n",
        "for mean, stdev, param in zip(means, stds, params):\n",
        "    print(\"%f (%f) with: %r\" % (mean, stdev, param))\n"
      ]
    },
    {
      "cell_type": "code",
      "execution_count": 17,
      "metadata": {
        "colab": {
          "base_uri": "https://localhost:8080/"
        },
        "id": "isl7qKZHPRXG",
        "outputId": "445cc123-b2f7-4232-a193-041bea548f6d"
      },
      "outputs": [
        {
          "name": "stdout",
          "output_type": "stream",
          "text": [
            "   optimizer__weight_decay  optimizer__momentum  optimizer__lr  \\\n",
            "0                   0.0000                  0.0         0.0010   \n",
            "1                   0.0001                  0.9         0.0001   \n",
            "2                   0.0000                  0.0         0.0100   \n",
            "3                   0.0001                  0.0         0.0010   \n",
            "4                   0.0100                  0.0         0.0100   \n",
            "5                   0.0001                  0.9         0.0001   \n",
            "6                   0.0001                  0.9         0.0100   \n",
            "7                   0.0100                  0.9         0.0100   \n",
            "8                   0.0100                  0.0         0.0001   \n",
            "9                   0.0000                  0.0         0.0010   \n",
            "\n",
            "   optimizer__eps  optimizer__alpha  mean_test_score  std_test_score  \n",
            "0    1.000000e-07              0.90         0.936400        0.002382  \n",
            "1    1.000000e-08              0.90         0.936417        0.001575  \n",
            "2    1.000000e-07              0.90         0.651367        0.110818  \n",
            "3    1.000000e-07              0.99         0.933683        0.011839  \n",
            "4    1.000000e-08              0.90         0.689217        0.088473  \n",
            "5    1.000000e-08              0.99         0.938183        0.001689  \n",
            "6    1.000000e-07              0.99         0.113333        0.025019  \n",
            "7    1.000000e-08              0.90         0.195683        0.033137  \n",
            "8    1.000000e-07              0.90         0.848067        0.013228  \n",
            "9    1.000000e-08              0.99         0.939283        0.002259  \n"
          ]
        }
      ],
      "source": [
        "#store grid search results in DataFrame\n",
        "results_df = pd.DataFrame(grid_result.cv_results_)\n",
        "results_df = pd.concat([pd.DataFrame(results_df['params'].tolist()),\n",
        "                        results_df[['mean_test_score', 'std_test_score']]], axis=1)\n",
        "print(results_df)\n",
        "results_df.to_csv(f'rms_prop_grid_search_results.csv', index=True, header=True)"
      ]
    },
    {
      "cell_type": "markdown",
      "metadata": {
        "id": "dr6-imef3iN6"
      },
      "source": [
        "# Step 4. Train `NN` on `Best Parameters`"
      ]
    },
    {
      "cell_type": "markdown",
      "metadata": {
        "id": "t5LsXMj9OFqQ"
      },
      "source": [
        "## K-Fold"
      ]
    },
    {
      "cell_type": "code",
      "execution_count": 18,
      "metadata": {
        "id": "l3OxD8FkHReO"
      },
      "outputs": [],
      "source": [
        "from sklearn.model_selection import KFold\n",
        "from torch.utils.data import Subset\n",
        "from torch.utils.data import Dataset"
      ]
    },
    {
      "cell_type": "markdown",
      "metadata": {
        "id": "0cqozbZBnSXL"
      },
      "source": [
        "### set best params*"
      ]
    },
    {
      "cell_type": "code",
      "execution_count": 19,
      "metadata": {
        "id": "scvOY-kIpvKe"
      },
      "outputs": [],
      "source": [
        "optimizer = optim.RMSprop(\n",
        "    params=model_nn.parameters(),\n",
        "    lr=grid_result.best_params_['optimizer__lr'],  # Best learning rate\n",
        "    weight_decay=grid_result.best_params_['optimizer__weight_decay'],  # Best weight decay (L2 regularization)\n",
        "    alpha=grid_result.best_params_['optimizer__alpha'],  # Best alpha (smoothing constant)\n",
        "    eps=grid_result.best_params_['optimizer__eps'],  # Best epsilon (small constant)\n",
        "    momentum=grid_result.best_params_['optimizer__momentum']  # Best momentum\n",
        ")\n"
      ]
    },
    {
      "cell_type": "code",
      "execution_count": 20,
      "metadata": {
        "colab": {
          "base_uri": "https://localhost:8080/"
        },
        "id": "Lbz3bApo1_5n",
        "outputId": "6210177d-4623-485d-b141-4b0cfd7c0806"
      },
      "outputs": [
        {
          "name": "stdout",
          "output_type": "stream",
          "text": [
            "60000\n"
          ]
        }
      ],
      "source": [
        "#Load npz files - alter way\n",
        "class NPZDataset(Dataset):\n",
        "    def __init__(self, npz_file):\n",
        "        data = np.load(npz_file)\n",
        "        self.images = data['images']\n",
        "        self.labels = data['labels']\n",
        "\n",
        "    def __len__(self):\n",
        "        return len(self.images)\n",
        "\n",
        "    def __getitem__(self, idx):\n",
        "        image = self.images[idx]\n",
        "        label = self.labels[idx]\n",
        "        return image, label\n",
        "\n",
        "#load data\n",
        "train_data = NPZDataset(train_file_path)\n",
        "val_data = NPZDataset(val_file_path)\n",
        "test_data = NPZDataset(test_file_path)\n",
        "\n",
        "#batch loader\n",
        "train_loader = DataLoader(train_data, batch_size=batch_size, shuffle=True)\n",
        "val_loader = DataLoader(val_data, shuffle=False)\n",
        "test_loader = DataLoader(test_data, shuffle=False)\n",
        "\n",
        "#Train + Validation sets\n",
        "dataset = train_data + val_data\n",
        "print(len(dataset))"
      ]
    },
    {
      "cell_type": "code",
      "execution_count": 21,
      "metadata": {
        "id": "CBeM87MqQyoy"
      },
      "outputs": [],
      "source": [
        "def model_training_loop(kfold:int, model, train_loader:DataLoader, val_loader:DataLoader):\n",
        "  #Training loop\n",
        "  losses = torch.zeros(num_epochs)\n",
        "  trainAcc = []\n",
        "  valAcc = []\n",
        "  trainTime = []\n",
        "\n",
        "  print(f\"K-Fold: {kfold}\")\n",
        "  print(f\"Train Batches: {len(train_loader):>6}\", f\"Validation Batches: {len(val_loader):>6}\")\n",
        "  print(dash_lines)\n",
        "\n",
        "  #epochs\n",
        "  for epoch in range(num_epochs):\n",
        "    batchLoss=[]\n",
        "    batchtrainAcc=[]\n",
        "    batchvalAcc=[]\n",
        "\n",
        "    #training\n",
        "    start_time = time.time()\n",
        "    model.to(device)\n",
        "    model.train()\n",
        "    for batch_idx, (images, labels) in enumerate(train_loader):\n",
        "      images = images.to(device)\n",
        "      labels = labels.to(device)\n",
        "\n",
        "      #forwardpass\n",
        "      ypred = model(images)\n",
        "      #loss\n",
        "      loss = lossfunc(ypred, labels)\n",
        "\n",
        "      #backpass\n",
        "      optimizer.zero_grad()\n",
        "      loss.backward()\n",
        "      optimizer.step()\n",
        "\n",
        "      #storing results\n",
        "      batchLoss.append(loss.item())\n",
        "      ypred = ypred.cpu()\n",
        "      labels = labels.cpu()\n",
        "\n",
        "      # Compute batch accuracy\n",
        "      acc = 100 * torch.mean((torch.argmax(ypred, dim=1) == labels).float())\n",
        "      batchtrainAcc.append(acc)\n",
        "\n",
        "    end_time = time.time()\n",
        "    trainTime.append(end_time - start_time)\n",
        "    # End of batch loop\n",
        "    # Compute average training accuracy and loss for this epoch\n",
        "    trainAcc.append(np.mean(batchtrainAcc))\n",
        "    losses[epoch] = np.mean(batchLoss)\n",
        "\n",
        "    #evaluate on validation set\n",
        "    model.eval()\n",
        "    for batch_idx, (X, y) in enumerate(val_loader):\n",
        "      X = X.to(device)\n",
        "      y = y.to(device)\n",
        "\n",
        "      with torch.no_grad():\n",
        "        ypred = model(X)\n",
        "        ypred = ypred.cpu()\n",
        "        y = y.cpu()\n",
        "\n",
        "        # Compute test accuracy\n",
        "        batchvalAcc.append(100 * torch.mean((torch.argmax(ypred, dim=1) == y).float()))\n",
        "\n",
        "    valAcc.append(np.mean(batchvalAcc))\n",
        "\n",
        "    # Print epoch statistics\n",
        "    print(f'Epoch: {epoch+1:>3}/{num_epochs}, Loss: {loss.item():>6.2f}, Train Accuracy: {trainAcc[-1]:>6.2f}, Validation Accuracy: {valAcc[-1]:>6.2f}')\n",
        "  print(f'Training Time: {np.sum(trainTime):.2f} seconds')\n",
        "  print(dash_lines)\n",
        "\n",
        "  return np.mean(losses.cpu().numpy()), np.mean(trainAcc), np.mean(valAcc), np.sum(trainTime)"
      ]
    },
    {
      "cell_type": "code",
      "execution_count": 22,
      "metadata": {
        "id": "jGXcml_hdpgV"
      },
      "outputs": [],
      "source": [
        "## Testing\n",
        "def model_testing(model, test_loader:DataLoader):\n",
        "  model.eval()\n",
        "  with torch.no_grad():\n",
        "    testAcc = []\n",
        "    for X, y in test_loader:\n",
        "      X = X.to(device)\n",
        "      y = y.to(device)\n",
        "      ypred = model(X)\n",
        "      ypred = ypred.cpu()\n",
        "      y = y.cpu()\n",
        "      acc = 100 * torch.mean((torch.argmax(ypred, dim=1) == y).float())\n",
        "      testAcc.append(acc)\n",
        "  return np.mean(testAcc)"
      ]
    },
    {
      "cell_type": "code",
      "execution_count": 23,
      "metadata": {
        "colab": {
          "base_uri": "https://localhost:8080/"
        },
        "id": "YJ0LxODm_oJc",
        "outputId": "e9e467f8-058c-42d2-cd6c-4ca637d184e9"
      },
      "outputs": [
        {
          "data": {
            "text/plain": [
              "NeuralNet(\n",
              "  (fc1): Flatten(start_dim=1, end_dim=-1)\n",
              "  (fc2): Linear(in_features=784, out_features=128, bias=True)\n",
              "  (fc3): ReLU()\n",
              "  (fc4): Linear(in_features=128, out_features=64, bias=True)\n",
              "  (fc5): ReLU()\n",
              "  (fc6): Linear(in_features=64, out_features=10, bias=True)\n",
              "  (fc7): Softmax(dim=1)\n",
              ")"
            ]
          },
          "execution_count": 23,
          "metadata": {},
          "output_type": "execute_result"
        }
      ],
      "source": [
        "device = torch.device(\"cuda\" if torch.cuda.is_available() else \"cpu\")\n",
        "model_nn.to(device)"
      ]
    },
    {
      "cell_type": "markdown",
      "metadata": {
        "id": "WHzmhNhGpA2m"
      },
      "source": [
        "### KFold iter"
      ]
    },
    {
      "cell_type": "code",
      "execution_count": 24,
      "metadata": {
        "colab": {
          "base_uri": "https://localhost:8080/"
        },
        "id": "HMgTjWxSOiPB",
        "outputId": "d70104a8-8403-456f-da67-15e71f3dda0b"
      },
      "outputs": [
        {
          "name": "stdout",
          "output_type": "stream",
          "text": [
            "Train: 48000 Test: 12000\n",
            "K-Fold: 0\n",
            "Train Batches:    750 Validation Batches:    188\n",
            "------------------------------------------------------------\n",
            "Epoch:   1/21, Loss:   1.55, Train Accuracy:  85.96, Validation Accuracy:  90.08\n",
            "Epoch:   2/21, Loss:   1.56, Train Accuracy:  91.85, Validation Accuracy:  92.17\n",
            "Epoch:   3/21, Loss:   1.60, Train Accuracy:  93.38, Validation Accuracy:  92.17\n",
            "Epoch:   4/21, Loss:   1.54, Train Accuracy:  94.36, Validation Accuracy:  93.11\n",
            "Epoch:   5/21, Loss:   1.52, Train Accuracy:  94.83, Validation Accuracy:  93.58\n",
            "Epoch:   6/21, Loss:   1.56, Train Accuracy:  95.32, Validation Accuracy:  93.63\n",
            "Epoch:   7/21, Loss:   1.49, Train Accuracy:  95.64, Validation Accuracy:  93.54\n",
            "Epoch:   8/21, Loss:   1.51, Train Accuracy:  95.92, Validation Accuracy:  93.83\n",
            "Epoch:   9/21, Loss:   1.49, Train Accuracy:  96.21, Validation Accuracy:  93.63\n",
            "Epoch:  10/21, Loss:   1.51, Train Accuracy:  96.37, Validation Accuracy:  93.90\n",
            "Epoch:  11/21, Loss:   1.49, Train Accuracy:  96.55, Validation Accuracy:  93.68\n",
            "Epoch:  12/21, Loss:   1.51, Train Accuracy:  96.80, Validation Accuracy:  93.62\n",
            "Epoch:  13/21, Loss:   1.52, Train Accuracy:  96.87, Validation Accuracy:  93.63\n",
            "Epoch:  14/21, Loss:   1.47, Train Accuracy:  96.78, Validation Accuracy:  94.15\n",
            "Epoch:  15/21, Loss:   1.51, Train Accuracy:  97.06, Validation Accuracy:  93.79\n",
            "Epoch:  16/21, Loss:   1.46, Train Accuracy:  97.13, Validation Accuracy:  93.73\n",
            "Epoch:  17/21, Loss:   1.48, Train Accuracy:  97.25, Validation Accuracy:  93.98\n",
            "Epoch:  18/21, Loss:   1.51, Train Accuracy:  97.32, Validation Accuracy:  94.11\n",
            "Epoch:  19/21, Loss:   1.51, Train Accuracy:  97.42, Validation Accuracy:  94.26\n",
            "Epoch:  20/21, Loss:   1.49, Train Accuracy:  97.35, Validation Accuracy:  94.11\n",
            "Epoch:  21/21, Loss:   1.46, Train Accuracy:  97.43, Validation Accuracy:  93.92\n",
            "Training Time: 81.05 seconds\n",
            "------------------------------------------------------------\n",
            "Train: 48000 Test: 12000\n",
            "K-Fold: 1\n",
            "Train Batches:    750 Validation Batches:    188\n",
            "------------------------------------------------------------\n",
            "Epoch:   1/21, Loss:   1.48, Train Accuracy:  96.55, Validation Accuracy:  97.57\n",
            "Epoch:   2/21, Loss:   1.51, Train Accuracy:  96.57, Validation Accuracy:  97.05\n",
            "Epoch:   3/21, Loss:   1.49, Train Accuracy:  96.77, Validation Accuracy:  97.26\n",
            "Epoch:   4/21, Loss:   1.48, Train Accuracy:  96.96, Validation Accuracy:  96.85\n",
            "Epoch:   5/21, Loss:   1.48, Train Accuracy:  96.96, Validation Accuracy:  96.80\n",
            "Epoch:   6/21, Loss:   1.51, Train Accuracy:  97.03, Validation Accuracy:  96.59\n",
            "Epoch:   7/21, Loss:   1.49, Train Accuracy:  97.03, Validation Accuracy:  96.99\n",
            "Epoch:   8/21, Loss:   1.51, Train Accuracy:  97.20, Validation Accuracy:  96.79\n",
            "Epoch:   9/21, Loss:   1.48, Train Accuracy:  97.26, Validation Accuracy:  95.96\n",
            "Epoch:  10/21, Loss:   1.52, Train Accuracy:  97.20, Validation Accuracy:  96.77\n",
            "Epoch:  11/21, Loss:   1.48, Train Accuracy:  97.38, Validation Accuracy:  96.67\n",
            "Epoch:  12/21, Loss:   1.49, Train Accuracy:  97.36, Validation Accuracy:  96.74\n",
            "Epoch:  13/21, Loss:   1.52, Train Accuracy:  97.49, Validation Accuracy:  96.98\n",
            "Epoch:  14/21, Loss:   1.47, Train Accuracy:  97.36, Validation Accuracy:  96.44\n",
            "Epoch:  15/21, Loss:   1.48, Train Accuracy:  97.49, Validation Accuracy:  96.74\n",
            "Epoch:  16/21, Loss:   1.48, Train Accuracy:  97.59, Validation Accuracy:  96.25\n",
            "Epoch:  17/21, Loss:   1.46, Train Accuracy:  97.50, Validation Accuracy:  96.57\n",
            "Epoch:  18/21, Loss:   1.48, Train Accuracy:  97.62, Validation Accuracy:  96.68\n",
            "Epoch:  19/21, Loss:   1.48, Train Accuracy:  97.60, Validation Accuracy:  96.22\n",
            "Epoch:  20/21, Loss:   1.48, Train Accuracy:  97.70, Validation Accuracy:  96.48\n",
            "Epoch:  21/21, Loss:   1.49, Train Accuracy:  97.72, Validation Accuracy:  96.47\n",
            "Training Time: 77.34 seconds\n",
            "------------------------------------------------------------\n",
            "Train: 48000 Test: 12000\n",
            "K-Fold: 2\n",
            "Train Batches:    750 Validation Batches:    188\n",
            "------------------------------------------------------------\n",
            "Epoch:   1/21, Loss:   1.48, Train Accuracy:  97.29, Validation Accuracy:  97.97\n",
            "Epoch:   2/21, Loss:   1.47, Train Accuracy:  97.36, Validation Accuracy:  97.65\n",
            "Epoch:   3/21, Loss:   1.48, Train Accuracy:  97.44, Validation Accuracy:  97.58\n",
            "Epoch:   4/21, Loss:   1.49, Train Accuracy:  97.45, Validation Accuracy:  97.76\n",
            "Epoch:   5/21, Loss:   1.46, Train Accuracy:  97.51, Validation Accuracy:  97.70\n",
            "Epoch:   6/21, Loss:   1.48, Train Accuracy:  97.56, Validation Accuracy:  97.82\n",
            "Epoch:   7/21, Loss:   1.46, Train Accuracy:  97.59, Validation Accuracy:  97.71\n",
            "Epoch:   8/21, Loss:   1.54, Train Accuracy:  97.67, Validation Accuracy:  97.37\n",
            "Epoch:   9/21, Loss:   1.48, Train Accuracy:  97.66, Validation Accuracy:  97.71\n",
            "Epoch:  10/21, Loss:   1.49, Train Accuracy:  97.57, Validation Accuracy:  97.53\n",
            "Epoch:  11/21, Loss:   1.46, Train Accuracy:  97.65, Validation Accuracy:  97.63\n",
            "Epoch:  12/21, Loss:   1.53, Train Accuracy:  97.74, Validation Accuracy:  96.76\n",
            "Epoch:  13/21, Loss:   1.48, Train Accuracy:  97.64, Validation Accuracy:  97.49\n",
            "Epoch:  14/21, Loss:   1.46, Train Accuracy:  97.55, Validation Accuracy:  97.59\n",
            "Epoch:  15/21, Loss:   1.48, Train Accuracy:  97.68, Validation Accuracy:  97.61\n",
            "Epoch:  16/21, Loss:   1.46, Train Accuracy:  97.85, Validation Accuracy:  97.25\n",
            "Epoch:  17/21, Loss:   1.49, Train Accuracy:  97.76, Validation Accuracy:  97.46\n",
            "Epoch:  18/21, Loss:   1.52, Train Accuracy:  97.70, Validation Accuracy:  97.32\n",
            "Epoch:  19/21, Loss:   1.49, Train Accuracy:  97.80, Validation Accuracy:  97.43\n",
            "Epoch:  20/21, Loss:   1.48, Train Accuracy:  97.78, Validation Accuracy:  97.12\n",
            "Epoch:  21/21, Loss:   1.46, Train Accuracy:  97.81, Validation Accuracy:  97.35\n",
            "Training Time: 73.77 seconds\n",
            "------------------------------------------------------------\n",
            "Train: 48000 Test: 12000\n",
            "K-Fold: 3\n",
            "Train Batches:    750 Validation Batches:    188\n",
            "------------------------------------------------------------\n",
            "Epoch:   1/21, Loss:   1.49, Train Accuracy:  97.57, Validation Accuracy:  97.71\n",
            "Epoch:   2/21, Loss:   1.51, Train Accuracy:  97.62, Validation Accuracy:  97.88\n",
            "Epoch:   3/21, Loss:   1.46, Train Accuracy:  97.71, Validation Accuracy:  98.07\n",
            "Epoch:   4/21, Loss:   1.49, Train Accuracy:  97.77, Validation Accuracy:  98.06\n",
            "Epoch:   5/21, Loss:   1.48, Train Accuracy:  97.75, Validation Accuracy:  97.29\n",
            "Epoch:   6/21, Loss:   1.46, Train Accuracy:  97.79, Validation Accuracy:  97.92\n",
            "Epoch:   7/21, Loss:   1.48, Train Accuracy:  97.79, Validation Accuracy:  97.81\n",
            "Epoch:   8/21, Loss:   1.48, Train Accuracy:  97.87, Validation Accuracy:  97.55\n",
            "Epoch:   9/21, Loss:   1.51, Train Accuracy:  97.86, Validation Accuracy:  97.74\n",
            "Epoch:  10/21, Loss:   1.48, Train Accuracy:  97.81, Validation Accuracy:  97.51\n",
            "Epoch:  11/21, Loss:   1.46, Train Accuracy:  97.94, Validation Accuracy:  97.43\n",
            "Epoch:  12/21, Loss:   1.49, Train Accuracy:  97.90, Validation Accuracy:  97.55\n",
            "Epoch:  13/21, Loss:   1.48, Train Accuracy:  97.88, Validation Accuracy:  97.51\n",
            "Epoch:  14/21, Loss:   1.49, Train Accuracy:  98.01, Validation Accuracy:  97.80\n",
            "Epoch:  15/21, Loss:   1.51, Train Accuracy:  97.93, Validation Accuracy:  97.54\n",
            "Epoch:  16/21, Loss:   1.48, Train Accuracy:  98.01, Validation Accuracy:  97.38\n",
            "Epoch:  17/21, Loss:   1.49, Train Accuracy:  98.02, Validation Accuracy:  97.59\n",
            "Epoch:  18/21, Loss:   1.49, Train Accuracy:  97.97, Validation Accuracy:  97.56\n",
            "Epoch:  19/21, Loss:   1.48, Train Accuracy:  97.89, Validation Accuracy:  97.50\n",
            "Epoch:  20/21, Loss:   1.46, Train Accuracy:  97.97, Validation Accuracy:  97.61\n",
            "Epoch:  21/21, Loss:   1.49, Train Accuracy:  97.97, Validation Accuracy:  97.64\n",
            "Training Time: 74.66 seconds\n",
            "------------------------------------------------------------\n",
            "Train: 48000 Test: 12000\n",
            "K-Fold: 4\n",
            "Train Batches:    750 Validation Batches:    188\n",
            "------------------------------------------------------------\n",
            "Epoch:   1/21, Loss:   1.46, Train Accuracy:  97.92, Validation Accuracy:  98.08\n",
            "Epoch:   2/21, Loss:   1.51, Train Accuracy:  97.86, Validation Accuracy:  97.61\n",
            "Epoch:   3/21, Loss:   1.48, Train Accuracy:  97.96, Validation Accuracy:  98.11\n",
            "Epoch:   4/21, Loss:   1.49, Train Accuracy:  97.89, Validation Accuracy:  97.92\n",
            "Epoch:   5/21, Loss:   1.48, Train Accuracy:  97.91, Validation Accuracy:  98.07\n",
            "Epoch:   6/21, Loss:   1.46, Train Accuracy:  97.92, Validation Accuracy:  98.02\n",
            "Epoch:   7/21, Loss:   1.51, Train Accuracy:  97.90, Validation Accuracy:  97.80\n",
            "Epoch:   8/21, Loss:   1.46, Train Accuracy:  98.01, Validation Accuracy:  97.90\n",
            "Epoch:   9/21, Loss:   1.46, Train Accuracy:  98.00, Validation Accuracy:  97.37\n",
            "Epoch:  10/21, Loss:   1.48, Train Accuracy:  97.83, Validation Accuracy:  97.30\n",
            "Epoch:  11/21, Loss:   1.46, Train Accuracy:  97.95, Validation Accuracy:  97.61\n",
            "Epoch:  12/21, Loss:   1.49, Train Accuracy:  97.96, Validation Accuracy:  97.47\n",
            "Epoch:  13/21, Loss:   1.46, Train Accuracy:  97.96, Validation Accuracy:  97.49\n",
            "Epoch:  14/21, Loss:   1.46, Train Accuracy:  97.97, Validation Accuracy:  97.54\n",
            "Epoch:  15/21, Loss:   1.46, Train Accuracy:  97.96, Validation Accuracy:  97.66\n",
            "Epoch:  16/21, Loss:   1.52, Train Accuracy:  98.07, Validation Accuracy:  97.59\n",
            "Epoch:  17/21, Loss:   1.46, Train Accuracy:  98.07, Validation Accuracy:  97.66\n",
            "Epoch:  18/21, Loss:   1.46, Train Accuracy:  98.15, Validation Accuracy:  97.63\n",
            "Epoch:  19/21, Loss:   1.48, Train Accuracy:  98.01, Validation Accuracy:  97.63\n",
            "Epoch:  20/21, Loss:   1.48, Train Accuracy:  98.18, Validation Accuracy:  97.47\n",
            "Epoch:  21/21, Loss:   1.48, Train Accuracy:  98.17, Validation Accuracy:  97.54\n",
            "Training Time: 74.43 seconds\n",
            "------------------------------------------------------------\n"
          ]
        }
      ],
      "source": [
        "#KFold\n",
        "kf = KFold(n_splits=cv, shuffle=True, random_state=42)\n",
        "results = pd.DataFrame(columns=['loss', 'trainAcc', 'valAcc', 'trainTime'])\n",
        "\n",
        "#K iter\n",
        "for fold, (train_index, val_index) in enumerate(kf.split(dataset)):\n",
        "    print(\"Train:\", len(train_index), \"Test:\", len(val_index))\n",
        "\n",
        "    #Subset\n",
        "    train_dataset = Subset(dataset, train_index)\n",
        "    val_dataset = Subset(dataset, val_index)\n",
        "\n",
        "    #Dataloader\n",
        "    train_loader = DataLoader(train_dataset, batch_size=batch_size, shuffle=True)\n",
        "    val_loader = DataLoader(val_dataset, batch_size=batch_size, shuffle=False)\n",
        "\n",
        "    #pass to training loop\n",
        "    loss, trainAcc, valAcc, Traintime = model_training_loop(fold, model_nn, train_loader, val_loader)\n",
        "\n",
        "    #results\n",
        "    results.loc[fold] = [loss, trainAcc, valAcc, Traintime]"
      ]
    },
    {
      "cell_type": "code",
      "execution_count": 25,
      "metadata": {
        "colab": {
          "base_uri": "https://localhost:8080/",
          "height": 206
        },
        "id": "_yLdilL5ojDf",
        "outputId": "24f83407-1115-4e8a-9aa1-50a2c1bfb9f3"
      },
      "outputs": [
        {
          "data": {
            "application/vnd.google.colaboratory.intrinsic+json": {
              "summary": "{\n  \"name\": \"results\",\n  \"rows\": 5,\n  \"fields\": [\n    {\n      \"column\": \"loss\",\n      \"properties\": {\n        \"dtype\": \"number\",\n        \"std\": 0.010047571527680495,\n        \"min\": 1.4812967777252197,\n        \"max\": 1.505919098854065,\n        \"num_unique_values\": 5,\n        \"samples\": [\n          1.4886136054992676,\n          1.4812967777252197,\n          1.484931230545044\n        ],\n        \"semantic_type\": \"\",\n        \"description\": \"\"\n      }\n    },\n    {\n      \"column\": \"trainAcc\",\n      \"properties\": {\n        \"dtype\": \"number\",\n        \"std\": 0.9663868503111834,\n        \"min\": 95.61012268066406,\n        \"max\": 97.98373413085938,\n        \"num_unique_values\": 5,\n        \"samples\": [\n          97.25496673583984,\n          97.98373413085938,\n          97.62132263183594\n        ],\n        \"semantic_type\": \"\",\n        \"description\": \"\"\n      }\n    },\n    {\n      \"column\": \"valAcc\",\n      \"properties\": {\n        \"dtype\": \"number\",\n        \"std\": 1.8033749374310115,\n        \"min\": 93.45792388916016,\n        \"max\": 97.68909454345703,\n        \"num_unique_values\": 5,\n        \"samples\": [\n          96.70877838134766,\n          97.68909454345703,\n          97.5137710571289\n        ],\n        \"semantic_type\": \"\",\n        \"description\": \"\"\n      }\n    },\n    {\n      \"column\": \"trainTime\",\n      \"properties\": {\n        \"dtype\": \"number\",\n        \"std\": 3.0075855976138257,\n        \"min\": 73.77067375183105,\n        \"max\": 81.04677200317383,\n        \"num_unique_values\": 5,\n        \"samples\": [\n          77.33851599693298,\n          74.43072247505188,\n          73.77067375183105\n        ],\n        \"semantic_type\": \"\",\n        \"description\": \"\"\n      }\n    }\n  ]\n}",
              "type": "dataframe",
              "variable_name": "results"
            },
            "text/html": [
              "\n",
              "  <div id=\"df-d0a1bbd2-3be1-4e9e-9fab-cff54a51297c\" class=\"colab-df-container\">\n",
              "    <div>\n",
              "<style scoped>\n",
              "    .dataframe tbody tr th:only-of-type {\n",
              "        vertical-align: middle;\n",
              "    }\n",
              "\n",
              "    .dataframe tbody tr th {\n",
              "        vertical-align: top;\n",
              "    }\n",
              "\n",
              "    .dataframe thead th {\n",
              "        text-align: right;\n",
              "    }\n",
              "</style>\n",
              "<table border=\"1\" class=\"dataframe\">\n",
              "  <thead>\n",
              "    <tr style=\"text-align: right;\">\n",
              "      <th></th>\n",
              "      <th>loss</th>\n",
              "      <th>trainAcc</th>\n",
              "      <th>valAcc</th>\n",
              "      <th>trainTime</th>\n",
              "    </tr>\n",
              "  </thead>\n",
              "  <tbody>\n",
              "    <tr>\n",
              "      <th>0</th>\n",
              "      <td>1.505919</td>\n",
              "      <td>95.610123</td>\n",
              "      <td>93.457924</td>\n",
              "      <td>81.046772</td>\n",
              "    </tr>\n",
              "    <tr>\n",
              "      <th>1</th>\n",
              "      <td>1.488614</td>\n",
              "      <td>97.254967</td>\n",
              "      <td>96.708778</td>\n",
              "      <td>77.338516</td>\n",
              "    </tr>\n",
              "    <tr>\n",
              "      <th>2</th>\n",
              "      <td>1.484931</td>\n",
              "      <td>97.621323</td>\n",
              "      <td>97.513771</td>\n",
              "      <td>73.770674</td>\n",
              "    </tr>\n",
              "    <tr>\n",
              "      <th>3</th>\n",
              "      <td>1.482511</td>\n",
              "      <td>97.859436</td>\n",
              "      <td>97.650307</td>\n",
              "      <td>74.658909</td>\n",
              "    </tr>\n",
              "    <tr>\n",
              "      <th>4</th>\n",
              "      <td>1.481297</td>\n",
              "      <td>97.983734</td>\n",
              "      <td>97.689095</td>\n",
              "      <td>74.430722</td>\n",
              "    </tr>\n",
              "  </tbody>\n",
              "</table>\n",
              "</div>\n",
              "    <div class=\"colab-df-buttons\">\n",
              "\n",
              "  <div class=\"colab-df-container\">\n",
              "    <button class=\"colab-df-convert\" onclick=\"convertToInteractive('df-d0a1bbd2-3be1-4e9e-9fab-cff54a51297c')\"\n",
              "            title=\"Convert this dataframe to an interactive table.\"\n",
              "            style=\"display:none;\">\n",
              "\n",
              "  <svg xmlns=\"http://www.w3.org/2000/svg\" height=\"24px\" viewBox=\"0 -960 960 960\">\n",
              "    <path d=\"M120-120v-720h720v720H120Zm60-500h600v-160H180v160Zm220 220h160v-160H400v160Zm0 220h160v-160H400v160ZM180-400h160v-160H180v160Zm440 0h160v-160H620v160ZM180-180h160v-160H180v160Zm440 0h160v-160H620v160Z\"/>\n",
              "  </svg>\n",
              "    </button>\n",
              "\n",
              "  <style>\n",
              "    .colab-df-container {\n",
              "      display:flex;\n",
              "      gap: 12px;\n",
              "    }\n",
              "\n",
              "    .colab-df-convert {\n",
              "      background-color: #E8F0FE;\n",
              "      border: none;\n",
              "      border-radius: 50%;\n",
              "      cursor: pointer;\n",
              "      display: none;\n",
              "      fill: #1967D2;\n",
              "      height: 32px;\n",
              "      padding: 0 0 0 0;\n",
              "      width: 32px;\n",
              "    }\n",
              "\n",
              "    .colab-df-convert:hover {\n",
              "      background-color: #E2EBFA;\n",
              "      box-shadow: 0px 1px 2px rgba(60, 64, 67, 0.3), 0px 1px 3px 1px rgba(60, 64, 67, 0.15);\n",
              "      fill: #174EA6;\n",
              "    }\n",
              "\n",
              "    .colab-df-buttons div {\n",
              "      margin-bottom: 4px;\n",
              "    }\n",
              "\n",
              "    [theme=dark] .colab-df-convert {\n",
              "      background-color: #3B4455;\n",
              "      fill: #D2E3FC;\n",
              "    }\n",
              "\n",
              "    [theme=dark] .colab-df-convert:hover {\n",
              "      background-color: #434B5C;\n",
              "      box-shadow: 0px 1px 3px 1px rgba(0, 0, 0, 0.15);\n",
              "      filter: drop-shadow(0px 1px 2px rgba(0, 0, 0, 0.3));\n",
              "      fill: #FFFFFF;\n",
              "    }\n",
              "  </style>\n",
              "\n",
              "    <script>\n",
              "      const buttonEl =\n",
              "        document.querySelector('#df-d0a1bbd2-3be1-4e9e-9fab-cff54a51297c button.colab-df-convert');\n",
              "      buttonEl.style.display =\n",
              "        google.colab.kernel.accessAllowed ? 'block' : 'none';\n",
              "\n",
              "      async function convertToInteractive(key) {\n",
              "        const element = document.querySelector('#df-d0a1bbd2-3be1-4e9e-9fab-cff54a51297c');\n",
              "        const dataTable =\n",
              "          await google.colab.kernel.invokeFunction('convertToInteractive',\n",
              "                                                    [key], {});\n",
              "        if (!dataTable) return;\n",
              "\n",
              "        const docLinkHtml = 'Like what you see? Visit the ' +\n",
              "          '<a target=\"_blank\" href=https://colab.research.google.com/notebooks/data_table.ipynb>data table notebook</a>'\n",
              "          + ' to learn more about interactive tables.';\n",
              "        element.innerHTML = '';\n",
              "        dataTable['output_type'] = 'display_data';\n",
              "        await google.colab.output.renderOutput(dataTable, element);\n",
              "        const docLink = document.createElement('div');\n",
              "        docLink.innerHTML = docLinkHtml;\n",
              "        element.appendChild(docLink);\n",
              "      }\n",
              "    </script>\n",
              "  </div>\n",
              "\n",
              "\n",
              "<div id=\"df-2614193e-3f4f-429c-a9a9-4bf46b928f2c\">\n",
              "  <button class=\"colab-df-quickchart\" onclick=\"quickchart('df-2614193e-3f4f-429c-a9a9-4bf46b928f2c')\"\n",
              "            title=\"Suggest charts\"\n",
              "            style=\"display:none;\">\n",
              "\n",
              "<svg xmlns=\"http://www.w3.org/2000/svg\" height=\"24px\"viewBox=\"0 0 24 24\"\n",
              "     width=\"24px\">\n",
              "    <g>\n",
              "        <path d=\"M19 3H5c-1.1 0-2 .9-2 2v14c0 1.1.9 2 2 2h14c1.1 0 2-.9 2-2V5c0-1.1-.9-2-2-2zM9 17H7v-7h2v7zm4 0h-2V7h2v10zm4 0h-2v-4h2v4z\"/>\n",
              "    </g>\n",
              "</svg>\n",
              "  </button>\n",
              "\n",
              "<style>\n",
              "  .colab-df-quickchart {\n",
              "      --bg-color: #E8F0FE;\n",
              "      --fill-color: #1967D2;\n",
              "      --hover-bg-color: #E2EBFA;\n",
              "      --hover-fill-color: #174EA6;\n",
              "      --disabled-fill-color: #AAA;\n",
              "      --disabled-bg-color: #DDD;\n",
              "  }\n",
              "\n",
              "  [theme=dark] .colab-df-quickchart {\n",
              "      --bg-color: #3B4455;\n",
              "      --fill-color: #D2E3FC;\n",
              "      --hover-bg-color: #434B5C;\n",
              "      --hover-fill-color: #FFFFFF;\n",
              "      --disabled-bg-color: #3B4455;\n",
              "      --disabled-fill-color: #666;\n",
              "  }\n",
              "\n",
              "  .colab-df-quickchart {\n",
              "    background-color: var(--bg-color);\n",
              "    border: none;\n",
              "    border-radius: 50%;\n",
              "    cursor: pointer;\n",
              "    display: none;\n",
              "    fill: var(--fill-color);\n",
              "    height: 32px;\n",
              "    padding: 0;\n",
              "    width: 32px;\n",
              "  }\n",
              "\n",
              "  .colab-df-quickchart:hover {\n",
              "    background-color: var(--hover-bg-color);\n",
              "    box-shadow: 0 1px 2px rgba(60, 64, 67, 0.3), 0 1px 3px 1px rgba(60, 64, 67, 0.15);\n",
              "    fill: var(--button-hover-fill-color);\n",
              "  }\n",
              "\n",
              "  .colab-df-quickchart-complete:disabled,\n",
              "  .colab-df-quickchart-complete:disabled:hover {\n",
              "    background-color: var(--disabled-bg-color);\n",
              "    fill: var(--disabled-fill-color);\n",
              "    box-shadow: none;\n",
              "  }\n",
              "\n",
              "  .colab-df-spinner {\n",
              "    border: 2px solid var(--fill-color);\n",
              "    border-color: transparent;\n",
              "    border-bottom-color: var(--fill-color);\n",
              "    animation:\n",
              "      spin 1s steps(1) infinite;\n",
              "  }\n",
              "\n",
              "  @keyframes spin {\n",
              "    0% {\n",
              "      border-color: transparent;\n",
              "      border-bottom-color: var(--fill-color);\n",
              "      border-left-color: var(--fill-color);\n",
              "    }\n",
              "    20% {\n",
              "      border-color: transparent;\n",
              "      border-left-color: var(--fill-color);\n",
              "      border-top-color: var(--fill-color);\n",
              "    }\n",
              "    30% {\n",
              "      border-color: transparent;\n",
              "      border-left-color: var(--fill-color);\n",
              "      border-top-color: var(--fill-color);\n",
              "      border-right-color: var(--fill-color);\n",
              "    }\n",
              "    40% {\n",
              "      border-color: transparent;\n",
              "      border-right-color: var(--fill-color);\n",
              "      border-top-color: var(--fill-color);\n",
              "    }\n",
              "    60% {\n",
              "      border-color: transparent;\n",
              "      border-right-color: var(--fill-color);\n",
              "    }\n",
              "    80% {\n",
              "      border-color: transparent;\n",
              "      border-right-color: var(--fill-color);\n",
              "      border-bottom-color: var(--fill-color);\n",
              "    }\n",
              "    90% {\n",
              "      border-color: transparent;\n",
              "      border-bottom-color: var(--fill-color);\n",
              "    }\n",
              "  }\n",
              "</style>\n",
              "\n",
              "  <script>\n",
              "    async function quickchart(key) {\n",
              "      const quickchartButtonEl =\n",
              "        document.querySelector('#' + key + ' button');\n",
              "      quickchartButtonEl.disabled = true;  // To prevent multiple clicks.\n",
              "      quickchartButtonEl.classList.add('colab-df-spinner');\n",
              "      try {\n",
              "        const charts = await google.colab.kernel.invokeFunction(\n",
              "            'suggestCharts', [key], {});\n",
              "      } catch (error) {\n",
              "        console.error('Error during call to suggestCharts:', error);\n",
              "      }\n",
              "      quickchartButtonEl.classList.remove('colab-df-spinner');\n",
              "      quickchartButtonEl.classList.add('colab-df-quickchart-complete');\n",
              "    }\n",
              "    (() => {\n",
              "      let quickchartButtonEl =\n",
              "        document.querySelector('#df-2614193e-3f4f-429c-a9a9-4bf46b928f2c button');\n",
              "      quickchartButtonEl.style.display =\n",
              "        google.colab.kernel.accessAllowed ? 'block' : 'none';\n",
              "    })();\n",
              "  </script>\n",
              "</div>\n",
              "\n",
              "  <div id=\"id_56496033-1dab-4cb0-9c25-29b080dee136\">\n",
              "    <style>\n",
              "      .colab-df-generate {\n",
              "        background-color: #E8F0FE;\n",
              "        border: none;\n",
              "        border-radius: 50%;\n",
              "        cursor: pointer;\n",
              "        display: none;\n",
              "        fill: #1967D2;\n",
              "        height: 32px;\n",
              "        padding: 0 0 0 0;\n",
              "        width: 32px;\n",
              "      }\n",
              "\n",
              "      .colab-df-generate:hover {\n",
              "        background-color: #E2EBFA;\n",
              "        box-shadow: 0px 1px 2px rgba(60, 64, 67, 0.3), 0px 1px 3px 1px rgba(60, 64, 67, 0.15);\n",
              "        fill: #174EA6;\n",
              "      }\n",
              "\n",
              "      [theme=dark] .colab-df-generate {\n",
              "        background-color: #3B4455;\n",
              "        fill: #D2E3FC;\n",
              "      }\n",
              "\n",
              "      [theme=dark] .colab-df-generate:hover {\n",
              "        background-color: #434B5C;\n",
              "        box-shadow: 0px 1px 3px 1px rgba(0, 0, 0, 0.15);\n",
              "        filter: drop-shadow(0px 1px 2px rgba(0, 0, 0, 0.3));\n",
              "        fill: #FFFFFF;\n",
              "      }\n",
              "    </style>\n",
              "    <button class=\"colab-df-generate\" onclick=\"generateWithVariable('results')\"\n",
              "            title=\"Generate code using this dataframe.\"\n",
              "            style=\"display:none;\">\n",
              "\n",
              "  <svg xmlns=\"http://www.w3.org/2000/svg\" height=\"24px\"viewBox=\"0 0 24 24\"\n",
              "       width=\"24px\">\n",
              "    <path d=\"M7,19H8.4L18.45,9,17,7.55,7,17.6ZM5,21V16.75L18.45,3.32a2,2,0,0,1,2.83,0l1.4,1.43a1.91,1.91,0,0,1,.58,1.4,1.91,1.91,0,0,1-.58,1.4L9.25,21ZM18.45,9,17,7.55Zm-12,3A5.31,5.31,0,0,0,4.9,8.1,5.31,5.31,0,0,0,1,6.5,5.31,5.31,0,0,0,4.9,4.9,5.31,5.31,0,0,0,6.5,1,5.31,5.31,0,0,0,8.1,4.9,5.31,5.31,0,0,0,12,6.5,5.46,5.46,0,0,0,6.5,12Z\"/>\n",
              "  </svg>\n",
              "    </button>\n",
              "    <script>\n",
              "      (() => {\n",
              "      const buttonEl =\n",
              "        document.querySelector('#id_56496033-1dab-4cb0-9c25-29b080dee136 button.colab-df-generate');\n",
              "      buttonEl.style.display =\n",
              "        google.colab.kernel.accessAllowed ? 'block' : 'none';\n",
              "\n",
              "      buttonEl.onclick = () => {\n",
              "        google.colab.notebook.generateWithVariable('results');\n",
              "      }\n",
              "      })();\n",
              "    </script>\n",
              "  </div>\n",
              "\n",
              "    </div>\n",
              "  </div>\n"
            ],
            "text/plain": [
              "       loss   trainAcc     valAcc  trainTime\n",
              "0  1.505919  95.610123  93.457924  81.046772\n",
              "1  1.488614  97.254967  96.708778  77.338516\n",
              "2  1.484931  97.621323  97.513771  73.770674\n",
              "3  1.482511  97.859436  97.650307  74.658909\n",
              "4  1.481297  97.983734  97.689095  74.430722"
            ]
          },
          "metadata": {},
          "output_type": "display_data"
        }
      ],
      "source": [
        "#KFold Results\n",
        "display(results)"
      ]
    },
    {
      "cell_type": "code",
      "execution_count": 26,
      "metadata": {
        "colab": {
          "base_uri": "https://localhost:8080/",
          "height": 400
        },
        "id": "URMvNqxqpu3H",
        "outputId": "5c81e757-6584-479b-95ff-8aac81cf4e5f"
      },
      "outputs": [
        {
          "data": {
            "image/png": "[encoded data removed]",
            "text/plain": [
              "<Figure size 1800x600 with 2 Axes>"
            ]
          },
          "metadata": {},
          "output_type": "display_data"
        }
      ],
      "source": [
        "#Visualize\n",
        "fig,ax = plt.subplots(1, 2,figsize=(18,6))\n",
        "\n",
        "ax[0].plot(results['loss'], 'g', lw = 3, label = 'Train')\n",
        "ax[0].set_xlabel('KFolds', fontsize = 15)\n",
        "ax[0].set_ylabel('Loss', fontsize = 15)\n",
        "ax[0].legend(fontsize = 15)\n",
        "ax[0].set_title(f'Training Time: {results[\"trainTime\"].sum():.2f} seconds', fontsize = 15)\n",
        "ax[0].grid(True)\n",
        "\n",
        "ax[1].plot(results['trainAcc'], label ='Train', lw = 3)\n",
        "ax[1].plot(results['valAcc'], label ='Test', lw = 3)\n",
        "ax[1].set_xlabel('KFolds', fontsize = 15)\n",
        "ax[1].set_ylabel('Accuracy (%)', fontsize = 15)\n",
        "ax[1].set_ylim([10,110])\n",
        "ax[1].set_title(f'Train Accuracy: {results[\"trainAcc\"].mean():.2f}% \\n Validation Accuracy: {results[\"valAcc\"].mean():.2f}%', fontsize = 15)\n",
        "ax[1].legend(fontsize = 15)\n",
        "\n",
        "plt.show()"
      ]
    },
    {
      "cell_type": "markdown",
      "metadata": {
        "id": "uXfkX-C6GcOt"
      },
      "source": [
        "## Final Test"
      ]
    },
    {
      "cell_type": "code",
      "execution_count": 4,
      "metadata": {
        "colab": {
          "base_uri": "https://localhost:8080/"
        },
        "id": "hQSbwPc65REQ",
        "outputId": "a59d4b9a-9499-472d-89eb-8d05426cee58"
      },
      "outputs": [
        {
          "name": "stdout",
          "output_type": "stream",
          "text": [
            "Drive already mounted at /content/drive; to attempt to forcibly remount, call drive.mount(\"/content/drive\", force_remount=True).\n"
          ]
        }
      ],
      "source": [
        "from google.colab import drive\n",
        "drive.mount('/content/drive')"
      ]
    },
    {
      "cell_type": "code",
      "execution_count": 6,
      "metadata": {
        "colab": {
          "base_uri": "https://localhost:8080/"
        },
        "id": "RawkD7fAyPQn",
        "outputId": "0f5100b8-d81e-4f19-a1ab-fbc4e1b56042"
      },
      "outputs": [
        {
          "name": "stdout",
          "output_type": "stream",
          "text": [
            "/content/drive/MyDrive/Advanced deep learning\n"
          ]
        }
      ],
      "source": [
        "%cd /content/drive/MyDrive/Advanced deep learning"
      ]
    },
    {
      "cell_type": "code",
      "execution_count": 27,
      "metadata": {
        "colab": {
          "base_uri": "https://localhost:8080/"
        },
        "id": "JfhSKCOKG7Zo",
        "outputId": "e0d3c9ca-d891-4b62-b27d-c997e41ea751"
      },
      "outputs": [
        {
          "name": "stdout",
          "output_type": "stream",
          "text": [
            "Test Samples: 10000\n"
          ]
        }
      ],
      "source": [
        "print(f\"Test Samples: {len(test_loader)}\")"
      ]
    },
    {
      "cell_type": "code",
      "execution_count": 28,
      "metadata": {
        "colab": {
          "base_uri": "https://localhost:8080/"
        },
        "id": "-qMUQsfuDd5Q",
        "outputId": "de416e99-037e-4f93-9518-71121db27759"
      },
      "outputs": [
        {
          "name": "stdout",
          "output_type": "stream",
          "text": [
            "Testset Accuracy: 88.05%\n",
            "------------------------------------------------------------\n"
          ]
        }
      ],
      "source": [
        "testAcc = model_testing(model_nn, test_loader)\n",
        "print(f'Testset Accuracy: {testAcc:.2f}%')\n",
        "print(dash_lines)"
      ]
    },
    {
      "cell_type": "markdown",
      "metadata": {
        "id": "RXr6KjLHgdrs"
      },
      "source": [
        "## Save `NN`"
      ]
    },
    {
      "cell_type": "code",
      "execution_count": 29,
      "metadata": {
        "id": "irxNSVQ4ggFW"
      },
      "outputs": [],
      "source": [
        "# Save the model\n",
        "torch.save(model_nn.state_dict(), 'Kmnist_model_rmsprop.pth')"
      ]
    },
    {
      "cell_type": "markdown",
      "metadata": {
        "id": "bNs2RtF-0cpy"
      },
      "source": [
        "# Extra --"
      ]
    },
    {
      "cell_type": "code",
      "execution_count": null,
      "metadata": {
        "id": "CufhujsIwEvD"
      },
      "outputs": [],
      "source": [
        "#NN Model Architecture - Japanise Symbols classification task\n",
        "model_seq_nn = nn.Sequential(\n",
        "    nn.Flatten(),\n",
        "    nn.Linear(784, 128, dtype=torch.float64),\n",
        "    nn.ReLU(),\n",
        "    nn.Linear(128, 64,  dtype=torch.float64),\n",
        "    nn.ReLU(),\n",
        "    nn.Linear(64, 10,  dtype=torch.float64),\n",
        "    nn.Softmax(dim=1)\n",
        ")\n",
        "\n",
        "#display\n",
        "model_seq_nn"
      ]
    },
    {
      "cell_type": "code",
      "execution_count": null,
      "metadata": {
        "id": "fl889JKu0hrS"
      },
      "outputs": [],
      "source": [
        "#Optimizer tunable*\n",
        "optimizer = optim.Adam(model_seq_nn.parameters(), lr=learning_rate)"
      ]
    },
    {
      "cell_type": "code",
      "execution_count": null,
      "metadata": {
        "id": "toht2_kCzM4W"
      },
      "outputs": [],
      "source": [
        "#Training loop\n",
        "losses = torch.zeros(num_epochs)\n",
        "trainAcc = []\n",
        "valAcc = []\n",
        "trainTime = []\n",
        "\n",
        "for epoch in range(num_epochs):\n",
        "  batchLoss=[]\n",
        "  batchtrainAcc=[]\n",
        "  batchvalAcc=[]\n",
        "\n",
        "  #training\n",
        "  start_time = time.time()\n",
        "  model.train()\n",
        "  for batch_idx, (images, labels) in enumerate(train_loader):\n",
        "    images = images.to(device)\n",
        "    labels = labels.to(device)\n",
        "\n",
        "    #forwardpass\n",
        "    ypred = model(images)\n",
        "    #loss\n",
        "    loss = lossfunc(ypred, labels)\n",
        "\n",
        "    #backpass\n",
        "    optimizer.zero_grad()\n",
        "    loss.backward()\n",
        "    optimizer.step()\n",
        "\n",
        "    #storing results\n",
        "    batchLoss.append(loss.item())\n",
        "    ypred = ypred.cpu()\n",
        "    labels = labels.cpu()\n",
        "\n",
        "    # Compute batch accuracy\n",
        "    acc = 100 * torch.mean((torch.argmax(ypred, dim=1) == labels).float())\n",
        "    batchtrainAcc.append(acc)\n",
        "\n",
        "  end_time = time.time()\n",
        "  trainTime.append(end_time - start_time)\n",
        "  # End of batch loop\n",
        "  # Compute average training accuracy and loss for this epoch\n",
        "  trainAcc.append(np.mean(batchtrainAcc))\n",
        "  losses[epoch] = np.mean(batchLoss)\n",
        "\n",
        "  #evaluate on validation set\n",
        "  model.eval()\n",
        "  for batch_idx, (X, y) in enumerate(val_loader):\n",
        "    X = X.to(device)\n",
        "    y = y.to(device)\n",
        "\n",
        "    with torch.no_grad():\n",
        "      ypred = model(X)\n",
        "      ypred = ypred.cpu()\n",
        "      y = y.cpu()\n",
        "\n",
        "      # Compute test accuracy\n",
        "      batchvalAcc.append(100 * torch.mean((torch.argmax(ypred, dim=1) == y).float()))\n",
        "\n",
        "  valAcc.append(np.mean(batchvalAcc))\n",
        "\n",
        "  # Print epoch statistics\n",
        "  print(f'Epoch: {epoch+1:>3}/{num_epochs}, Loss: {loss.item():>6.2f}, Train Accuracy: {trainAcc[-1]:>6.2f}, Validation Accuracy: {valAcc[-1]:>6.2f}')\n",
        "\n",
        "print(f'Training Time: {np.sum(trainTime):.2f} seconds')"
      ]
    },
    {
      "cell_type": "code",
      "execution_count": null,
      "metadata": {
        "id": "wPZ59e5zAZiQ"
      },
      "outputs": [],
      "source": [
        "fig,ax = plt.subplots(1,2,figsize=(18,6))\n",
        "\n",
        "ax[0].plot(losses, 'g', lw = 3, label = 'Train')\n",
        "ax[0].set_xlabel('Epochs', fontsize = 15)\n",
        "ax[0].set_ylabel('Loss', fontsize = 15)\n",
        "ax[0].legend(fontsize = 15)\n",
        "ax[0].set_title('Training Loss', fontsize = 15)\n",
        "\n",
        "ax[1].plot(trainAcc, label ='Train', lw = 3)\n",
        "ax[1].plot(valAcc, label ='Test', lw = 3)\n",
        "ax[1].set_xlabel('Epochs', fontsize = 15)\n",
        "ax[1].set_ylabel('Accuracy (%)', fontsize = 15)\n",
        "ax[1].set_ylim([10,110])\n",
        "ax[1].set_title(f'Train Accuracy: {trainAcc[-1]:.2f}% \\n Validation Accuracy: {valAcc[-1]:.2f}%', fontsize = 15)\n",
        "ax[1].legend(fontsize = 15)\n",
        "\n",
        "plt.show()"
      ]
    }
  ],
  "metadata": {
    "colab": {
      "collapsed_sections": [
        "bNs2RtF-0cpy"
      ],
      "provenance": []
    },
    "kernelspec": {
      "display_name": "Python 3",
      "name": "python3"
    },
    "language_info": {
      "name": "python"
    }
  },
  "nbformat": 4,
  "nbformat_minor": 0
}
